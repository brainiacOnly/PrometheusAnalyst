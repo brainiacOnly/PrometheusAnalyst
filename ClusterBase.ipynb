{
 "metadata": {
  "name": "",
  "signature": "sha256:0bba68ec93d562b6918599c03626330708db8600c1632dcafe5367a09c60f988"
 },
 "nbformat": 3,
 "nbformat_minor": 0,
 "worksheets": [
  {
   "cells": [
    {
     "cell_type": "code",
     "collapsed": false,
     "input": [
      "from time import time\n",
      "import numpy as np\n",
      "import xlrd\n",
      "#import openpyxl\n",
      "import pandas as pd\n",
      "import matplotlib.pyplot as plt\n",
      "\n",
      "from sklearn import metrics\n",
      "from sklearn.cluster import KMeans\n",
      "from sklearn.datasets import load_digits\n",
      "from sklearn.decomposition import PCA\n",
      "from sklearn.preprocessing import scale"
     ],
     "language": "python",
     "metadata": {},
     "outputs": [],
     "prompt_number": 29
    },
    {
     "cell_type": "code",
     "collapsed": false,
     "input": [
      "xlsfile = pd.ExcelFile('dataset.xls')\n",
      "data = xlsfile.parse('Training_Data')"
     ],
     "language": "python",
     "metadata": {},
     "outputs": [],
     "prompt_number": 30
    },
    {
     "cell_type": "code",
     "collapsed": false,
     "input": [
      "data = data.drop(data.columns[[5,6,7,8]],axis=1)\n",
      "data.head(5)"
     ],
     "language": "python",
     "metadata": {},
     "outputs": [
      {
       "html": [
        "<div style=\"max-height:1000px;max-width:1500px;overflow:auto;\">\n",
        "<table border=\"1\" class=\"dataframe\">\n",
        "  <thead>\n",
        "    <tr style=\"text-align: right;\">\n",
        "      <th></th>\n",
        "      <th>STG</th>\n",
        "      <th>SCG</th>\n",
        "      <th>STR</th>\n",
        "      <th>LPR</th>\n",
        "      <th>PEG</th>\n",
        "    </tr>\n",
        "  </thead>\n",
        "  <tbody>\n",
        "    <tr>\n",
        "      <th>0</th>\n",
        "      <td> 0.00</td>\n",
        "      <td> 0.00</td>\n",
        "      <td> 0.00</td>\n",
        "      <td> 0.00</td>\n",
        "      <td> 0.00</td>\n",
        "    </tr>\n",
        "    <tr>\n",
        "      <th>1</th>\n",
        "      <td> 0.08</td>\n",
        "      <td> 0.08</td>\n",
        "      <td> 0.10</td>\n",
        "      <td> 0.24</td>\n",
        "      <td> 0.90</td>\n",
        "    </tr>\n",
        "    <tr>\n",
        "      <th>2</th>\n",
        "      <td> 0.06</td>\n",
        "      <td> 0.06</td>\n",
        "      <td> 0.05</td>\n",
        "      <td> 0.25</td>\n",
        "      <td> 0.33</td>\n",
        "    </tr>\n",
        "    <tr>\n",
        "      <th>3</th>\n",
        "      <td> 0.10</td>\n",
        "      <td> 0.10</td>\n",
        "      <td> 0.15</td>\n",
        "      <td> 0.65</td>\n",
        "      <td> 0.30</td>\n",
        "    </tr>\n",
        "    <tr>\n",
        "      <th>4</th>\n",
        "      <td> 0.08</td>\n",
        "      <td> 0.08</td>\n",
        "      <td> 0.08</td>\n",
        "      <td> 0.98</td>\n",
        "      <td> 0.24</td>\n",
        "    </tr>\n",
        "  </tbody>\n",
        "</table>\n",
        "</div>"
       ],
       "metadata": {},
       "output_type": "pyout",
       "prompt_number": 31,
       "text": [
        "    STG   SCG   STR   LPR   PEG\n",
        "0  0.00  0.00  0.00  0.00  0.00\n",
        "1  0.08  0.08  0.10  0.24  0.90\n",
        "2  0.06  0.06  0.05  0.25  0.33\n",
        "3  0.10  0.10  0.15  0.65  0.30\n",
        "4  0.08  0.08  0.08  0.98  0.24"
       ]
      }
     ],
     "prompt_number": 31
    }
   ],
   "metadata": {}
  }
 ]
}