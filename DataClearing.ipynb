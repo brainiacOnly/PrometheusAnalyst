{
 "metadata": {
  "name": "",
  "signature": "sha256:990de016690efef25df9f2199bfa6cbca2f2c1e832f026c566f16d483b7770d5"
 },
 "nbformat": 3,
 "nbformat_minor": 0,
 "worksheets": [
  {
   "cells": [
    {
     "cell_type": "code",
     "collapsed": false,
     "input": [
      "import pandas as pd\n",
      "import numpy as np\n",
      "from datetime import datetime\n",
      "import matplotlib.pyplot as plt\n",
      "import dateutil.parser"
     ],
     "language": "python",
     "metadata": {},
     "outputs": [],
     "prompt_number": 4
    },
    {
     "cell_type": "code",
     "collapsed": false,
     "input": [
      "studentmodule = pd.read_csv(\"PrometheusFinManagement/courseware_studentmodule.csv\",quotechar='\"',skipinitialspace=True,escapechar='\\\\')\n",
      "studentmodulehistory = pd.read_csv(\"PrometheusFinManagement/courseware_studentmodulehistory.csv\",quotechar='\"',skipinitialspace=True,escapechar='\\\\')"
     ],
     "language": "python",
     "metadata": {},
     "outputs": [],
     "prompt_number": 2
    },
    {
     "cell_type": "code",
     "collapsed": false,
     "input": [
      "matherials = pd.read_json('PrometheusFinManagement/finman.json')"
     ],
     "language": "python",
     "metadata": {},
     "outputs": [],
     "prompt_number": 12
    },
    {
     "cell_type": "code",
     "collapsed": false,
     "input": [
      "buf = pd.Series([i['category'] for i in matherials._id.values])\n",
      "buf.groupby(buf.values).count()"
     ],
     "language": "python",
     "metadata": {},
     "outputs": [
      {
       "metadata": {},
       "output_type": "pyout",
       "prompt_number": 34,
       "text": [
        "about           3\n",
        "chapter         9\n",
        "course          1\n",
        "course_info     2\n",
        "discussion     33\n",
        "html           46\n",
        "problem         9\n",
        "sequential     22\n",
        "vertical       46\n",
        "video          14\n",
        "dtype: int64"
       ]
      }
     ],
     "prompt_number": 34
    },
    {
     "cell_type": "code",
     "collapsed": false,
     "input": [
      "#get information about video\n",
      "ids =[i['category'] for i in matherials._id.values] \n",
      "ids = [i for i in range(0,len(ids)) if ids[i] == 'video']\n",
      "video = matherials.loc[ids]#._id.head(1)[10]\n",
      "video.head(1).edit_info[10]"
     ],
     "language": "python",
     "metadata": {},
     "outputs": [
      {
       "metadata": {},
       "output_type": "pyout",
       "prompt_number": 59,
       "text": [
        "{u'edited_by': u'NumberLong(9)',\n",
        " u'edited_on': u'2014-11-26T00:32:00.154Z',\n",
        " u'published_by': u'NumberLong(9)',\n",
        " u'published_date': u'2014-11-26T00:32:00.154Z',\n",
        " u'subtree_edited_by': u'NumberLong(9)',\n",
        " u'subtree_edited_on': u'2014-11-26T00:32:00.154Z'}"
       ]
      }
     ],
     "prompt_number": 59
    },
    {
     "cell_type": "code",
     "collapsed": false,
     "input": [
      "video.tail(1).index"
     ],
     "language": "python",
     "metadata": {},
     "outputs": [
      {
       "metadata": {},
       "output_type": "pyout",
       "prompt_number": 66,
       "text": [
        "Int64Index([170], dtype='int64')"
       ]
      }
     ],
     "prompt_number": 66
    },
    {
     "cell_type": "code",
     "collapsed": false,
     "input": [
      "video['module_id'] = pd.Series(['i4x://' + i[1]._id['org'] + '/' + \\\n",
      "                                      i[1]._id['course'] + '/' + \\\n",
      "                                      i[1]._id['category'] + '/' + \\\n",
      "                                      i[1]._id['name'] \\\n",
      "                                      for i in video.iterrows()], \\\n",
      "                                     index=video.index) \n",
      "videodata = video[['module_id','edit_info']]\n",
      "videodata['published_date'] = pd.Series([dateutil.parser.parse(i[1].edit_info['published_date']).replace(tzinfo=None) for i in video.iterrows()],index=videodata.index)\n",
      "videodata = videodata.drop('edit_info',axis=1)\n",
      "sm = pd.merge(studentmodule[studentmodule.module_type == 'video'],videodata,how='left',on='module_id')"
     ],
     "language": "python",
     "metadata": {},
     "outputs": [],
     "prompt_number": 118
    },
    {
     "cell_type": "code",
     "collapsed": false,
     "input": [
      "sm.created = pd.Series([datetime.strptime(row['created'],\"%Y-%m-%d %H:%M:%S\") for index, row in sm.iterrows()],index=sm.index)\n",
      "sm.modified = pd.Series([datetime.strptime(row['modified'],\"%Y-%m-%d %H:%M:%S\") for index, row in sm.iterrows()],index=sm.index)\n",
      "\n",
      "sm.head(1)"
     ],
     "language": "python",
     "metadata": {},
     "outputs": [
      {
       "html": [
        "<div style=\"max-height:1000px;max-width:1500px;overflow:auto;\">\n",
        "<table border=\"1\" class=\"dataframe\">\n",
        "  <thead>\n",
        "    <tr style=\"text-align: right;\">\n",
        "      <th></th>\n",
        "      <th>id</th>\n",
        "      <th>module_type</th>\n",
        "      <th>module_id</th>\n",
        "      <th>student_id</th>\n",
        "      <th>state</th>\n",
        "      <th>grade</th>\n",
        "      <th>created</th>\n",
        "      <th>modified</th>\n",
        "      <th>max_grade</th>\n",
        "      <th>done</th>\n",
        "      <th>course_id</th>\n",
        "      <th>published_date</th>\n",
        "    </tr>\n",
        "  </thead>\n",
        "  <tbody>\n",
        "    <tr>\n",
        "      <th>0</th>\n",
        "      <td> 4134</td>\n",
        "      <td> video</td>\n",
        "      <td> i4x://NAUKMA/101/video/236df60373f1435cb1720c9...</td>\n",
        "      <td> 8</td>\n",
        "      <td> {\"speed\": 1.0, \"saved_video_position\": \"00:06:...</td>\n",
        "      <td>NaN</td>\n",
        "      <td>2014-11-01 14:10:16</td>\n",
        "      <td>2014-11-24 12:27:04</td>\n",
        "      <td>NaN</td>\n",
        "      <td> na</td>\n",
        "      <td> NAUKMA/101/2014_T2</td>\n",
        "      <td>2014-11-26 00:30:37.742000</td>\n",
        "    </tr>\n",
        "  </tbody>\n",
        "</table>\n",
        "</div>"
       ],
       "metadata": {},
       "output_type": "pyout",
       "prompt_number": 119,
       "text": [
        "     id module_type                                          module_id  \\\n",
        "0  4134       video  i4x://NAUKMA/101/video/236df60373f1435cb1720c9...   \n",
        "\n",
        "   student_id                                              state  grade  \\\n",
        "0           8  {\"speed\": 1.0, \"saved_video_position\": \"00:06:...    NaN   \n",
        "\n",
        "              created            modified  max_grade done           course_id  \\\n",
        "0 2014-11-01 14:10:16 2014-11-24 12:27:04        NaN   na  NAUKMA/101/2014_T2   \n",
        "\n",
        "              published_date  \n",
        "0 2014-11-26 00:30:37.742000  "
       ]
      }
     ],
     "prompt_number": 119
    },
    {
     "cell_type": "code",
     "collapsed": false,
     "input": [
      "sm['cre_pub_diff'] = pd.Series(sm.created - sm.published_date, index=sm.index)\n",
      "sm['mod_pub_diff'] = pd.Series(sm.modified - sm.published_date, index=sm.index)"
     ],
     "language": "python",
     "metadata": {},
     "outputs": [],
     "prompt_number": 130
    },
    {
     "cell_type": "code",
     "collapsed": false,
     "input": [
      "print 'percent of created-published ',len(sm[sm.cre_pub_diff > 0])/len(sm)\n",
      "print 'percent of modified-published ',len(sm[sm.mod_pub_diff > 0])/len(sm)"
     ],
     "language": "python",
     "metadata": {},
     "outputs": [
      {
       "output_type": "stream",
       "stream": "stdout",
       "text": [
        "percent of created-published  "
       ]
      },
      {
       "output_type": "stream",
       "stream": "stdout",
       "text": [
        "0\n",
        "percent of modified-published  0\n"
       ]
      }
     ],
     "prompt_number": 132
    },
    {
     "cell_type": "code",
     "collapsed": false,
     "input": [
      "sm.sort(['cre_pub_diff'],ascending=1).head(5)"
     ],
     "language": "python",
     "metadata": {},
     "outputs": [
      {
       "html": [
        "<div style=\"max-height:1000px;max-width:1500px;overflow:auto;\">\n",
        "<table border=\"1\" class=\"dataframe\">\n",
        "  <thead>\n",
        "    <tr style=\"text-align: right;\">\n",
        "      <th></th>\n",
        "      <th>id</th>\n",
        "      <th>module_type</th>\n",
        "      <th>module_id</th>\n",
        "      <th>student_id</th>\n",
        "      <th>state</th>\n",
        "      <th>grade</th>\n",
        "      <th>created</th>\n",
        "      <th>modified</th>\n",
        "      <th>max_grade</th>\n",
        "      <th>done</th>\n",
        "      <th>course_id</th>\n",
        "      <th>published_date</th>\n",
        "      <th>cre_pub_diff</th>\n",
        "      <th>mod_pub_diff</th>\n",
        "    </tr>\n",
        "  </thead>\n",
        "  <tbody>\n",
        "    <tr>\n",
        "      <th>37687</th>\n",
        "      <td> 60135</td>\n",
        "      <td> video</td>\n",
        "      <td> i4x://NAUKMA/101/video/e7aee4453a9346ca8c286f1...</td>\n",
        "      <td>  3878</td>\n",
        "      <td>              {\"saved_video_position\": \"00:19:28\"}</td>\n",
        "      <td>NaN</td>\n",
        "      <td>2014-11-16 22:09:03</td>\n",
        "      <td>2014-11-19 09:11:01</td>\n",
        "      <td>NaN</td>\n",
        "      <td> na</td>\n",
        "      <td> NAUKMA/101/2014_T2</td>\n",
        "      <td>2015-01-11 17:41:17.228000</td>\n",
        "      <td>-55 days, 19:32:14.228000</td>\n",
        "      <td>-53 days, 08:30:16.228000</td>\n",
        "    </tr>\n",
        "    <tr>\n",
        "      <th>37688</th>\n",
        "      <td> 65542</td>\n",
        "      <td> video</td>\n",
        "      <td> i4x://NAUKMA/101/video/e7aee4453a9346ca8c286f1...</td>\n",
        "      <td>     8</td>\n",
        "      <td>              {\"saved_video_position\": \"00:00:00\"}</td>\n",
        "      <td>NaN</td>\n",
        "      <td>2014-11-18 10:03:02</td>\n",
        "      <td>2014-11-18 10:03:02</td>\n",
        "      <td>NaN</td>\n",
        "      <td> na</td>\n",
        "      <td> NAUKMA/101/2014_T2</td>\n",
        "      <td>2015-01-11 17:41:17.228000</td>\n",
        "      <td>-54 days, 07:38:15.228000</td>\n",
        "      <td>-54 days, 07:38:15.228000</td>\n",
        "    </tr>\n",
        "    <tr>\n",
        "      <th>33108</th>\n",
        "      <td> 58342</td>\n",
        "      <td> video</td>\n",
        "      <td> i4x://NAUKMA/101/video/952a210abada4c3db498168...</td>\n",
        "      <td>   535</td>\n",
        "      <td>              {\"saved_video_position\": \"00:28:40\"}</td>\n",
        "      <td>NaN</td>\n",
        "      <td>2014-11-16 17:37:12</td>\n",
        "      <td>2014-11-16 18:49:29</td>\n",
        "      <td>NaN</td>\n",
        "      <td> na</td>\n",
        "      <td> NAUKMA/101/2014_T2</td>\n",
        "      <td>2015-01-09 21:36:31.553000</td>\n",
        "      <td>-54 days, 03:59:19.553000</td>\n",
        "      <td>-54 days, 02:47:02.553000</td>\n",
        "    </tr>\n",
        "    <tr>\n",
        "      <th>33109</th>\n",
        "      <td> 59061</td>\n",
        "      <td> video</td>\n",
        "      <td> i4x://NAUKMA/101/video/952a210abada4c3db498168...</td>\n",
        "      <td>  3878</td>\n",
        "      <td> {\"speed\": 1.25, \"saved_video_position\": \"00:00...</td>\n",
        "      <td>NaN</td>\n",
        "      <td>2014-11-16 19:33:10</td>\n",
        "      <td>2014-11-19 16:03:38</td>\n",
        "      <td>NaN</td>\n",
        "      <td> na</td>\n",
        "      <td> NAUKMA/101/2014_T2</td>\n",
        "      <td>2015-01-09 21:36:31.553000</td>\n",
        "      <td>-54 days, 02:03:21.553000</td>\n",
        "      <td>-51 days, 05:32:53.553000</td>\n",
        "    </tr>\n",
        "    <tr>\n",
        "      <th>33110</th>\n",
        "      <td> 60588</td>\n",
        "      <td> video</td>\n",
        "      <td> i4x://NAUKMA/101/video/952a210abada4c3db498168...</td>\n",
        "      <td> 22903</td>\n",
        "      <td>              {\"saved_video_position\": \"00:28:40\"}</td>\n",
        "      <td>NaN</td>\n",
        "      <td>2014-11-17 06:37:17</td>\n",
        "      <td>2014-11-26 17:46:06</td>\n",
        "      <td>NaN</td>\n",
        "      <td> na</td>\n",
        "      <td> NAUKMA/101/2014_T2</td>\n",
        "      <td>2015-01-09 21:36:31.553000</td>\n",
        "      <td>-53 days, 14:59:14.553000</td>\n",
        "      <td>-44 days, 03:50:25.553000</td>\n",
        "    </tr>\n",
        "  </tbody>\n",
        "</table>\n",
        "</div>"
       ],
       "metadata": {},
       "output_type": "pyout",
       "prompt_number": 137,
       "text": [
        "          id module_type                                          module_id  \\\n",
        "37687  60135       video  i4x://NAUKMA/101/video/e7aee4453a9346ca8c286f1...   \n",
        "37688  65542       video  i4x://NAUKMA/101/video/e7aee4453a9346ca8c286f1...   \n",
        "33108  58342       video  i4x://NAUKMA/101/video/952a210abada4c3db498168...   \n",
        "33109  59061       video  i4x://NAUKMA/101/video/952a210abada4c3db498168...   \n",
        "33110  60588       video  i4x://NAUKMA/101/video/952a210abada4c3db498168...   \n",
        "\n",
        "       student_id                                              state  grade  \\\n",
        "37687        3878               {\"saved_video_position\": \"00:19:28\"}    NaN   \n",
        "37688           8               {\"saved_video_position\": \"00:00:00\"}    NaN   \n",
        "33108         535               {\"saved_video_position\": \"00:28:40\"}    NaN   \n",
        "33109        3878  {\"speed\": 1.25, \"saved_video_position\": \"00:00...    NaN   \n",
        "33110       22903               {\"saved_video_position\": \"00:28:40\"}    NaN   \n",
        "\n",
        "                  created            modified  max_grade done  \\\n",
        "37687 2014-11-16 22:09:03 2014-11-19 09:11:01        NaN   na   \n",
        "37688 2014-11-18 10:03:02 2014-11-18 10:03:02        NaN   na   \n",
        "33108 2014-11-16 17:37:12 2014-11-16 18:49:29        NaN   na   \n",
        "33109 2014-11-16 19:33:10 2014-11-19 16:03:38        NaN   na   \n",
        "33110 2014-11-17 06:37:17 2014-11-26 17:46:06        NaN   na   \n",
        "\n",
        "                course_id             published_date  \\\n",
        "37687  NAUKMA/101/2014_T2 2015-01-11 17:41:17.228000   \n",
        "37688  NAUKMA/101/2014_T2 2015-01-11 17:41:17.228000   \n",
        "33108  NAUKMA/101/2014_T2 2015-01-09 21:36:31.553000   \n",
        "33109  NAUKMA/101/2014_T2 2015-01-09 21:36:31.553000   \n",
        "33110  NAUKMA/101/2014_T2 2015-01-09 21:36:31.553000   \n",
        "\n",
        "                   cre_pub_diff              mod_pub_diff  \n",
        "37687 -55 days, 19:32:14.228000 -53 days, 08:30:16.228000  \n",
        "37688 -54 days, 07:38:15.228000 -54 days, 07:38:15.228000  \n",
        "33108 -54 days, 03:59:19.553000 -54 days, 02:47:02.553000  \n",
        "33109 -54 days, 02:03:21.553000 -51 days, 05:32:53.553000  \n",
        "33110 -53 days, 14:59:14.553000 -44 days, 03:50:25.553000  "
       ]
      }
     ],
     "prompt_number": 137
    },
    {
     "cell_type": "code",
     "collapsed": false,
     "input": [
      "videodata"
     ],
     "language": "python",
     "metadata": {},
     "outputs": [
      {
       "html": [
        "<div style=\"max-height:1000px;max-width:1500px;overflow:auto;\">\n",
        "<table border=\"1\" class=\"dataframe\">\n",
        "  <thead>\n",
        "    <tr style=\"text-align: right;\">\n",
        "      <th></th>\n",
        "      <th>module_id</th>\n",
        "      <th>published_date</th>\n",
        "    </tr>\n",
        "  </thead>\n",
        "  <tbody>\n",
        "    <tr>\n",
        "      <th>10 </th>\n",
        "      <td> i4x://NAUKMA/101/video/788197a3b7144715a5216ba...</td>\n",
        "      <td>2014-11-26 00:32:00.154000</td>\n",
        "    </tr>\n",
        "    <tr>\n",
        "      <th>14 </th>\n",
        "      <td> i4x://NAUKMA/101/video/236df60373f1435cb1720c9...</td>\n",
        "      <td>2014-11-26 00:30:37.742000</td>\n",
        "    </tr>\n",
        "    <tr>\n",
        "      <th>20 </th>\n",
        "      <td> i4x://NAUKMA/101/video/fcca0e9d19ae404492e5af8...</td>\n",
        "      <td>2014-11-26 00:33:26.985000</td>\n",
        "    </tr>\n",
        "    <tr>\n",
        "      <th>63 </th>\n",
        "      <td> i4x://NAUKMA/101/video/f6a62c8786d446b5b6d29ed...</td>\n",
        "      <td>2014-11-26 00:37:08.325000</td>\n",
        "    </tr>\n",
        "    <tr>\n",
        "      <th>69 </th>\n",
        "      <td> i4x://NAUKMA/101/video/7a0f35345cde4129ae4ffb1...</td>\n",
        "      <td>2014-11-26 00:37:57.300000</td>\n",
        "    </tr>\n",
        "    <tr>\n",
        "      <th>96 </th>\n",
        "      <td> i4x://NAUKMA/101/video/17761d318ef0454a98e2639...</td>\n",
        "      <td>2014-12-03 14:58:13.118000</td>\n",
        "    </tr>\n",
        "    <tr>\n",
        "      <th>99 </th>\n",
        "      <td> i4x://NAUKMA/101/video/4b840574d74445eb9e6e3bc...</td>\n",
        "      <td>2014-12-03 00:14:21.489000</td>\n",
        "    </tr>\n",
        "    <tr>\n",
        "      <th>109</th>\n",
        "      <td> i4x://NAUKMA/101/video/236df60373f1435cb1720c9...</td>\n",
        "      <td>2014-11-26 00:30:37.742000</td>\n",
        "    </tr>\n",
        "    <tr>\n",
        "      <th>114</th>\n",
        "      <td> i4x://NAUKMA/101/video/691e852a2ffc4e12905a8af...</td>\n",
        "      <td>2014-12-10 22:41:29.038000</td>\n",
        "    </tr>\n",
        "    <tr>\n",
        "      <th>117</th>\n",
        "      <td> i4x://NAUKMA/101/video/6358a78f57c348269825f9c...</td>\n",
        "      <td>2014-12-10 22:40:05.280000</td>\n",
        "    </tr>\n",
        "    <tr>\n",
        "      <th>136</th>\n",
        "      <td> i4x://NAUKMA/101/video/4353e013edb846bc99ade3f...</td>\n",
        "      <td>2014-12-17 21:18:53.819000</td>\n",
        "    </tr>\n",
        "    <tr>\n",
        "      <th>142</th>\n",
        "      <td> i4x://NAUKMA/101/video/41945e856ee6431a83ed104...</td>\n",
        "      <td>2014-12-17 21:17:28.085000</td>\n",
        "    </tr>\n",
        "    <tr>\n",
        "      <th>166</th>\n",
        "      <td> i4x://NAUKMA/101/video/952a210abada4c3db498168...</td>\n",
        "      <td>2015-01-09 21:36:31.553000</td>\n",
        "    </tr>\n",
        "    <tr>\n",
        "      <th>170</th>\n",
        "      <td> i4x://NAUKMA/101/video/e7aee4453a9346ca8c286f1...</td>\n",
        "      <td>2015-01-11 17:41:17.228000</td>\n",
        "    </tr>\n",
        "  </tbody>\n",
        "</table>\n",
        "</div>"
       ],
       "metadata": {},
       "output_type": "pyout",
       "prompt_number": 140,
       "text": [
        "                                             module_id  \\\n",
        "10   i4x://NAUKMA/101/video/788197a3b7144715a5216ba...   \n",
        "14   i4x://NAUKMA/101/video/236df60373f1435cb1720c9...   \n",
        "20   i4x://NAUKMA/101/video/fcca0e9d19ae404492e5af8...   \n",
        "63   i4x://NAUKMA/101/video/f6a62c8786d446b5b6d29ed...   \n",
        "69   i4x://NAUKMA/101/video/7a0f35345cde4129ae4ffb1...   \n",
        "96   i4x://NAUKMA/101/video/17761d318ef0454a98e2639...   \n",
        "99   i4x://NAUKMA/101/video/4b840574d74445eb9e6e3bc...   \n",
        "109  i4x://NAUKMA/101/video/236df60373f1435cb1720c9...   \n",
        "114  i4x://NAUKMA/101/video/691e852a2ffc4e12905a8af...   \n",
        "117  i4x://NAUKMA/101/video/6358a78f57c348269825f9c...   \n",
        "136  i4x://NAUKMA/101/video/4353e013edb846bc99ade3f...   \n",
        "142  i4x://NAUKMA/101/video/41945e856ee6431a83ed104...   \n",
        "166  i4x://NAUKMA/101/video/952a210abada4c3db498168...   \n",
        "170  i4x://NAUKMA/101/video/e7aee4453a9346ca8c286f1...   \n",
        "\n",
        "                published_date  \n",
        "10  2014-11-26 00:32:00.154000  \n",
        "14  2014-11-26 00:30:37.742000  \n",
        "20  2014-11-26 00:33:26.985000  \n",
        "63  2014-11-26 00:37:08.325000  \n",
        "69  2014-11-26 00:37:57.300000  \n",
        "96  2014-12-03 14:58:13.118000  \n",
        "99  2014-12-03 00:14:21.489000  \n",
        "109 2014-11-26 00:30:37.742000  \n",
        "114 2014-12-10 22:41:29.038000  \n",
        "117 2014-12-10 22:40:05.280000  \n",
        "136 2014-12-17 21:18:53.819000  \n",
        "142 2014-12-17 21:17:28.085000  \n",
        "166 2015-01-09 21:36:31.553000  \n",
        "170 2015-01-11 17:41:17.228000  "
       ]
      }
     ],
     "prompt_number": 140
    },
    {
     "cell_type": "code",
     "collapsed": false,
     "input": [
      "bad1 = videodata.loc[166].module_id\n",
      "bad2 = videodata.loc[170].module_id"
     ],
     "language": "python",
     "metadata": {},
     "outputs": [],
     "prompt_number": 150
    },
    {
     "cell_type": "code",
     "collapsed": false,
     "input": [
      "float(len(sm[sm.module_id == bad1]) + len(sm[sm.module_id == bad2]))/len(sm)"
     ],
     "language": "python",
     "metadata": {},
     "outputs": [
      {
       "metadata": {},
       "output_type": "pyout",
       "prompt_number": 155,
       "text": [
        "0.1458777572705933"
       ]
      }
     ],
     "prompt_number": 155
    },
    {
     "cell_type": "code",
     "collapsed": false,
     "input": [
      "len(sm)"
     ],
     "language": "python",
     "metadata": {},
     "outputs": [
      {
       "metadata": {},
       "output_type": "pyout",
       "prompt_number": 153,
       "text": [
        "55807"
       ]
      }
     ],
     "prompt_number": 153
    },
    {
     "cell_type": "code",
     "collapsed": false,
     "input": [],
     "language": "python",
     "metadata": {},
     "outputs": []
    }
   ],
   "metadata": {}
  }
 ]
}