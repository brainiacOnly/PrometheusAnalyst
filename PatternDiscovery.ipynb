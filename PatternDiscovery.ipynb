{
 "metadata": {
  "name": "",
  "signature": "sha256:a9c893032e38266098e97ecba6a7cfdf994b15ccc7486547dc0f52f6e01dec28"
 },
 "nbformat": 3,
 "nbformat_minor": 0,
 "worksheets": [
  {
   "cells": [
    {
     "cell_type": "code",
     "collapsed": false,
     "input": [
      "from time import time\n",
      "import numpy as np\n",
      "import pandas as pd\n",
      "import dateutil\n",
      "import matplotlib.pyplot as plt\n",
      "from matplotlib import cm\n",
      "import datetime\n",
      "from datetime import timedelta\n",
      "\n",
      "from sklearn import metrics\n",
      "from sklearn.decomposition import PCA\n",
      "from scipy.cluster.vq import kmeans\n",
      "from scipy.spatial.distance import cdist,pdist\n",
      "from sklearn import cluster\n",
      "from sklearn.neighbors import kneighbors_graph\n",
      "from sklearn.preprocessing import StandardScaler\n",
      "\n",
      "from IPython.display import Image"
     ],
     "language": "python",
     "metadata": {},
     "outputs": [],
     "prompt_number": 1
    },
    {
     "cell_type": "code",
     "collapsed": false,
     "input": [
      "sm = pd.read_csv(\"PrometheusHistory/studentmodule_with_dates.csv\",quotechar='\"',skipinitialspace=True,escapechar='\\\\').drop(['Unnamed: 0'],1)\n",
      "users = pd.read_csv(\"PrometheusHistory/auth_userprofile.csv\",quotechar='\"',skipinitialspace=True,escapechar='\\\\')\n",
      "cert = pd.read_csv(\"PrometheusHistory/certificates_generatedcertificate.csv\",quotechar='\"',skipinitialspace=True,escapechar='\\\\')\n",
      "\n",
      "sm.created = sm.created.apply(lambda x: dateutil.parser.parse(x).replace(tzinfo=None))\n",
      "sm.modified = sm.modified.apply(lambda x: dateutil.parser.parse(x).replace(tzinfo=None))\n",
      "sm.publish_date = sm.publish_date.apply(lambda x: dateutil.parser.parse(x).replace(tzinfo=None))\n",
      "sm = sm.rename(columns={'student_id':'user_id'})\n",
      "users = users.drop(['language','location'],1)"
     ],
     "language": "python",
     "metadata": {},
     "outputs": [],
     "prompt_number": 2
    },
    {
     "cell_type": "code",
     "collapsed": false,
     "input": [
      "smh = pd.read_csv(\"PrometheusHistory/courseware_studentmodulehistory.csv\",quotechar='\"',skipinitialspace=True,escapechar='\\\\')"
     ],
     "language": "python",
     "metadata": {},
     "outputs": [],
     "prompt_number": 3
    },
    {
     "cell_type": "heading",
     "level": 3,
     "metadata": {},
     "source": [
      "#1 Slice data by date"
     ]
    },
    {
     "cell_type": "code",
     "collapsed": false,
     "input": [
      "def sliceUsers(sm, days):\n",
      "    if type(sm.iloc[1].time_diff) is np.timedelta64:\n",
      "        sm.time_diff = sm.time_diff.apply(lambda x: x/np.timedelta64(1, 'D'))\n",
      "    min_entrance = sm.groupby('user_id').apply(lambda x: x.sort('created').head(1))\n",
      "    min_entrance = min_entrance[min_entrance.time_diff <= days]\n",
      "    first_users = min_entrance.user_id.tolist()\n",
      "    first_sm = sm[sm.user_id.isin(first_users)]\n",
      "    last_sm = sm[~sm.user_id.isin(first_users)]\n",
      "    \n",
      "    return first_sm, last_sm"
     ],
     "language": "python",
     "metadata": {},
     "outputs": [],
     "prompt_number": 45
    },
    {
     "cell_type": "heading",
     "level": 3,
     "metadata": {},
     "source": [
      "#2 Features based on average time that was spent after publication(video and problem)"
     ]
    },
    {
     "cell_type": "code",
     "collapsed": false,
     "input": [
      "def getAverageFeatures(sm):\n",
      "    sm['time_diff'] = sm.created - sm.publish_date\n",
      "    sm = sm[sm.time_diff >= 0]\n",
      "    sm.time_diff = sm.time_diff.apply(lambda x: x/np.timedelta64(1, 'D'))\n",
      "    sm_videos = sm[sm.module_type == 'video']\n",
      "    sm_problems = sm[sm.module_type=='problem']\n",
      "    \n",
      "    videos = sm_videos.groupby('user_id')['time_diff'].mean()\n",
      "    problems = sm_problems.groupby('user_id')['time_diff'].mean()\n",
      "    \n",
      "    return pd.concat([videos,problems],axis=1,keys=['video_mean','problem_mean']).fillna(0)"
     ],
     "language": "python",
     "metadata": {},
     "outputs": [],
     "prompt_number": 16
    },
    {
     "cell_type": "heading",
     "level": 3,
     "metadata": {},
     "source": [
      "#3 Features based on every time interval that was spent after publication(video and problem)"
     ]
    },
    {
     "cell_type": "code",
     "collapsed": false,
     "input": [
      "def getIntervalByModuleFeatures(sm):\n",
      "    return sm.pivot(index='user_id',columns='module_id',values='time_diff')"
     ],
     "language": "python",
     "metadata": {},
     "outputs": [],
     "prompt_number": 65
    },
    {
     "cell_type": "heading",
     "level": 3,
     "metadata": {},
     "source": [
      "#4 Features based on problem result"
     ]
    },
    {
     "cell_type": "code",
     "collapsed": false,
     "input": [
      "a = sm[sm.module_type == 'problem'][sm.user_id == 161]"
     ],
     "language": "python",
     "metadata": {},
     "outputs": [],
     "prompt_number": 101
    },
    {
     "cell_type": "code",
     "collapsed": false,
     "input": [
      "def getProblemResultFeatures(sm,smh):\n",
      "    cols = []\n",
      "    count = len(sm)\n",
      "    \n",
      "    for i in range(len(sm[sm.module_type == 'problem'].module_id.unique())):\n",
      "        cols.append('problem-{0}-1'.format(i))\n",
      "        cols.append('problem-{0}-2'.format(i))\n",
      "        cols.append('problem-{0}-3'.format(i))\n",
      "    \n",
      "    problems = sm[sm.module_type == 'problem'].module_id.unique()\n",
      "    users = sm.user_id.unique()\n",
      "    features = pd.DataFrame(index=pd.MultiIndex.from_product([users,problems],names=['user_id','module_id']),columns=['attempt1','attempt2','attempt3'])\n",
      "    \n",
      "    for index, row in sm.iterrows():\n",
      "        grades = smh[smh.student_module_id == row[0]].grade\n",
      "        grades = grades[~grades.isnull()]\n",
      "        grades = pd.DataFrame(grades,index=grades.index).drop_duplicates().grade.tolist()\n",
      "        \n",
      "        while len(grades) < 3:\n",
      "            grades.append(grades[-1])\n",
      "        features.loc[row[3],row[2]] = grades\n",
      "    \n",
      "    stacked = features.stack()\n",
      "    wtf = stacked.unstack(['user_id']).T\n",
      "    return pd.DataFrame(map(lambda x: x[::-1],np.array(wtf.values)),index=wtf.index,columns=cols)"
     ],
     "language": "python",
     "metadata": {},
     "outputs": [],
     "prompt_number": 329
    },
    {
     "cell_type": "code",
     "collapsed": false,
     "input": [
      "getProblemResultFeatures(a,smh)"
     ],
     "language": "python",
     "metadata": {},
     "outputs": [
      {
       "html": [
        "<div style=\"max-height:1000px;max-width:1500px;overflow:auto;\">\n",
        "<table border=\"1\" class=\"dataframe\">\n",
        "  <thead>\n",
        "    <tr style=\"text-align: right;\">\n",
        "      <th></th>\n",
        "      <th>problem-0-1</th>\n",
        "      <th>problem-0-2</th>\n",
        "      <th>problem-0-3</th>\n",
        "      <th>problem-1-1</th>\n",
        "      <th>problem-1-2</th>\n",
        "      <th>problem-1-3</th>\n",
        "      <th>problem-2-1</th>\n",
        "      <th>problem-2-2</th>\n",
        "      <th>problem-2-3</th>\n",
        "      <th>problem-3-1</th>\n",
        "      <th>...</th>\n",
        "      <th>problem-3-3</th>\n",
        "      <th>problem-4-1</th>\n",
        "      <th>problem-4-2</th>\n",
        "      <th>problem-4-3</th>\n",
        "      <th>problem-5-1</th>\n",
        "      <th>problem-5-2</th>\n",
        "      <th>problem-5-3</th>\n",
        "      <th>problem-6-1</th>\n",
        "      <th>problem-6-2</th>\n",
        "      <th>problem-6-3</th>\n",
        "    </tr>\n",
        "    <tr>\n",
        "      <th>user_id</th>\n",
        "      <th></th>\n",
        "      <th></th>\n",
        "      <th></th>\n",
        "      <th></th>\n",
        "      <th></th>\n",
        "      <th></th>\n",
        "      <th></th>\n",
        "      <th></th>\n",
        "      <th></th>\n",
        "      <th></th>\n",
        "      <th></th>\n",
        "      <th></th>\n",
        "      <th></th>\n",
        "      <th></th>\n",
        "      <th></th>\n",
        "      <th></th>\n",
        "      <th></th>\n",
        "      <th></th>\n",
        "      <th></th>\n",
        "      <th></th>\n",
        "      <th></th>\n",
        "    </tr>\n",
        "  </thead>\n",
        "  <tbody>\n",
        "    <tr>\n",
        "      <th>161</th>\n",
        "      <td> 20</td>\n",
        "      <td> 20</td>\n",
        "      <td> 19</td>\n",
        "      <td> 10</td>\n",
        "      <td> 10</td>\n",
        "      <td> 10</td>\n",
        "      <td> 8</td>\n",
        "      <td> 8</td>\n",
        "      <td> 6</td>\n",
        "      <td> 10</td>\n",
        "      <td>...</td>\n",
        "      <td> 9</td>\n",
        "      <td> 10</td>\n",
        "      <td> 10</td>\n",
        "      <td> 9</td>\n",
        "      <td> 5</td>\n",
        "      <td> 5</td>\n",
        "      <td> 4</td>\n",
        "      <td> 9</td>\n",
        "      <td> 8</td>\n",
        "      <td> 7</td>\n",
        "    </tr>\n",
        "  </tbody>\n",
        "</table>\n",
        "<p>1 rows \u00d7 21 columns</p>\n",
        "</div>"
       ],
       "metadata": {},
       "output_type": "pyout",
       "prompt_number": 330,
       "text": [
        "         problem-0-1  problem-0-2  problem-0-3  problem-1-1  problem-1-2  \\\n",
        "user_id                                                                    \n",
        "161               20           20           19           10           10   \n",
        "\n",
        "         problem-1-3  problem-2-1  problem-2-2  problem-2-3  problem-3-1  \\\n",
        "user_id                                                                    \n",
        "161               10            8            8            6           10   \n",
        "\n",
        "            ...       problem-3-3  problem-4-1  problem-4-2  problem-4-3  \\\n",
        "user_id     ...                                                            \n",
        "161         ...                 9           10           10            9   \n",
        "\n",
        "         problem-5-1  problem-5-2  problem-5-3  problem-6-1  problem-6-2  \\\n",
        "user_id                                                                    \n",
        "161                5            5            4            9            8   \n",
        "\n",
        "         problem-6-3  \n",
        "user_id               \n",
        "161                7  \n",
        "\n",
        "[1 rows x 21 columns]"
       ]
      }
     ],
     "prompt_number": 330
    },
    {
     "cell_type": "heading",
     "level": 1,
     "metadata": {},
     "source": [
      "The order of problems is wrong!"
     ]
    },
    {
     "cell_type": "code",
     "collapsed": false,
     "input": [],
     "language": "python",
     "metadata": {},
     "outputs": []
    }
   ],
   "metadata": {}
  }
 ]
}