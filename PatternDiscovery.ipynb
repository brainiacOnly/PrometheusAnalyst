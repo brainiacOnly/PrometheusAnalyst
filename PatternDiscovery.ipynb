{
 "metadata": {
  "name": "",
  "signature": "sha256:cfc04a77546a80d941ddbeca2bf1ba65866d8ffa4b3ba4dc089f2653b0f618d1"
 },
 "nbformat": 3,
 "nbformat_minor": 0,
 "worksheets": [
  {
   "cells": [
    {
     "cell_type": "code",
     "collapsed": false,
     "input": [
      "from time import time\n",
      "import numpy as np\n",
      "import pandas as pd\n",
      "import dateutil\n",
      "import matplotlib.pyplot as plt\n",
      "from matplotlib import cm\n",
      "import datetime\n",
      "from datetime import timedelta\n",
      "\n",
      "from sklearn import metrics\n",
      "from sklearn.decomposition import PCA\n",
      "from scipy.cluster.vq import kmeans\n",
      "from scipy.spatial.distance import cdist,pdist\n",
      "from sklearn import cluster\n",
      "from sklearn.neighbors import kneighbors_graph\n",
      "from sklearn.preprocessing import StandardScaler\n",
      "\n",
      "from IPython.display import Image"
     ],
     "language": "python",
     "metadata": {},
     "outputs": [],
     "prompt_number": 1
    },
    {
     "cell_type": "code",
     "collapsed": false,
     "input": [
      "sm = pd.read_csv(\"PrometheusHistory/studentmodule_with_dates.csv\",quotechar='\"',skipinitialspace=True,escapechar='\\\\').drop(['Unnamed: 0'],1)\n",
      "users = pd.read_csv(\"PrometheusHistory/auth_userprofile.csv\",quotechar='\"',skipinitialspace=True,escapechar='\\\\')\n",
      "cert = pd.read_csv(\"PrometheusHistory/certificates_generatedcertificate.csv\",quotechar='\"',skipinitialspace=True,escapechar='\\\\')\n",
      "\n",
      "sm.created = sm.created.apply(lambda x: dateutil.parser.parse(x).replace(tzinfo=None))\n",
      "sm.modified = sm.modified.apply(lambda x: dateutil.parser.parse(x).replace(tzinfo=None))\n",
      "sm.publish_date = sm.publish_date.apply(lambda x: dateutil.parser.parse(x).replace(tzinfo=None))\n",
      "sm = sm.rename(columns={'student_id':'user_id'})\n",
      "users = users.drop(['language','location'],1)"
     ],
     "language": "python",
     "metadata": {},
     "outputs": [],
     "prompt_number": 2
    },
    {
     "cell_type": "code",
     "collapsed": false,
     "input": [
      "smh = pd.read_csv(\"PrometheusHistory/courseware_studentmodulehistory.csv\",quotechar='\"',skipinitialspace=True,escapechar='\\\\')"
     ],
     "language": "python",
     "metadata": {},
     "outputs": [],
     "prompt_number": 3
    },
    {
     "cell_type": "heading",
     "level": 3,
     "metadata": {},
     "source": [
      "#1 Slice data by date"
     ]
    },
    {
     "cell_type": "code",
     "collapsed": false,
     "input": [
      "def sliceUsers(sm, days):\n",
      "    if type(sm.iloc[1].time_diff) is np.timedelta64:\n",
      "        sm.time_diff = sm.time_diff.apply(lambda x: x/np.timedelta64(1, 'D'))\n",
      "    min_entrance = sm.groupby('user_id').apply(lambda x: x.sort('created').head(1))\n",
      "    min_entrance = min_entrance[min_entrance.time_diff <= days]\n",
      "    first_users = min_entrance.user_id.tolist()\n",
      "    first_sm = sm[sm.user_id.isin(first_users)]\n",
      "    last_sm = sm[~sm.user_id.isin(first_users)]\n",
      "    \n",
      "    return first_sm, last_sm"
     ],
     "language": "python",
     "metadata": {},
     "outputs": [],
     "prompt_number": 4
    },
    {
     "cell_type": "heading",
     "level": 3,
     "metadata": {},
     "source": [
      "#2 Features based on average time that was spent after publication(video and problem)"
     ]
    },
    {
     "cell_type": "code",
     "collapsed": false,
     "input": [
      "def getAverageFeatures(sm):\n",
      "    sm['time_diff'] = sm.created - sm.publish_date\n",
      "    sm = sm[sm.time_diff >= 0]\n",
      "    sm.time_diff = sm.time_diff.apply(lambda x: x/np.timedelta64(1, 'D'))\n",
      "    sm_videos = sm[sm.module_type == 'video']\n",
      "    sm_problems = sm[sm.module_type=='problem']\n",
      "    \n",
      "    videos = sm_videos.groupby('user_id')['time_diff'].mean()\n",
      "    problems = sm_problems.groupby('user_id')['time_diff'].mean()\n",
      "    \n",
      "    return pd.concat([videos,problems],axis=1,keys=['video_mean','problem_mean']).fillna(0)"
     ],
     "language": "python",
     "metadata": {},
     "outputs": [],
     "prompt_number": 5
    },
    {
     "cell_type": "heading",
     "level": 3,
     "metadata": {},
     "source": [
      "#3 Features based on every time interval that was spent after publication(video and problem)"
     ]
    },
    {
     "cell_type": "code",
     "collapsed": false,
     "input": [
      "def getIntervalByModuleFeatures(sm):\n",
      "    return sm.pivot(index='user_id',columns='module_id',values='time_diff')"
     ],
     "language": "python",
     "metadata": {},
     "outputs": [],
     "prompt_number": 6
    },
    {
     "cell_type": "heading",
     "level": 3,
     "metadata": {},
     "source": [
      "#4 Features based on problem result"
     ]
    },
    {
     "cell_type": "code",
     "collapsed": false,
     "input": [
      "a = sm[sm.module_type == 'problem'][sm.user_id.isin([161,9])]"
     ],
     "language": "python",
     "metadata": {},
     "outputs": [],
     "prompt_number": 104
    },
    {
     "cell_type": "code",
     "collapsed": false,
     "input": [
      "def getProblemResultFeatures(sm,smh):\n",
      "    sm = sm[sm.module_type == 'problem']\n",
      "    problems = sm[sm.module_type == 'problem'].module_id.unique()\n",
      "    users = sm.user_id.unique()\n",
      "    features = pd.DataFrame(index=pd.MultiIndex.from_product([users,problems],names=['user_id','module_id']),columns=['attempt1','attempt2','attempt3'])\n",
      "    \n",
      "    for index, row in sm.iterrows():\n",
      "        grades = smh[smh.student_module_id == row[0]].grade\n",
      "        grades = grades[~grades.isnull()]\n",
      "        grades = pd.DataFrame(grades,index=grades.index).drop_duplicates().grade.tolist()\n",
      "        \n",
      "        while len(grades) < 3:\n",
      "            grades.append(grades[-1] if len(grades)>0 else 0)\n",
      "        grades = sorted(grades)[-3:]\n",
      "        #print row[3],row[2], sorted(grades)[-3:]\n",
      "        features.loc[row[3],row[2]] = grades\n",
      "    \n",
      "    stacked = features.stack()\n",
      "    problems = stacked.unstack('user_id').index.levels[0]\n",
      "    cols = np.array([[i + '-attempt{0}'.format(j+1) for j in range(3)] for i in problems])\n",
      "    cols.shape = (1,len(problems)*3)\n",
      "    wtf = stacked.unstack(['user_id']).T\n",
      "    return pd.DataFrame(wtf.values,index=wtf.index,columns=cols[0]).fillna(0)"
     ],
     "language": "python",
     "metadata": {},
     "outputs": [],
     "prompt_number": 140
    },
    {
     "cell_type": "code",
     "collapsed": false,
     "input": [],
     "language": "python",
     "metadata": {},
     "outputs": []
    }
   ],
   "metadata": {}
  }
 ]
}