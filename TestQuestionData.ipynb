{
 "cells": [
  {
   "cell_type": "code",
   "execution_count": 30,
   "metadata": {
    "collapsed": true
   },
   "outputs": [],
   "source": [
    "import numpy as np\n",
    "import pandas as pd\n",
    "import MySQLdb\n",
    "import json\n",
    "from time import time"
   ]
  },
  {
   "cell_type": "code",
   "execution_count": 11,
   "metadata": {
    "collapsed": true
   },
   "outputs": [],
   "source": [
    "connection = MySQLdb.connect(host='localhost', port=3306, user='root', passwd='admin', db='edxapp', charset='utf8')\n",
    "data = pd.read_sql(\"select state  from courseware_studentmodule where course_id = 'KNU/101/2014_T2'\" + \\\n",
    "                   \" and module_id like '%e39129c796754099b0974db74c5b5b01' and grade is not null \",con=connection)"
   ]
  },
  {
   "cell_type": "code",
   "execution_count": 12,
   "metadata": {
    "collapsed": false
   },
   "outputs": [],
   "source": [
    "values = data.values.tolist()"
   ]
  },
  {
   "cell_type": "code",
   "execution_count": 68,
   "metadata": {
    "collapsed": false
   },
   "outputs": [
    {
     "name": "stdout",
     "output_type": "stream",
     "text": [
      "0.414000034332\n"
     ]
    }
   ],
   "source": [
    "result = {}\n",
    "start = time()\n",
    "for i in values:\n",
    "    answer_info = json.loads(i[0])\n",
    "    for answer, options in answer_info['student_answers'].iteritems():\n",
    "        for option in options:\n",
    "            name = u'{0}_{1}'.format(answer,option)\n",
    "            if name in result:\n",
    "                result[name] += 1\n",
    "            else:\n",
    "                result[name] = 1\n",
    "\n",
    "def GetNumber(key):\n",
    "    i = key.index(u'_')+1\n",
    "    newkey = key[i:]\n",
    "    i = newkey.index(u'_')\n",
    "    return int(newkey[:i])\n",
    "\n",
    "question_keys = {}\n",
    "ids = list(set(map(GetNumber,result)))\n",
    "for i, j in enumerate(ids):\n",
    "    question_keys[j] = i\n",
    "\n",
    "result2 = {}\n",
    "for i,j in result.iteritems():\n",
    "    testNumber = GetNumber(i)\n",
    "    back_index =  i[::-1].index('_')\n",
    "    choise_number = int(i[len(i)-back_index:])\n",
    "    testName = question_keys[testNumber]\n",
    "    if testName not in result2:\n",
    "        result2[testName] = {choise_number:j}\n",
    "    else:\n",
    "        result2[testName][choise_number] = j\n",
    "\n",
    "print time()-start"
   ]
  },
  {
   "cell_type": "code",
   "execution_count": 69,
   "metadata": {
    "collapsed": false
   },
   "outputs": [
    {
     "data": {
      "text/plain": [
       "{0: {0: 146, 1: 3233, 2: 190, 3: 247, 4: 100, 5: 81},\n",
       " 1: {0: 114, 1: 93, 2: 212, 3: 3396, 4: 57, 5: 72},\n",
       " 2: {0: 188, 1: 213, 2: 2658, 3: 268, 4: 451, 5: 229},\n",
       " 3: {0: 140, 1: 113, 2: 95, 3: 3482, 4: 37, 5: 66},\n",
       " 4: {0: 360, 1: 268, 2: 287, 3: 2788, 4: 237, 5: 107},\n",
       " 5: {0: 133, 1: 184, 2: 3313, 3: 107, 4: 106, 5: 75},\n",
       " 6: {0: 246, 1: 337, 2: 188, 3: 2719, 4: 353, 5: 245},\n",
       " 7: {0: 2919, 1: 587, 2: 3089, 3: 3064, 4: 476, 5: 626, 6: 361, 7: 466},\n",
       " 8: {0: 317, 1: 432, 2: 172, 3: 487, 4: 2522, 5: 76},\n",
       " 9: {0: 325, 1: 255, 2: 201, 3: 2814, 4: 273, 5: 129},\n",
       " 10: {0: 4, 1: 30, 2: 6, 3: 26, 4: 9, 5: 68}}"
      ]
     },
     "execution_count": 69,
     "metadata": {},
     "output_type": "execute_result"
    }
   ],
   "source": [
    "result2"
   ]
  },
  {
   "cell_type": "code",
   "execution_count": 15,
   "metadata": {
    "collapsed": false
   },
   "outputs": [
    {
     "ename": "IndexError",
     "evalue": "list index out of range",
     "output_type": "error",
     "traceback": [
      "\u001b[1;31m---------------------------------------------------------------------------\u001b[0m",
      "\u001b[1;31mIndexError\u001b[0m                                Traceback (most recent call last)",
      "\u001b[1;32m<ipython-input-15-88a8bfdbf390>\u001b[0m in \u001b[0;36m<module>\u001b[1;34m()\u001b[0m\n\u001b[0;32m      1\u001b[0m \u001b[0mvalues2\u001b[0m \u001b[1;33m=\u001b[0m \u001b[1;33m[\u001b[0m\u001b[1;33m]\u001b[0m\u001b[1;33m\u001b[0m\u001b[0m\n\u001b[0;32m      2\u001b[0m \u001b[1;32mfor\u001b[0m \u001b[0mj\u001b[0m \u001b[1;32min\u001b[0m \u001b[0mvalues\u001b[0m\u001b[1;33m[\u001b[0m\u001b[1;33m:\u001b[0m\u001b[1;36m1\u001b[0m\u001b[1;33m]\u001b[0m\u001b[1;33m:\u001b[0m\u001b[1;33m\u001b[0m\u001b[0m\n\u001b[1;32m----> 3\u001b[1;33m     \u001b[0manswer_info\u001b[0m \u001b[1;33m=\u001b[0m \u001b[0mjson\u001b[0m\u001b[1;33m.\u001b[0m\u001b[0mloads\u001b[0m\u001b[1;33m(\u001b[0m\u001b[0mj\u001b[0m\u001b[1;33m[\u001b[0m\u001b[1;36m1\u001b[0m\u001b[1;33m]\u001b[0m\u001b[1;33m)\u001b[0m\u001b[1;33m\u001b[0m\u001b[0m\n\u001b[0m\u001b[0;32m      4\u001b[0m     \u001b[1;31m#print answer_info#['student_answers']\u001b[0m\u001b[1;33m\u001b[0m\u001b[1;33m\u001b[0m\u001b[0m\n\u001b[0;32m      5\u001b[0m     \u001b[0manswers\u001b[0m \u001b[1;33m=\u001b[0m \u001b[1;33m{\u001b[0m\u001b[1;33m}\u001b[0m\u001b[1;33m\u001b[0m\u001b[0m\n",
      "\u001b[1;31mIndexError\u001b[0m: list index out of range"
     ]
    }
   ],
   "source": [
    "values2 = []\n",
    "for j in values[:1]:\n",
    "    answer_info = json.loads(j[1])\n",
    "    #print answer_info#['student_answers']\n",
    "    answers = {}\n",
    "    \"\"\"\n",
    "    for i in answer_info[u'correct_map'].keys():\n",
    "        if i not in answer_info[u'student_answers'].keys():\n",
    "            continue\n",
    "        isCorrect = answer_info[u'correct_map'][i][u'correctness'] == u'correct'\n",
    "        choise = map(lambda x: int(x[7:]),answer_info[u'student_answers'][i])\n",
    "        answers[i] = {'isCorrect' : isCorrect, 'choise' : choise}\n",
    "    \"\"\"\n",
    "    values2.append([j[0],answers])"
   ]
  },
  {
   "cell_type": "code",
   "execution_count": null,
   "metadata": {
    "collapsed": false
   },
   "outputs": [],
   "source": []
  },
  {
   "cell_type": "code",
   "execution_count": null,
   "metadata": {
    "collapsed": false
   },
   "outputs": [],
   "source": []
  },
  {
   "cell_type": "code",
   "execution_count": 62,
   "metadata": {
    "collapsed": false
   },
   "outputs": [],
   "source": [
    "from pymongo import MongoClient\n",
    "from xml.dom import minidom"
   ]
  },
  {
   "cell_type": "code",
   "execution_count": 58,
   "metadata": {
    "collapsed": true
   },
   "outputs": [],
   "source": [
    "client = MongoClient('localhost', 27017)\n",
    "modules = client.edxapp.modulestore"
   ]
  },
  {
   "cell_type": "code",
   "execution_count": 127,
   "metadata": {
    "collapsed": false
   },
   "outputs": [
    {
     "data": {
      "text/plain": [
       "[{'course': '101',\n",
       "  'display_name': u'\\u0422\\u0435\\u0441\\u0442 1 \\u0442\\u0438\\u0436\\u043d\\u044f',\n",
       "  'name': u'e39129c796754099b0974db74c5b5b01',\n",
       "  'org': 'KNU',\n",
       "  'structure': [{'options': [{'correct': False,\n",
       "      'text': u'\\u0414\\u0438\\u0441\\u043a\\u0443\\u0441\\u0456\\u044e \\u043d\\u0430\\u0432\\u043a\\u043e\\u043b\\u043e \\u0434\\u0435\\u0440\\u0436\\u0430\\u0432\\u043d\\u043e\\u0457 \\u043f\\u0440\\u0438\\u043d\\u0430\\u043b\\u0435\\u0436\\u043d\\u043e\\u0441\\u0442\\u0456 \\u0411\\u0443\\u043a\\u043e\\u0432\\u0438\\u043d\\u0438'},\n",
       "     {'correct': True,\n",
       "      'text': u'\\u0414\\u0438\\u0441\\u043a\\u0443\\u0441\\u0456\\u044e \\u043d\\u0430\\u0432\\u043a\\u043e\\u043b\\u043e \\u043c\\u0430\\u0439\\u0431\\u0443\\u0442\\u043d\\u044c\\u043e\\u0457 \\u0434\\u043e\\u043b\\u0456 \\u041a\\u0430\\u0440\\u043f\\u0430\\u0442\\u0441\\u044c\\u043a\\u043e\\u0457 \\u0423\\u043a\\u0440\\u0430\\u0457\\u043d\\u0438'},\n",
       "     {'correct': False,\n",
       "      'text': u'\\u0414\\u0438\\u0441\\u043a\\u0443\\u0441\\u0456\\u044e \\u043d\\u0430\\u0432\\u043a\\u043e\\u043b\\u043e \\u043f\\u043e\\u0447\\u0430\\u0442\\u043a\\u0443 \\u0440\\u0430\\u0434\\u044f\\u043d\\u0441\\u044c\\u043a\\u043e\\u0433\\u043e \\u0432\\u0442\\u043e\\u0440\\u0433\\u043d\\u0435\\u043d\\u043d\\u044f \\u0432 \\u041f\\u043e\\u043b\\u044c\\u0449\\u0443'},\n",
       "     {'correct': False,\n",
       "      'text': u'\\u0414\\u0438\\u0441\\u043a\\u0443\\u0441\\u0456\\u044e \\u0449\\u043e\\u0434\\u043e \\u043b\\u0456\\u043d\\u0456\\u0457 \\u0440\\u043e\\u0437\\u043c\\u0435\\u0436\\u0443\\u0432\\u0430\\u043d\\u043d\\u044f \\u043c\\u0456\\u0436 \\u0421\\u0420\\u0421\\u0420 \\u0442\\u0430 \\u041d\\u0456\\u043c\\u0435\\u0447\\u0447\\u0438\\u043d\\u043e\\u044e \\u043d\\u0430 \\u0442\\u0435\\u0440\\u0438\\u0442\\u043e\\u0440\\u0456\\u0457 \\u043e\\u043a\\u0443\\u043f\\u043e\\u0432\\u0430\\u043d\\u043e\\u0457 ...'},\n",
       "     {'correct': False,\n",
       "      'text': u'\\u0414\\u0438\\u0441\\u043a\\u0443\\u0441\\u0456\\u044e \\u0449\\u043e\\u0434\\u043e \\u0441\\u0442\\u0430\\u0442\\u0443\\u0441\\u0443 \\u0424\\u0456\\u043d\\u043b\\u044f\\u043d\\u0434\\u0456\\u0457'},\n",
       "     {'correct': False,\n",
       "      'text': u'\\u0414\\u0438\\u0441\\u043a\\u0443\\u0441\\u0456\\u044e \\u043d\\u0430\\u0432\\u043a\\u043e\\u043b\\u043e \\u0434\\u043e\\u043b\\u0456 \\u043d\\u0456\\u043c\\u0435\\u0446\\u044c\\u043a\\u043e\\u0457 \\u043c\\u0435\\u043d\\u0448\\u0438\\u043d\\u0438 \\u0432 \\u0421\\u0420\\u0421\\u0420'}],\n",
       "    'task': u'\\u042f\\u043a\\u0443 \\u043f\\u0440\\u043e\\u0431\\u043b\\u0435\\u043c\\u0443 \\u0443 \\u0432\\u0437\\u0430\\u0454\\u043c\\u0438\\u043d\\u0430\\u0445 \\u043c\\u0456\\u0436 \\u0421\\u0420\\u0421\\u0420 \\u0442\\u0430 \\u041d\\u0456\\u043c\\u0435\\u0447\\u0447\\u0438\\u043d\\u043e\\u044e \\u043c\\u0430\\u0432 \\u043d\\u0430 \\u0443\\u0432\\u0430\\u0437\\u0456 \\u0419. \\u0421\\u0442\\u0430\\u043b\\u0456\\u043d \\u0432\\u0438\\u0433\\u043e\\u043b\\u043e\\u0448\\u0443\\u044e...'},\n",
       "   {'options': [{'correct': False,\n",
       "      'text': u'\\u041f\\u043e \\u0440\\u0456\\u0447\\u043a\\u0430\\u0445 \\u041d\\u0430\\u0440\\u0435\\u0432 \\u2013 \\u0417\\u0430\\u0445\\u0456\\u0434\\u043d\\u0438\\u0439 \\u0411\\u0443\\u0433 \\u2013 \\u0421\\u044f\\u043d'},\n",
       "     {'correct': False,\n",
       "      'text': u'\\u041f\\u043e \\u0440\\u0456\\u0447\\u043a\\u0430\\u0445 \\u041d\\u0430\\u0440\\u0435\\u0432 \\u2013 \\u0412\\u0456\\u0441\\u043b\\u0430 \\u2013 \\u0412\\u0435\\u043f\\u0448 '},\n",
       "     {'correct': False,\n",
       "      'text': u'\\u041f\\u043e \\u0440\\u0456\\u0447\\u043a\\u0430\\u0445 \\u0412\\u0456\\u0441\\u043b\\u0430 \\u2013 \\u0411\\u0443\\u0433 \\u2013 \\u0421\\u044f\\u043d '},\n",
       "     {'correct': True,\n",
       "      'text': u'\\u041f\\u043e \\u0440\\u0456\\u0447\\u043a\\u0430\\u0445 \\u041d\\u0430\\u0440\\u0435\\u0432 \\u2013 \\u0412\\u0456\\u0441\\u043b\\u0430- \\u0421\\u044f\\u043d'},\n",
       "     {'correct': False,\n",
       "      'text': u'\\u041f\\u043e \\u0440\\u0456\\u0447\\u043a\\u0430\\u0445 \\u0412\\u0456\\u0441\\u043b\\u0430 \\u2013 \\u0412\\u0456\\u0441\\u043b\\u043e\\u043a \\u2013 \\u0414\\u0443\\u043d\\u0430\\u0454\\u0446\\u044c '},\n",
       "     {'correct': False,\n",
       "      'text': u'\\u041f\\u043e \\u0440\\u0456\\u0447\\u043a\\u0430\\u0445 \\u0411\\u0437\\u0443\\u0440\\u0430 \\u2013 \\u041d\\u0430\\u0440\\u0435\\u0432 \\u2013 \\u0412\\u0456\\u0441\\u043b\\u0430 \\u2013 \\u0421\\u044f\\u043d'}],\n",
       "    'task': u'\\u042f\\u043a \\u043c\\u0430\\u043b\\u0430 \\u043f\\u0440\\u043e\\u0445\\u043e\\u0434\\u0438\\u0442\\u0438 \\u043b\\u0456\\u043d\\u0456\\u044f \\u0440\\u043e\\u0437\\u043c\\u0435\\u0436\\u0443\\u0432\\u0430\\u043d\\u043d\\u044f \\u043c\\u0456\\u0436 \\u0440\\u0430\\u0434\\u044f\\u043d\\u0441\\u044c\\u043a\\u043e\\u044e \\u0456 \\u043d\\u0456\\u043c\\u0435\\u0446\\u044c\\u043a\\u043e\\u044e \\u0441\\u0444\\u0435\\u0440\\u0430\\u043c\\u0438 \\u0456\\u043d\\u0442\\u0435\\u0440\\u0435\\u0441\\u0456...'},\n",
       "   {'options': [{'correct': False,\n",
       "      'text': u'29 \\u0441\\u0435\\u0440\\u043f\\u043d\\u044f'},\n",
       "     {'correct': False,\n",
       "      'text': u'1 \\u0432\\u0435\\u0440\\u0435\\u0441\\u043d\\u044f '},\n",
       "     {'correct': True,\n",
       "      'text': u'11 \\u0432\\u0435\\u0440\\u0435\\u0441\\u043d\\u044f'},\n",
       "     {'correct': False,\n",
       "      'text': u'15 \\u0432\\u0435\\u0440\\u0435\\u0441\\u043d\\u044f'},\n",
       "     {'correct': False,\n",
       "      'text': u'17 \\u0432\\u0435\\u0440\\u0435\\u0441\\u043d\\u044f '},\n",
       "     {'correct': False,\n",
       "      'text': u'19 \\u0432\\u0435\\u0440\\u0435\\u0441\\u043d\\u044f '}],\n",
       "    'task': u'\\u041a\\u043e\\u043b\\u0438 \\u0440\\u0430\\u0434\\u044f\\u043d\\u0441\\u044c\\u043a\\u0435 \\u043a\\u043e\\u043c\\u0430\\u043d\\u0434\\u0443\\u0432\\u0430\\u043d\\u043d\\u044f \\u0440\\u043e\\u0437\\u0433\\u043e\\u0440\\u043d\\u0443\\u043b\\u043e \\u0423\\u043a\\u0440\\u0430\\u0457\\u043d\\u0441\\u044c\\u043a\\u0438\\u0439 \\u0456 \\u0411\\u0456\\u043b\\u043e\\u0440\\u0443\\u0441\\u044c\\u043a\\u0438\\u0439 \\u0444\\u0440\\u043e\\u043d\\u0442\\u0438 \\u0434\\u043b\\u044f \\u0441\\u043f\\u0456\\u043b...'},\n",
       "   {'options': [{'correct': False,\n",
       "      'text': u'\\u041c. \\u0412\\u0430\\u0442\\u0443\\u0442\\u0456\\u043d '},\n",
       "     {'correct': False,\n",
       "      'text': u'\\u041c.\\u041a\\u0438\\u0440\\u043f\\u043e\\u043d\\u043e\\u0441'},\n",
       "     {'correct': False,\n",
       "      'text': u'\\u041a.\\u0412\\u043e\\u0440\\u043e\\u0448\\u0438\\u043b\\u043e\\u0432'},\n",
       "     {'correct': True,\n",
       "      'text': u'\\u0421.\\u0422\\u0438\\u043c\\u043e\\u0448\\u0435\\u043d\\u043a\\u043e'},\n",
       "     {'correct': False,\n",
       "      'text': u'\\u0421.\\u0411\\u0443\\u0434\\u044c\\u043e\\u043d\\u043d\\u0438\\u0439'},\n",
       "     {'correct': False,\n",
       "      'text': u'\\u0410.\\u0412\\u043b\\u0430\\u0441\\u043e\\u0432'}],\n",
       "    'task': u'\\u0412\\u043a\\u0430\\u0436\\u0456\\u0442\\u044c, \\u0445\\u0442\\u043e \\u0431\\u0443\\u0432 \\u043a\\u043e\\u043c\\u0430\\u043d\\u0434\\u0443\\u0432\\u0430\\u0447\\u0435\\u043c \\u0423\\u043a\\u0440\\u0430\\u0457\\u043d\\u0441\\u044c\\u043a\\u043e\\u0433\\u043e \\u0444\\u0440\\u043e\\u043d\\u0442\\u0443, \\u044f\\u043a\\u0438\\u0439 \\u0437\\u0434\\u0456\\u0439\\u0441\\u043d\\u044e\\u0432\\u0430\\u0432 \\u0432\\u0456\\u0439\\u0441\\u044c\\u043a\\u043e\\u0432\\u0456 \\u043e\\u043f\\u0435...'},\n",
       "   {'options': [{'correct': False,\n",
       "      'text': u'\\u0420\\u0430\\u0434\\u044f\\u043d\\u0441\\u044c\\u043a\\u043e\\u0457 \\u043d\\u043e\\u0442\\u0438, \\u0432\\u0440\\u0443\\u0447\\u0435\\u043d\\u043e\\u0457 \\u043f\\u043e\\u043b\\u044c\\u0441\\u044c\\u043a\\u043e\\u043c\\u0443 \\u043f\\u043e\\u0441\\u043b\\u043e\\u0432\\u0456 \\u0432 \\u041c\\u043e\\u0441\\u043a\\u0432\\u0456 17 \\u0432\\u0435\\u0440\\u0435\\u0441\\u043d\\u044f 1939 \\u0440.'},\n",
       "     {'correct': False,\n",
       "      'text': u'\\u0423\\u0433\\u043e\\u0434\\u0438 \\u041c\\u043e\\u043b\\u043e\\u0442\\u043e\\u0432\\u0430-\\u0420\\u0456\\u0431\\u0431\\u0435\\u043d\\u0442\\u0440\\u043e\\u043f\\u0430'},\n",
       "     {'correct': False,\n",
       "      'text': u'\\u0414\\u043e\\u0433\\u043e\\u0432\\u043e\\u0440\\u0443 \\u043f\\u0440\\u043e \\u0434\\u0440\\u0443\\u0436\\u0431\\u0443 \\u0456 \\u043a\\u043e\\u0440\\u0434\\u043e\\u043d \\u043c\\u0456\\u0436 \\u0421\\u0420\\u0421\\u0420 \\u0442\\u0430 \\u041d\\u0456\\u043c\\u0435\\u0447\\u0447\\u0438\\u043d\\u043e\\u044e'},\n",
       "     {'correct': True,\n",
       "      'text': u'\\u041f\\u0440\\u043e\\u0435\\u043a\\u0442\\u0443 \\u0441\\u043f\\u0456\\u043b\\u044c\\u043d\\u043e\\u0433\\u043e \\u0440\\u0430\\u0434\\u044f\\u043d\\u0441\\u044c\\u043a\\u043e-\\u043d\\u0456\\u043c\\u0435\\u0446\\u044c\\u043a\\u043e\\u0433\\u043e \\u043a\\u043e\\u043c\\u044e\\u043d\\u0456\\u043a\\u0435, \\u0437\\u0430\\u043f\\u0440\\u043e\\u043f\\u043e\\u043d\\u043e\\u0432\\u0430\\u043d\\u043e\\u0433\\u043e \\u0419.\\u0420\\u0456\\u0431\\u0431\\u0435\\u043d\\u0442\\u0440\\u043e\\u043f\\u043e\\u043c ...'},\n",
       "     {'correct': False,\n",
       "      'text': u'\\u0417\\u0430\\u044f\\u0432\\u0438 \\u0440\\u0430\\u0434\\u044f\\u043d\\u0441\\u044c\\u043a\\u043e\\u0433\\u043e \\u0443\\u0440\\u044f\\u0434\\u0443 \\u0449\\u043e\\u0434\\u043e \\u043f\\u043e\\u0434\\u0456\\u0439 \\u0443 \\u041f\\u043e\\u043b\\u044c\\u0449\\u0456 '},\n",
       "     {'correct': False,\n",
       "      'text': u'\\u0417\\u0430\\u044f\\u0432\\u0438 \\u043d\\u0456\\u043c\\u0435\\u0446\\u044c\\u043a\\u043e\\u0433\\u043e \\u0443\\u0440\\u044f\\u0434\\u0443 \\u0449\\u043e\\u0434\\u043e \\u043f\\u043e\\u0434\\u0456\\u0439 \\u0443 \\u041f\\u043e\\u043b\\u044c\\u0449\\u0456 '}],\n",
       "    'task': u'\\u0427\\u0430\\u0441\\u0442\\u0438\\u043d\\u043e\\u044e \\u044f\\u043a\\u043e\\u0433\\u043e \\u0434\\u043e\\u043a\\u0443\\u043c\\u0435\\u043d\\u0442\\u0443 \\u0454 \\u043f\\u043e\\u0434\\u0430\\u043d\\u0430 \\u043d\\u0438\\u0436\\u0447\\u0435 \\u0446\\u0438\\u0442\\u0430\\u0442\\u0430: \\xab\\u0417\\u0432\\u0430\\u0436\\u0430\\u044e\\u0447\\u0438 \\u043d\\u0430 \\u043f\\u043e\\u0432\\u043d\\u0438\\u0439 \\u0440\\u043e\\u0437\\u043f\\u0430\\u0434 \\u0444\\u043e\\u0440\\u043c\\u0438...'},\n",
       "   {'options': [{'correct': False,\n",
       "      'text': u'20 \\u0432\\u0435\\u0440\\u0435\\u0441\\u043d\\u044f 1939 \\u0440. '},\n",
       "     {'correct': False,\n",
       "      'text': u'21 \\u0432\\u0435\\u0440\\u0435\\u0441\\u043d\\u044f 1939 \\u0440.'},\n",
       "     {'correct': True,\n",
       "      'text': u'28 \\u0432\\u0435\\u0440\\u0435\\u0441\\u043d\\u044f 1939 \\u0440.'},\n",
       "     {'correct': False,\n",
       "      'text': u'1 \\u0436\\u043e\\u0432\\u0442\\u043d\\u044f 1939 \\u0440.'},\n",
       "     {'correct': False,\n",
       "      'text': u'11 \\u043b\\u0438\\u0441\\u0442\\u043e\\u043f\\u0430\\u0434\\u0430 1939 \\u0440.'},\n",
       "     {'correct': False,\n",
       "      'text': u'19 \\u043b\\u0438\\u0441\\u0442\\u043e\\u043f\\u0430\\u0434\\u0430 1939 \\u0440.'}],\n",
       "    'task': u'\\u0412\\u0438\\u0437\\u043d\\u0430\\u0447\\u0456\\u0442\\u044c, \\u043a\\u043e\\u043b\\u0438 \\u0431\\u0443\\u043b\\u043e \\u043f\\u0456\\u0434\\u043f\\u0438\\u0441\\u0430\\u043d\\u043e \\u0443\\u0433\\u043e\\u0434\\u0443 \\xab\\u041f\\u0440\\u043e \\u0434\\u0440\\u0443\\u0436\\u0431\\u0443 \\u0456 \\u043a\\u043e\\u0440\\u0434\\u043e\\u043d\\xbb \\u043c\\u0456\\u0436 \\u0421\\u0420\\u0421\\u0420 \\u0442\\u0430 \\u041d\\u0456\\u043c\\u0435\\u0447\\u0447\\u0438\\u043d\\u043e...'},\n",
       "   {'options': [{'correct': False,\n",
       "      'text': u'\\u0417\\u043d\\u0438\\u0449\\u0435\\u043d\\u043d\\u044f \\u041a\\u0430\\u0440\\u043f\\u0430\\u0442\\u0441\\u044c\\u043a\\u043e\\u0457 \\u0423\\u043a\\u0440\\u0430\\u0457\\u043d\\u0438'},\n",
       "     {'correct': False,\n",
       "      'text': u'\\u041e\\u043a\\u0443\\u043f\\u0430\\u0446\\u0456\\u044e \\u0427\\u0435\\u0445\\u0456\\u0457 \\u043d\\u0456\\u043c\\u0435\\u0446\\u044c\\u043a\\u0438\\u043c \\u0432\\u0435\\u0440\\u043c\\u0430\\u0445\\u0442\\u043e\\u043c'},\n",
       "     {'correct': False,\n",
       "      'text': u'\\u0420\\u0430\\u0434\\u044f\\u043d\\u0441\\u044c\\u043a\\u043e-\\u0444\\u0456\\u043d\\u043b\\u044f\\u043d\\u0434\\u0441\\u044c\\u043a\\u0443 \\u0432\\u0456\\u0439\\u043d\\u0443 '},\n",
       "     {'correct': True,\n",
       "      'text': u'\\u041e\\u043a\\u0443\\u043f\\u0430\\u0446\\u0456\\u044e \\u0442\\u0430 \\u043f\\u0440\\u0438\\u0454\\u0434\\u043d\\u0430\\u043d\\u043d\\u044f \\u0434\\u043e \\u0421\\u0420\\u0421\\u0420 \\u0437\\u0435\\u043c\\u0435\\u043b\\u044c \\u0417\\u0430\\u0445\\u0456\\u0434\\u043d\\u043e\\u0457 \\u0423\\u043a\\u0440\\u0430\\u0457\\u043d\\u0438 \\u0456 \\u0417\\u0430\\u0445\\u0456\\u0434\\u043d\\u043e\\u0457 \\u0411\\u0456\\u043b\\u043e\\u0440\\u0443\\u0441\\u0456\\u0457 '},\n",
       "     {'correct': False,\n",
       "      'text': u'\\u041e\\u043a\\u0443\\u043f\\u0430\\u0446\\u0456\\u044e \\u0456 \\u043f\\u0440\\u0438\\u0454\\u0434\\u043d\\u0430\\u043d\\u043d\\u044f \\u0434\\u043e \\u0421\\u0420\\u0421\\u0420 \\u0437\\u0435\\u043c\\u0435\\u043b\\u044c \\u0411\\u0435\\u0441\\u0441\\u0430\\u0440\\u0430\\u0431\\u0456\\u0457 \\u0442\\u0430 \\u041f\\u0456\\u0432\\u043d\\u0456\\u0447\\u043d\\u043e\\u0457 \\u0411\\u0443\\u043a\\u043e\\u0432\\u0438\\u043d\\u0438'},\n",
       "     {'correct': False,\n",
       "      'text': u'\\u041e\\u043a\\u0443\\u043f\\u0430\\u0446\\u0456\\u044e \\u0456 \\u043f\\u0440\\u0438\\u0454\\u0434\\u043d\\u0430\\u043d\\u043d\\u044f \\u0434\\u043e \\u0421\\u0420\\u0421\\u0420 \\u041b\\u0438\\u0442\\u0432\\u0438, \\u041b\\u0430\\u0442\\u0432\\u0456\\u0457 \\u0456 \\u0415\\u0441\\u0442\\u043e\\u043d\\u0456\\u0457'}],\n",
       "    'task': u'\\u042f\\u043a\\u0456 \\u043c\\u0456\\u0436\\u043d\\u0430\\u0440\\u043e\\u0434\\u043d\\u0456 \\u043f\\u043e\\u0434\\u0456\\u0457 \\u041b.\\u041a\\u0430\\u0433\\u0430\\u043d\\u043e\\u0432\\u0438\\u0447 \\u0445\\u0430\\u0440\\u0430\\u043a\\u0442\\u0435\\u0440\\u0438\\u0437\\u0443\\u0432\\u0430\\u0432 \\u043d\\u0430\\u0441\\u0442\\u0443\\u043f\\u043d\\u0438\\u043c\\u0438 \\u0441\\u043b\\u043e\\u0432\\u0430\\u043c\\u0438: \\xab\\u041c\\u0456\\u0436\\u043d\\u0430\\u0440\\u043e\\u0434\\u043d\\u0430 ...'},\n",
       "   {'options': [{'correct': True,\n",
       "      'text': u'\\u0414\\u0435\\u043f\\u043e\\u043b\\u043e\\u043d\\u0456\\u0437\\u0430\\u0446\\u0456\\u044e \\u043e\\u0441\\u0432\\u0456\\u0442\\u0438'},\n",
       "     {'correct': False,\n",
       "      'text': u'\\u041b\\u0456\\u043a\\u0432\\u0456\\u0434\\u0430\\u0446\\u0456\\u044e \\u0413\\u0440\\u0435\\u043a\\u043e-\\u043a\\u0430\\u0442\\u043e\\u043b\\u0438\\u0446\\u044c\\u043a\\u043e\\u0457 \\u0446\\u0435\\u0440\\u043a\\u0432\\u0438 '},\n",
       "     {'correct': True,\n",
       "      'text': u'\\u0417\\u0430\\u0431\\u043e\\u0440\\u043e\\u043d\\u0443 \\u0434\\u0456\\u044f\\u043b\\u044c\\u043d\\u043e\\u0441\\u0442\\u0456 \\u0432\\u0441\\u0456\\u0445 \\u043f\\u043e\\u043b\\u0456\\u0442\\u0438\\u0447\\u043d\\u0438\\u0445 \\u043f\\u0430\\u0440\\u0442\\u0456\\u0439 \\u0442\\u0430 \\u043e\\u0440\\u0433\\u0430\\u043d\\u0456\\u0437\\u0430\\u0446\\u0456\\u0439 \\u043e\\u043a\\u0440\\u0456\\u043c \\u041a\\u041f(\\u0431)\\u0423 \\u0456 \\u043a\\u043e\\u043c\\u0441\\u043e\\u043c\\u043e...'},\n",
       "     {'correct': True,\n",
       "      'text': u'\\u041d\\u0430\\u0446\\u0456\\u043e\\u043d\\u0430\\u043b\\u0456\\u0437\\u0430\\u0446\\u0456\\u044e \\u043f\\u0440\\u043e\\u043c\\u0438\\u0441\\u043b\\u043e\\u0432\\u043e\\u0441\\u0442\\u0456 \\u0442\\u0430 \\u0431\\u0430\\u043d\\u043a\\u0456\\u0432'},\n",
       "     {'correct': False,\n",
       "      'text': u'\\u0414\\u0435\\u043f\\u043e\\u0440\\u0442\\u0430\\u0446\\u0456\\u044e \\u0432\\u0441\\u044c\\u043e\\u0433\\u043e \\u043d\\u0430\\u0441\\u0435\\u043b\\u0435\\u043d\\u043d\\u044f \\u0437 \\u043f\\u0440\\u0438\\u043a\\u043e\\u0440\\u0434\\u043e\\u043d\\u043d\\u0438\\u0445 \\u043e\\u0431\\u043b\\u0430\\u0441\\u0442\\u0435\\u0439 \\u043d\\u0430 \\u0441\\u0445\\u0456\\u0434 \\u0423\\u0420\\u0421\\u0420'},\n",
       "     {'correct': False,\n",
       "      'text': u'\\u041f\\u0435\\u0440\\u0435\\u0441\\u0435\\u043b\\u0435\\u043d\\u043d\\u044f \\u0432\\u0441\\u044c\\u043e\\u0433\\u043e \\u043f\\u043e\\u043b\\u044c\\u0441\\u044c\\u043a\\u043e\\u0433\\u043e \\u043d\\u0430\\u0441\\u0435\\u043b\\u0435\\u043d\\u043d\\u044f \\u0434\\u043e \\u043d\\u0456\\u043c\\u0435\\u0446\\u044c\\u043a\\u043e\\u0457 \\u0437\\u043e\\u043d\\u0438 \\u043e\\u043a\\u0443\\u043f\\u0430\\u0446\\u0456\\u0457 \\u041f\\u043e\\u043b\\u044c\\u0449\\u0456'},\n",
       "     {'correct': False,\n",
       "      'text': u'\\u0412\\u0438\\u0432\\u0435\\u0437\\u0435\\u043d\\u043d\\u044f \\u0437 \\u0440\\u0435\\u0433\\u0456\\u043e\\u043d\\u0443 \\u0432\\u0441\\u044c\\u043e\\u0433\\u043e \\u0454\\u0432\\u0440\\u0435\\u0439\\u0441\\u044c\\u043a\\u043e\\u0433\\u043e \\u043d\\u0430\\u0441\\u0435\\u043b\\u0435\\u043d\\u043d\\u044f \\u043d\\u0430 \\u0414\\u0430\\u043b\\u0435\\u043a\\u0438\\u0439 \\u0421\\u0445\\u0456\\u0434'},\n",
       "     {'correct': False,\n",
       "      'text': u'\\u0417\\u0430\\u043a\\u0440\\u0438\\u0442\\u0442\\u044f \\u0432\\u0441\\u0456\\u0445 \\u043a\\u0443\\u043b\\u044c\\u0442\\u043e\\u0432\\u0438\\u0445 \\u0441\\u043f\\u043e\\u0440\\u0443\\u0434 \\u0456 \\u0437\\u0430\\u0431\\u043e\\u0440\\u043e\\u043d\\u0443 \\u043f\\u0443\\u0431\\u043b\\u0456\\u0447\\u043d\\u0438\\u0445 \\u0440\\u0435\\u043b\\u0456\\u0433\\u0456\\u0439\\u043d\\u0438\\u0445 \\u0432\\u0456\\u0434\\u043f\\u0440\\u0430\\u0432'}],\n",
       "    'task': u'\\u0417\\u0430\\u0445\\u043e\\u0434\\u0438 \\u0437 \\u0440\\u0430\\u0434\\u044f\\u043d\\u0456\\u0437\\u0430\\u0446\\u0456\\u0457 \\u0417\\u0430\\u0445\\u0456\\u0434\\u043d\\u043e\\u0443\\u043a\\u0440\\u0430\\u0457\\u043d\\u0441\\u044c\\u043a\\u0438\\u0445 \\u0437\\u0435\\u043c\\u0435\\u043b\\u044c \\u043f\\u0435\\u0440\\u0435\\u0434\\u0431\\u0430\\u0447\\u0430\\u043b\\u0438 \\u0442\\u0430\\u043a\\u0456 \\u0441\\u043a\\u043b\\u0430\\u0434\\u043e\\u0432\\u0456 (\\u0432\\u0438\\u0431\\u0435\\u0440\\u0456...'},\n",
       "   {'options': [{'correct': False,\n",
       "      'text': u'\\u0420\\u0443\\u043c\\u0443\\u043d\\u0441\\u044c\\u043a\\u0438\\u0439'},\n",
       "     {'correct': False,\n",
       "      'text': u'\\u0411\\u0443\\u043a\\u043e\\u0432\\u0438\\u043d\\u0441\\u044c\\u043a\\u043e-\\u0411\\u0435\\u0441\\u0441\\u0430\\u0440\\u0430\\u0431\\u0441\\u044c\\u043a\\u0438\\u0439 '},\n",
       "     {'correct': False,\n",
       "      'text': u'\\u041c\\u043e\\u043b\\u0434\\u0430\\u0432\\u0441\\u044c\\u043a\\u0438\\u0439'},\n",
       "     {'correct': False,\n",
       "      'text': u'\\u041f\\u0456\\u0432\\u0434\\u0435\\u043d\\u043d\\u043e-\\u0417\\u0430\\u0445\\u0456\\u0434\\u043d\\u0438\\u0439'},\n",
       "     {'correct': True,\n",
       "      'text': u'\\u041f\\u0456\\u0432\\u0434\\u0435\\u043d\\u043d\\u0438\\u0439'},\n",
       "     {'correct': False,\n",
       "      'text': u'\\u0427\\u043e\\u0440\\u043d\\u043e\\u043c\\u043e\\u0440\\u0441\\u044c\\u043a\\u0438\\u0439'}],\n",
       "    'task': u'\\u042f\\u043a\\u0438\\u0439 \\u0444\\u0440\\u043e\\u043d\\u0442 \\u043d\\u0430 \\u0443\\u043a\\u0440\\u0430\\u0457\\u043d\\u0441\\u044c\\u043a\\u0438\\u0445 \\u0437\\u0435\\u043c\\u043b\\u044f\\u0445 \\u0431\\u0443\\u043b\\u043e \\u0441\\u0444\\u043e\\u0440\\u043c\\u043e\\u0432\\u0430\\u043d\\u043e \\u043f\\u0456\\u0434 \\u0447\\u0430\\u0441 \\u0430\\u043d\\u0435\\u043a\\u0441\\u0456\\u0457 \\u0411\\u0435\\u0441\\u0441\\u0430\\u0440\\u0430\\u0431\\u0456\\u0457 \\u0442\\u0430 \\u041f...'},\n",
       "   {'options': [{'correct': False,\n",
       "      'text': u'3 \\u043b\\u0438\\u043f\\u043d\\u044f 1940 \\u0440.'},\n",
       "     {'correct': False,\n",
       "      'text': u'15 \\u043b\\u0438\\u043f\\u043d\\u044f 1940 \\u0440. '},\n",
       "     {'correct': False,\n",
       "      'text': u'1 \\u0441\\u0435\\u0440\\u043f\\u043d\\u044f 1940 \\u0440. '},\n",
       "     {'correct': True,\n",
       "      'text': u'2 \\u0441\\u0435\\u0440\\u043f\\u043d\\u044f 1940 \\u0440.'},\n",
       "     {'correct': False,\n",
       "      'text': u'15 \\u0441\\u0435\\u0440\\u043f\\u043d\\u044f 1940 \\u0440.'},\n",
       "     {'correct': False,\n",
       "      'text': u'1 \\u0432\\u0435\\u0440\\u0435\\u0441\\u043d\\u044f 1940 \\u0440. '}],\n",
       "    'task': u'\\u041a\\u043e\\u043b\\u0438 \\u0442\\u0435\\u0440\\u0438\\u0442\\u043e\\u0440\\u0456\\u0457 \\u041f\\u0456\\u0432\\u043d\\u0456\\u0447\\u043d\\u043e\\u0457 \\u0411\\u0443\\u043a\\u043e\\u0432\\u0438\\u043d\\u0438, \\u041f\\u0456\\u0432\\u043d\\u0456\\u0447\\u043d\\u043e\\u0457 \\u0442\\u0430 \\u041f\\u0456\\u0432\\u0434\\u0435\\u043d\\u043d\\u043e\\u0457 \\u0411\\u0435\\u0441\\u0441\\u0430\\u0440\\u0430\\u0431\\u0456\\u0457 \\u0431\\u0443\\u043b\\u0438 \\u043e\\u0444\\u0456\\u0446\\u0456\\u0439...'}]},\n",
       " {'course': '101',\n",
       "  'display_name': u'\\u0422\\u0435\\u0441\\u0442 2 \\u0442\\u0438\\u0436\\u043d\\u044f',\n",
       "  'name': u'43dbbb5417294a0faa1c43f02473e7ec',\n",
       "  'org': 'KNU',\n",
       "  'structure': []},\n",
       " {'course': '101',\n",
       "  'display_name': u'\\u0422\\u0435\\u0441\\u0442 3 \\u0442\\u0438\\u0436\\u043d\\u044f',\n",
       "  'name': u'84d4314a7fd041f59e9219de9b4e7cd0',\n",
       "  'org': 'KNU',\n",
       "  'structure': []},\n",
       " {'course': '101',\n",
       "  'display_name': u'\\u0422\\u0435\\u0441\\u0442 4 \\u0442\\u0438\\u0436\\u043d\\u044f',\n",
       "  'name': u'7ac56261c85548fd97ae8a56e5a355f6',\n",
       "  'org': 'KNU',\n",
       "  'structure': []},\n",
       " {'course': '101',\n",
       "  'display_name': u'\\u0422\\u0435\\u0441\\u0442 5 \\u0442\\u0438\\u0436\\u043d\\u044f',\n",
       "  'name': u'b9daef58e5884fa8b0c36c5c9bd233ce',\n",
       "  'org': 'KNU',\n",
       "  'structure': []},\n",
       " {'course': '101',\n",
       "  'display_name': u'\\u0422\\u0435\\u0441\\u0442 6 \\u0442\\u0438\\u0436\\u043d\\u044f',\n",
       "  'name': u'7fb5b2515e09416f9977f465f909a746',\n",
       "  'org': 'KNU',\n",
       "  'structure': []},\n",
       " {'course': '101',\n",
       "  'display_name': u'\\u0406\\u0441\\u043f\\u0438\\u0442',\n",
       "  'name': u'e663ed76dc9445dead9354a158daf163',\n",
       "  'org': 'KNU',\n",
       "  'structure': []}]"
      ]
     },
     "execution_count": 127,
     "metadata": {},
     "output_type": "execute_result"
    }
   ],
   "source": [
    "course_id = 'KNU/101/2014_T2'\n",
    "org, course, period = course_id.split('/')\n",
    "problems = []\n",
    "for problem in modules.find({\"_id.course\":course,\"_id.org\":org,\"_id.category\":\"problem\"}):\n",
    "    name = problem['_id']['name']\n",
    "    xml = minidom.parseString(problem['definition']['data']['data'].encode('utf-8'))\n",
    "    vertical = modules.find_one({\"_id.course\":course,\"_id.org\":org,\"_id.category\":\"vertical\",'definition.children': {'$elemMatch' : {'$regex' : \".*{0}.*\".format(name)}}})\n",
    "    display_name= vertical['metadata']['display_name']\n",
    "    structure = []\n",
    "    for node in xml.documentElement.getElementsByTagName('checkboxgroup'):\n",
    "        task =  node.getAttribute('label')[:80] + '...'\n",
    "        options = [{'correct': i.getAttribute('correct') == 'true', 'text': i.firstChild.nodeValue[:80] + ('...' if len(i.firstChild.nodeValue) > 80 else '')} for i in node.getElementsByTagName('choice')]\n",
    "        structure.append({'task':task, 'options':options})\n",
    "    problems.append({'org':org,'course':course,'name':name, 'display_name':display_name, 'structure':structure})\n",
    "\n",
    "problems"
   ]
  },
  {
   "cell_type": "code",
   "execution_count": 128,
   "metadata": {
    "collapsed": false
   },
   "outputs": [
    {
     "name": "stdout",
     "output_type": "stream",
     "text": [
      "Тест 1 тижня\n",
      "Тест 2 тижня\n",
      "Тест 3 тижня\n",
      "Тест 4 тижня\n",
      "Тест 5 тижня\n",
      "Тест 6 тижня\n",
      "Іспит\n"
     ]
    }
   ],
   "source": [
    "for i in problems:\n",
    "    print i['display_name']"
   ]
  },
  {
   "cell_type": "code",
   "execution_count": null,
   "metadata": {
    "collapsed": true
   },
   "outputs": [],
   "source": []
  }
 ],
 "metadata": {
  "kernelspec": {
   "display_name": "Python 2",
   "language": "python",
   "name": "python2"
  },
  "language_info": {
   "codemirror_mode": {
    "name": "ipython",
    "version": 2
   },
   "file_extension": ".py",
   "mimetype": "text/x-python",
   "name": "python",
   "nbconvert_exporter": "python",
   "pygments_lexer": "ipython2",
   "version": "2.7.13"
  }
 },
 "nbformat": 4,
 "nbformat_minor": 0
}
