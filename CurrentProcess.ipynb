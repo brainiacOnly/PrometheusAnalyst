{
 "cells": [
  {
   "cell_type": "code",
   "execution_count": 25,
   "metadata": {
    "collapsed": false
   },
   "outputs": [],
   "source": [
    "import pandas as pd\n",
    "import numpy as np\n",
    "import time\n",
    "import copy\n",
    "import datetime\n",
    "from sklearn import linear_model\n",
    "from sklearn.cross_validation import cross_val_predict\n",
    "from sklearn.naive_bayes import GaussianNB"
   ]
  },
  {
   "cell_type": "code",
   "execution_count": 59,
   "metadata": {
    "collapsed": false
   },
   "outputs": [],
   "source": [
    "course_id = 'KNU/101/2014_T2'\n",
    "user_id = 50444\n",
    "sm = pd.read_csv('data\\courseware_studentmodule.csv')"
   ]
  },
  {
   "cell_type": "code",
   "execution_count": 60,
   "metadata": {
    "collapsed": false
   },
   "outputs": [],
   "source": [
    "users = pd.read_csv('data\\users.csv')"
   ]
  },
  {
   "cell_type": "code",
   "execution_count": 61,
   "metadata": {
    "collapsed": false
   },
   "outputs": [],
   "source": [
    "cert = pd.read_csv('data\\certificates_generatedcertificate.csv')"
   ]
  },
  {
   "cell_type": "code",
   "execution_count": 76,
   "metadata": {
    "collapsed": false
   },
   "outputs": [],
   "source": [
    "related_columns = sm[(sm.module_type == 'problem') & (sm.course_id == course_id)].module_id.unique()"
   ]
  },
  {
   "cell_type": "code",
   "execution_count": 63,
   "metadata": {
    "collapsed": false
   },
   "outputs": [],
   "source": [
    "sm = sm[sm.module_type == 'problem']\n",
    "sm = sm.rename(columns = {'student_id':'user_id'})\n",
    "sm.grade = map(lambda x: x if x != '\\\\b' else 0,sm.grade.tolist())\n",
    "cert = cert[cert.course_id == course_id]\n",
    "registered = cert.user_id.unique()\n",
    "users = users[users.id.isin(registered)]"
   ]
  },
  {
   "cell_type": "code",
   "execution_count": null,
   "metadata": {
    "collapsed": false
   },
   "outputs": [],
   "source": []
  },
  {
   "cell_type": "code",
   "execution_count": 64,
   "metadata": {
    "collapsed": false
   },
   "outputs": [
    {
     "name": "stdout",
     "output_type": "stream",
     "text": [
      "__getProblemResultFeatures finished in 89.3380000591\n"
     ]
    }
   ],
   "source": [
    "#fit\n",
    "##__getProblemResultFeatures\n",
    "start_time = time.time()\n",
    "modules = sm.module_id.unique().tolist()\n",
    "result = []\n",
    "for module in modules:\n",
    "    first = sm[sm.module_id == module].created.min()\n",
    "    result.append({'name':module,'date':first})\n",
    "labels = map(lambda x: x['name'],sorted(result,key=lambda x: x['date']))\n",
    "rebased = sm.pivot(index='user_id',columns='module_id',values='grade')\n",
    "rebased = rebased[labels].fillna(0)\n",
    "res_features =  rebased\n",
    "print '__getProblemResultFeatures finished in ' + str(time.time() - start_time)\n",
    "##"
   ]
  },
  {
   "cell_type": "code",
   "execution_count": 66,
   "metadata": {
    "collapsed": false
   },
   "outputs": [
    {
     "name": "stdout",
     "output_type": "stream",
     "text": [
      "__getUserDataFeatures finished in 0.676000118256\n"
     ]
    }
   ],
   "source": [
    "##__getUserDataFeatures\n",
    "start_time = time.time()\n",
    "u = pd.DataFrame(users[['gender','year_of_birth','level_of_education']],index=users.user_id)\n",
    "c = cert.set_index(cert.user_id)[['grade','status']]\n",
    "c['status'] = c.apply(lambda x: 1 if x.status == 'downloadable' else 0,1)\n",
    "u_features = c.join(u)\n",
    "print '__getUserDataFeatures finished in ' + str(time.time() - start_time)\n",
    "##"
   ]
  },
  {
   "cell_type": "code",
   "execution_count": 67,
   "metadata": {
    "collapsed": false
   },
   "outputs": [
    {
     "data": {
      "text/plain": [
       "53013"
      ]
     },
     "execution_count": 67,
     "metadata": {},
     "output_type": "execute_result"
    }
   ],
   "source": [
    "len(res_features)"
   ]
  },
  {
   "cell_type": "code",
   "execution_count": 68,
   "metadata": {
    "collapsed": false
   },
   "outputs": [
    {
     "name": "stdout",
     "output_type": "stream",
     "text": [
      "__lastPassedTest finished in 0.00600004196167\n"
     ]
    }
   ],
   "source": [
    "##__lastPassedTest\n",
    "start_time = time.time()\n",
    "features = res_features.ix[user_id].tolist()\n",
    "index = len(features)\n",
    "for i in reversed(features):\n",
    "    if i != 0:\n",
    "        break\n",
    "    index -= 1\n",
    "if index == 0:\n",
    "    index = len(res_features.columns)\n",
    "last = index\n",
    "print '__lastPassedTest finished in ' + str(time.time() - start_time)\n",
    "##"
   ]
  },
  {
   "cell_type": "code",
   "execution_count": 69,
   "metadata": {
    "collapsed": false
   },
   "outputs": [
    {
     "name": "stdout",
     "output_type": "stream",
     "text": [
      "_final preparations finished in 3.64800000191\n"
     ]
    }
   ],
   "source": [
    "start_time = time.time()\n",
    "cols = res_features.columns[:last].tolist()\n",
    "dataset = u_features.join(res_features)\n",
    "data = dataset[cols].fillna(0)\n",
    "Y = dataset.status\n",
    "print '_final preparations finished in ' + str(time.time() - start_time)"
   ]
  },
  {
   "cell_type": "code",
   "execution_count": 70,
   "metadata": {
    "collapsed": false
   },
   "outputs": [
    {
     "name": "stdout",
     "output_type": "stream",
     "text": [
      "cross_val_predict finished in 4.67900013924\n",
      "fit finished in 1.35299992561\n"
     ]
    }
   ],
   "source": [
    "model = GaussianNB()\n",
    "start_time = time.time()\n",
    "predicted = cross_val_predict(model, data, Y)\n",
    "print 'cross_val_predict finished in ' + str(time.time() - start_time)\n",
    "\n",
    "score = float(np.sum(predicted == Y))/len(data)\n",
    "start_time = time.time()\n",
    "model.fit(data,Y)\n",
    "print 'fit finished in ' + str(time.time() - start_time)"
   ]
  },
  {
   "cell_type": "code",
   "execution_count": 71,
   "metadata": {
    "collapsed": false
   },
   "outputs": [
    {
     "name": "stdout",
     "output_type": "stream",
     "text": [
      "predict finished in 0.570999860764\n",
      "0.607830299856\n"
     ]
    },
    {
     "name": "stderr",
     "output_type": "stream",
     "text": [
      "C:\\Users\\mberezhnyak\\AppData\\Local\\Continuum\\Anaconda2\\lib\\site-packages\\sklearn\\utils\\validation.py:395: DeprecationWarning: Passing 1d arrays as data is deprecated in 0.17 and will raise ValueError in 0.19. Reshape your data either using X.reshape(-1, 1) if your data has a single feature or X.reshape(1, -1) if it contains a single sample.\n",
      "  DeprecationWarning)\n"
     ]
    }
   ],
   "source": [
    "#predict\n",
    "\n",
    "cols = res_features.columns.tolist()[:last]\n",
    "start_time = time.time()\n",
    "answer = model.predict(res_features[cols].ix[user_id].tolist())\n",
    "print 'predict finished in ' + str(time.time() - start_time)\n",
    "print score"
   ]
  },
  {
   "cell_type": "code",
   "execution_count": null,
   "metadata": {
    "collapsed": false
   },
   "outputs": [],
   "source": []
  },
  {
   "cell_type": "code",
   "execution_count": 58,
   "metadata": {
    "collapsed": false
   },
   "outputs": [
    {
     "name": "stdout",
     "output_type": "stream",
     "text": [
      "__getProblemResultFeatures finished in 6.3029999733\n",
      "__getUserDataFeatures finished in 0.763999938965\n",
      "__lastPassedTest finished in 0.00499987602234\n",
      "_final preparations finished in 0.0540001392365\n",
      "cross_val_predict finished in 0.0899999141693\n",
      "score is 0.992078041116\n",
      "fit finished in 0.0230000019073\n",
      "predict finished in 0.00600004196167\n"
     ]
    },
    {
     "name": "stderr",
     "output_type": "stream",
     "text": [
      "C:\\Users\\mberezhnyak\\AppData\\Local\\Continuum\\Anaconda2\\lib\\site-packages\\sklearn\\utils\\validation.py:395: DeprecationWarning: Passing 1d arrays as data is deprecated in 0.17 and will raise ValueError in 0.19. Reshape your data either using X.reshape(-1, 1) if your data has a single feature or X.reshape(1, -1) if it contains a single sample.\n",
      "  DeprecationWarning)\n"
     ]
    }
   ],
   "source": [
    "#fit\n",
    "##__getProblemResultFeatures\n",
    "start_time = time.time()\n",
    "modules = sm[sm.course_id == course_id].module_id.unique().tolist()\n",
    "result = []\n",
    "for module in modules:\n",
    "    first = sm[sm.module_id == module].created.min()\n",
    "    result.append({'name':module,'date':first})\n",
    "labels = map(lambda x: x['name'],sorted(result,key=lambda x: x['date']))\n",
    "rebased = sm.pivot(index='user_id',columns='module_id',values='grade')\n",
    "rebased = rebased[labels].fillna(0)\n",
    "res_features =  rebased\n",
    "print '__getProblemResultFeatures finished in ' + str(time.time() - start_time)\n",
    "##\n",
    "##__getUserDataFeatures\n",
    "start_time = time.time()\n",
    "u = pd.DataFrame(users[['gender','year_of_birth','level_of_education']],index=users.user_id)\n",
    "c = cert.set_index(cert.user_id)[['grade','status']]\n",
    "c['status'] = c.apply(lambda x: 1 if x.status == 'downloadable' else 0,1)\n",
    "u_features = c.join(u)\n",
    "print '__getUserDataFeatures finished in ' + str(time.time() - start_time)\n",
    "##\n",
    "##__lastPassedTest\n",
    "start_time = time.time()\n",
    "features = res_features.ix[user_id].tolist()\n",
    "index = len(features)\n",
    "for i in reversed(features):\n",
    "    if i != 0:\n",
    "        break\n",
    "    index -= 1\n",
    "if index == 0:\n",
    "    index = len(res_features.columns)\n",
    "last = index\n",
    "print '__lastPassedTest finished in ' + str(time.time() - start_time)\n",
    "#############\n",
    "start_time = time.time()\n",
    "cols = res_features.columns[:last].tolist()\n",
    "dataset = u_features.join(res_features)\n",
    "data = dataset[cols].fillna(0)\n",
    "Y = dataset.status\n",
    "print '_final preparations finished in ' + str(time.time() - start_time)\n",
    "##############\n",
    "\n",
    "input = dataset.fillna(0)\n",
    "output = dataset.status\n",
    "\n",
    "#prediction test\n",
    "model = GaussianNB()\n",
    "start_time = time.time()\n",
    "predicted = cross_val_predict(model, data, Y)\n",
    "print 'cross_val_predict finished in ' + str(time.time() - start_time)\n",
    "\n",
    "score = float(np.sum(predicted == Y))/len(data)\n",
    "start_time = time.time()\n",
    "model.fit(data,Y)\n",
    "print 'score is {0}'.format(score)\n",
    "print 'fit finished in ' + str(time.time() - start_time)\n",
    "\n",
    "cols = res_features.columns.tolist()[:last]\n",
    "start_time = time.time()\n",
    "answer = model.predict(res_features[cols].ix[user_id].tolist())\n",
    "print 'predict finished in ' + str(time.time() - start_time)"
   ]
  },
  {
   "cell_type": "code",
   "execution_count": 72,
   "metadata": {
    "collapsed": false
   },
   "outputs": [
    {
     "name": "stdout",
     "output_type": "stream",
     "text": [
      "status\n",
      "i4x://Prometheus/103/problem/e09fe3fb88334075b272a202f08694f8\n"
     ]
    }
   ],
   "source": [
    "ex_cols = list(cols)\n",
    "ex_cols.append('status')\n",
    "print ex_cols[-1]\n",
    "print ex_cols[-2]"
   ]
  },
  {
   "cell_type": "code",
   "execution_count": 73,
   "metadata": {
    "collapsed": false
   },
   "outputs": [],
   "source": [
    "dataset_x = dataset.fillna(0)[ex_cols]\n",
    "\n",
    "baseFrame = pd.DataFrame(dataset_x.values.astype(float), columns=dataset_x.columns, index=map(lambda x: str(x) + '_x0' ,dataset_x.index.tolist()))\n",
    "#for i in range(1,5):\n",
    "#    currentFrame = pd.DataFrame(dataset_x.values.astype(float), columns=dataset_x.columns, index=map(lambda x: str(x) + '_x' + str(i) ,dataset_x.index.tolist()))\n",
    "#    baseFrame = pd.concat([baseFrame, currentFrame])"
   ]
  },
  {
   "cell_type": "code",
   "execution_count": 74,
   "metadata": {
    "collapsed": false
   },
   "outputs": [
    {
     "name": "stdout",
     "output_type": "stream",
     "text": [
      "1076\n",
      "1077\n",
      "15274\n"
     ]
    }
   ],
   "source": [
    "print len(cols)\n",
    "print len(baseFrame.columns)\n",
    "print len(baseFrame)"
   ]
  },
  {
   "cell_type": "code",
   "execution_count": 19,
   "metadata": {
    "collapsed": false
   },
   "outputs": [
    {
     "name": "stdout",
     "output_type": "stream",
     "text": [
      "cross_val_predict finished in 11.6229999065\n",
      "fit finished in 3.16700005531\n",
      "predict finished in 0.612999916077\n"
     ]
    }
   ],
   "source": [
    "input = baseFrame[cols]\n",
    "output = baseFrame.status\n",
    "\n",
    "#prediction test\n",
    "model = GaussianNB()\n",
    "start_time = time.time()\n",
    "predicted = cross_val_predict(model, input, output)\n",
    "print 'cross_val_predict finished in ' + str(time.time() - start_time)\n",
    "\n",
    "score = float(np.sum(predicted == output))/len(input)\n",
    "start_time = time.time()\n",
    "model.fit(input,output)\n",
    "print 'fit finished in ' + str(time.time() - start_time)\n",
    "\n",
    "cols = res_features.columns.tolist()[:last]\n",
    "start_time = time.time()\n",
    "answer = model.predict(res_features[cols].ix[user_id].tolist())\n",
    "print 'predict finished in ' + str(time.time() - start_time)"
   ]
  },
  {
   "cell_type": "code",
   "execution_count": 21,
   "metadata": {
    "collapsed": false
   },
   "outputs": [],
   "source": [
    "dataset_x.to_csv('data\\dummy\\dataset_x.csv')"
   ]
  },
  {
   "cell_type": "code",
   "execution_count": 25,
   "metadata": {
    "collapsed": false
   },
   "outputs": [
    {
     "data": {
      "text/html": [
       "<div>\n",
       "<table border=\"1\" class=\"dataframe\">\n",
       "  <thead>\n",
       "    <tr style=\"text-align: right;\">\n",
       "      <th></th>\n",
       "      <th>one</th>\n",
       "      <th>two</th>\n",
       "      <th>three</th>\n",
       "    </tr>\n",
       "  </thead>\n",
       "  <tbody>\n",
       "    <tr>\n",
       "      <th>0</th>\n",
       "      <td>1</td>\n",
       "      <td>1</td>\n",
       "      <td>1</td>\n",
       "    </tr>\n",
       "    <tr>\n",
       "      <th>1</th>\n",
       "      <td>1</td>\n",
       "      <td>1</td>\n",
       "      <td>1</td>\n",
       "    </tr>\n",
       "  </tbody>\n",
       "</table>\n",
       "</div>"
      ],
      "text/plain": [
       "   one  two  three\n",
       "0    1    1      1\n",
       "1    1    1      1"
      ]
     },
     "execution_count": 25,
     "metadata": {},
     "output_type": "execute_result"
    }
   ],
   "source": [
    "a = pd.DataFrame([[1,1,1],[1,1,1]], columns=['one','two','three'])\n",
    "a"
   ]
  },
  {
   "cell_type": "code",
   "execution_count": 26,
   "metadata": {
    "collapsed": false
   },
   "outputs": [],
   "source": [
    "#a.to_csv('a.csv',index=False)\n",
    "#b = pd.DataFrame([[2,2,2],[2,2,2]], columns=['one','two','three'])\n",
    "#with open('a.csv', 'a') as f:\n",
    "#    b.to_csv(f, header=False,index=False)"
   ]
  },
  {
   "cell_type": "code",
   "execution_count": 79,
   "metadata": {
    "collapsed": false
   },
   "outputs": [],
   "source": [
    "related_columns_with_status = list(related_columns)\n",
    "related_columns_with_status.append('status')\n",
    "related_columns_with_status\n",
    "dataset_reduced = dataset_x[related_columns_with_status]"
   ]
  },
  {
   "cell_type": "code",
   "execution_count": 81,
   "metadata": {
    "collapsed": true
   },
   "outputs": [],
   "source": [
    "#for i in range(0,17):\n",
    "#    name = 'data\\dummy\\ds_x{0}.csv'.format(i*5)\n",
    "#    dataset_reduced.to_csv(name, index=False)\n",
    "#    for j in range(1, i*5):\n",
    "#        with open(name, 'a') as f:\n",
    "#            dataset_reduced.to_csv(f, header=False,index=False)"
   ]
  },
  {
   "cell_type": "code",
   "execution_count": 94,
   "metadata": {
    "collapsed": false
   },
   "outputs": [],
   "source": [
    "r = []\n",
    "a = [1,2,3]\n",
    "r.append(a)\n",
    "a = [4,5,6]\n",
    "r.append(a)\n",
    "a = [7,8,9]\n",
    "r.append(a)\n",
    "df = pd.DataFrame(r)\n",
    "df.to_csv('data\\\\test.csv',header=False,index=False,sep='\\t')"
   ]
  },
  {
   "cell_type": "code",
   "execution_count": null,
   "metadata": {
    "collapsed": false
   },
   "outputs": [],
   "source": []
  },
  {
   "cell_type": "code",
   "execution_count": 6,
   "metadata": {
    "collapsed": false
   },
   "outputs": [
    {
     "data": {
      "image/png": "[encoded data removed]",
      "text/plain": [
       "<matplotlib.figure.Figure at 0x3c7e9550>"
      ]
     },
     "metadata": {},
     "output_type": "display_data"
    }
   ],
   "source": [
    "import matplotlib.pyplot as plt\n",
    "%matplotlib inline\n",
    "plt.plot([1,2,3,4])\n",
    "plt.show()"
   ]
  },
  {
   "cell_type": "code",
   "execution_count": 7,
   "metadata": {
    "collapsed": false
   },
   "outputs": [
    {
     "data": {
      "text/plain": [
       "[<matplotlib.lines.Line2D at 0x1653b128>]"
      ]
     },
     "execution_count": 7,
     "metadata": {},
     "output_type": "execute_result"
    },
    {
     "data": {
      "image/png": "[encoded data removed]",
      "text/plain": [
       "<matplotlib.figure.Figure at 0x1621b320>"
      ]
     },
     "metadata": {},
     "output_type": "display_data"
    }
   ],
   "source": [
    "plt.plot([i+1 for i in range(0,len(cross_validation_timing))],cross_validation_timing)"
   ]
  },
  {
   "cell_type": "code",
   "execution_count": 8,
   "metadata": {
    "collapsed": false
   },
   "outputs": [
    {
     "data": {
      "text/plain": [
       "[<matplotlib.lines.Line2D at 0x3691f4a8>]"
      ]
     },
     "execution_count": 8,
     "metadata": {},
     "output_type": "execute_result"
    },
    {
     "data": {
      "image/png": "[encoded data removed]",
      "text/plain": [
       "<matplotlib.figure.Figure at 0x71fc91d0>"
      ]
     },
     "metadata": {},
     "output_type": "display_data"
    }
   ],
   "source": [
    "plt.plot([i+1 for i in range(0,len(fit_timing))],fit_timing)"
   ]
  },
  {
   "cell_type": "code",
   "execution_count": 9,
   "metadata": {
    "collapsed": false
   },
   "outputs": [
    {
     "data": {
      "text/plain": [
       "[<matplotlib.lines.Line2D at 0x44771400>]"
      ]
     },
     "execution_count": 9,
     "metadata": {},
     "output_type": "execute_result"
    },
    {
     "data": {
      "image/png": "[encoded data removed]",
      "text/plain": [
       "<matplotlib.figure.Figure at 0x369509e8>"
      ]
     },
     "metadata": {},
     "output_type": "display_data"
    }
   ],
   "source": [
    "plt.plot([i+1 for i in range(0,len(predict_timing))],predict_timing)"
   ]
  },
  {
   "cell_type": "code",
   "execution_count": 11,
   "metadata": {
    "collapsed": false
   },
   "outputs": [
    {
     "data": {
      "text/plain": [
       "3"
      ]
     },
     "execution_count": 11,
     "metadata": {},
     "output_type": "execute_result"
    }
   ],
   "source": [
    "195/60"
   ]
  },
  {
   "cell_type": "code",
   "execution_count": 16,
   "metadata": {
    "collapsed": false
   },
   "outputs": [
    {
     "ename": "ImportError",
     "evalue": "cannot import name PY3",
     "output_type": "error",
     "traceback": [
      "\u001b[1;31m---------------------------------------------------------------------------\u001b[0m",
      "\u001b[1;31mImportError\u001b[0m                               Traceback (most recent call last)",
      "\u001b[1;32m<ipython-input-16-5234d82c2d11>\u001b[0m in \u001b[0;36m<module>\u001b[1;34m()\u001b[0m\n\u001b[1;32m----> 1\u001b[1;33m \u001b[1;32mfrom\u001b[0m \u001b[0mdistributed\u001b[0m\u001b[1;33m.\u001b[0m\u001b[0mjoblib\u001b[0m \u001b[1;32mimport\u001b[0m \u001b[0mDistributedBackend\u001b[0m\u001b[1;33m\u001b[0m\u001b[0m\n\u001b[0m",
      "\u001b[1;32mC:\\Users\\mberezhnyak\\AppData\\Local\\Continuum\\Anaconda2\\lib\\site-packages\\distributed\\__init__.py\u001b[0m in \u001b[0;36m<module>\u001b[1;34m()\u001b[0m\n\u001b[0;32m      2\u001b[0m \u001b[1;33m\u001b[0m\u001b[0m\n\u001b[0;32m      3\u001b[0m \u001b[1;32mfrom\u001b[0m \u001b[1;33m.\u001b[0m\u001b[0mconfig\u001b[0m \u001b[1;32mimport\u001b[0m \u001b[0mconfig\u001b[0m\u001b[1;33m\u001b[0m\u001b[0m\n\u001b[1;32m----> 4\u001b[1;33m \u001b[1;32mfrom\u001b[0m \u001b[1;33m.\u001b[0m\u001b[0mcore\u001b[0m \u001b[1;32mimport\u001b[0m \u001b[0mconnect\u001b[0m\u001b[1;33m,\u001b[0m \u001b[0mrpc\u001b[0m\u001b[1;33m\u001b[0m\u001b[0m\n\u001b[0m\u001b[0;32m      5\u001b[0m \u001b[1;32mfrom\u001b[0m \u001b[1;33m.\u001b[0m\u001b[0mdeploy\u001b[0m \u001b[1;32mimport\u001b[0m \u001b[0mLocalCluster\u001b[0m\u001b[1;33m\u001b[0m\u001b[0m\n\u001b[0;32m      6\u001b[0m \u001b[1;32mfrom\u001b[0m \u001b[1;33m.\u001b[0m\u001b[0mdiagnostics\u001b[0m \u001b[1;32mimport\u001b[0m \u001b[0mprogress\u001b[0m\u001b[1;33m\u001b[0m\u001b[0m\n",
      "\u001b[1;32mC:\\Users\\mberezhnyak\\AppData\\Local\\Continuum\\Anaconda2\\lib\\site-packages\\distributed\\core.py\u001b[0m in \u001b[0;36m<module>\u001b[1;34m()\u001b[0m\n\u001b[0;32m     12\u001b[0m \u001b[1;32mfrom\u001b[0m \u001b[0mtoolz\u001b[0m \u001b[1;32mimport\u001b[0m \u001b[0massoc\u001b[0m\u001b[1;33m\u001b[0m\u001b[0m\n\u001b[0;32m     13\u001b[0m \u001b[1;33m\u001b[0m\u001b[0m\n\u001b[1;32m---> 14\u001b[1;33m \u001b[1;32mfrom\u001b[0m \u001b[0mtornado\u001b[0m \u001b[1;32mimport\u001b[0m \u001b[0mgen\u001b[0m\u001b[1;33m\u001b[0m\u001b[0m\n\u001b[0m\u001b[0;32m     15\u001b[0m \u001b[1;32mfrom\u001b[0m \u001b[0mtornado\u001b[0m\u001b[1;33m.\u001b[0m\u001b[0mioloop\u001b[0m \u001b[1;32mimport\u001b[0m \u001b[0mIOLoop\u001b[0m\u001b[1;33m,\u001b[0m \u001b[0mPeriodicCallback\u001b[0m\u001b[1;33m\u001b[0m\u001b[0m\n\u001b[0;32m     16\u001b[0m \u001b[1;32mfrom\u001b[0m \u001b[0mtornado\u001b[0m\u001b[1;33m.\u001b[0m\u001b[0mlocks\u001b[0m \u001b[1;32mimport\u001b[0m \u001b[0mEvent\u001b[0m\u001b[1;33m\u001b[0m\u001b[0m\n",
      "\u001b[1;32mC:\\Users\\mberezhnyak\\AppData\\Local\\Continuum\\Anaconda2\\lib\\site-packages\\tornado\\gen.py\u001b[0m in \u001b[0;36m<module>\u001b[1;34m()\u001b[0m\n\u001b[0;32m     90\u001b[0m \u001b[1;32mfrom\u001b[0m \u001b[0mtornado\u001b[0m\u001b[1;33m.\u001b[0m\u001b[0mlog\u001b[0m \u001b[1;32mimport\u001b[0m \u001b[0mapp_log\u001b[0m\u001b[1;33m\u001b[0m\u001b[0m\n\u001b[0;32m     91\u001b[0m \u001b[1;32mfrom\u001b[0m \u001b[0mtornado\u001b[0m \u001b[1;32mimport\u001b[0m \u001b[0mstack_context\u001b[0m\u001b[1;33m\u001b[0m\u001b[0m\n\u001b[1;32m---> 92\u001b[1;33m \u001b[1;32mfrom\u001b[0m \u001b[0mtornado\u001b[0m\u001b[1;33m.\u001b[0m\u001b[0mutil\u001b[0m \u001b[1;32mimport\u001b[0m \u001b[0mPY3\u001b[0m\u001b[1;33m,\u001b[0m \u001b[0mraise_exc_info\u001b[0m\u001b[1;33m\u001b[0m\u001b[0m\n\u001b[0m\u001b[0;32m     93\u001b[0m \u001b[1;33m\u001b[0m\u001b[0m\n\u001b[0;32m     94\u001b[0m \u001b[1;32mtry\u001b[0m\u001b[1;33m:\u001b[0m\u001b[1;33m\u001b[0m\u001b[0m\n",
      "\u001b[1;31mImportError\u001b[0m: cannot import name PY3"
     ]
    }
   ],
   "source": [
    "from distributed.joblib import DistributedBackend"
   ]
  },
  {
   "cell_type": "code",
   "execution_count": 2,
   "metadata": {
    "collapsed": false
   },
   "outputs": [],
   "source": [
    "name = 'data\\dummy\\ds_x0.csv'\n",
    "df = pd.read_csv(name)"
   ]
  },
  {
   "cell_type": "code",
   "execution_count": 5,
   "metadata": {
    "collapsed": false
   },
   "outputs": [
    {
     "name": "stdout",
     "output_type": "stream",
     "text": [
      "8.59630745057\n"
     ]
    }
   ],
   "source": [
    "print len(df[df.status == 1]) * 100.0 /len(df)"
   ]
  },
  {
   "cell_type": "code",
   "execution_count": 11,
   "metadata": {
    "collapsed": false
   },
   "outputs": [],
   "source": [
    "from imblearn.under_sampling import RandomUnderSampler\n",
    "from sklearn.decomposition import PCA"
   ]
  },
  {
   "cell_type": "code",
   "execution_count": 15,
   "metadata": {
    "collapsed": false
   },
   "outputs": [],
   "source": [
    "rus = RandomUnderSampler(return_indices=True)\n",
    "X_resampled, y_resampled, idx_resampled = rus.fit_sample(df[df.columns.tolist()[:-1]], df.status)"
   ]
  },
  {
   "cell_type": "code",
   "execution_count": 23,
   "metadata": {
    "collapsed": false
   },
   "outputs": [
    {
     "name": "stdout",
     "output_type": "stream",
     "text": [
      "50.0\n"
     ]
    }
   ],
   "source": [
    "print len(filter(lambda x: x == 1,y_resampled.astype(float).tolist())) * 100.0 /len(y_resampled)"
   ]
  },
  {
   "cell_type": "code",
   "execution_count": 24,
   "metadata": {
    "collapsed": false
   },
   "outputs": [
    {
     "data": {
      "text/plain": [
       "2626"
      ]
     },
     "execution_count": 24,
     "metadata": {},
     "output_type": "execute_result"
    }
   ],
   "source": [
    "len(y_resampled)"
   ]
  },
  {
   "cell_type": "code",
   "execution_count": null,
   "metadata": {
    "collapsed": true
   },
   "outputs": [],
   "source": []
  }
 ],
 "metadata": {
  "kernelspec": {
   "display_name": "Python 2",
   "language": "python",
   "name": "python2"
  },
  "language_info": {
   "codemirror_mode": {
    "name": "ipython",
    "version": 2
   },
   "file_extension": ".py",
   "mimetype": "text/x-python",
   "name": "python",
   "nbconvert_exporter": "python",
   "pygments_lexer": "ipython2",
   "version": "2.7.13"
  }
 },
 "nbformat": 4,
 "nbformat_minor": 2
}
