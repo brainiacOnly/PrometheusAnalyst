{
 "cells": [
  {
   "cell_type": "code",
   "execution_count": 25,
   "metadata": {
    "collapsed": false
   },
   "outputs": [],
   "source": [
    "import pandas as pd\n",
    "import numpy as np\n",
    "import time\n",
    "import copy\n",
    "import datetime\n",
    "from sklearn import linear_model\n",
    "from sklearn.cross_validation import cross_val_predict\n",
    "from sklearn.naive_bayes import GaussianNB"
   ]
  },
  {
   "cell_type": "code",
   "execution_count": 59,
   "metadata": {
    "collapsed": false
   },
   "outputs": [],
   "source": [
    "course_id = 'KNU/101/2014_T2'\n",
    "user_id = 50444\n",
    "sm = pd.read_csv('data\\courseware_studentmodule.csv')"
   ]
  },
  {
   "cell_type": "code",
   "execution_count": 60,
   "metadata": {
    "collapsed": false
   },
   "outputs": [],
   "source": [
    "users = pd.read_csv('data\\users.csv')"
   ]
  },
  {
   "cell_type": "code",
   "execution_count": 61,
   "metadata": {
    "collapsed": false
   },
   "outputs": [],
   "source": [
    "cert = pd.read_csv('data\\certificates_generatedcertificate.csv')"
   ]
  },
  {
   "cell_type": "code",
   "execution_count": 76,
   "metadata": {
    "collapsed": false
   },
   "outputs": [],
   "source": [
    "related_columns = sm[(sm.module_type == 'problem') & (sm.course_id == course_id)].module_id.unique()"
   ]
  },
  {
   "cell_type": "code",
   "execution_count": 63,
   "metadata": {
    "collapsed": false
   },
   "outputs": [],
   "source": [
    "sm = sm[sm.module_type == 'problem']\n",
    "sm = sm.rename(columns = {'student_id':'user_id'})\n",
    "sm.grade = map(lambda x: x if x != '\\\\b' else 0,sm.grade.tolist())\n",
    "cert = cert[cert.course_id == course_id]\n",
    "registered = cert.user_id.unique()\n",
    "users = users[users.id.isin(registered)]"
   ]
  },
  {
   "cell_type": "code",
   "execution_count": null,
   "metadata": {
    "collapsed": false
   },
   "outputs": [],
   "source": []
  },
  {
   "cell_type": "code",
   "execution_count": 64,
   "metadata": {
    "collapsed": false
   },
   "outputs": [
    {
     "name": "stdout",
     "output_type": "stream",
     "text": [
      "__getProblemResultFeatures finished in 89.3380000591\n"
     ]
    }
   ],
   "source": [
    "#fit\n",
    "##__getProblemResultFeatures\n",
    "start_time = time.time()\n",
    "modules = sm.module_id.unique().tolist()\n",
    "result = []\n",
    "for module in modules:\n",
    "    first = sm[sm.module_id == module].created.min()\n",
    "    result.append({'name':module,'date':first})\n",
    "labels = map(lambda x: x['name'],sorted(result,key=lambda x: x['date']))\n",
    "rebased = sm.pivot(index='user_id',columns='module_id',values='grade')\n",
    "rebased = rebased[labels].fillna(0)\n",
    "res_features =  rebased\n",
    "print '__getProblemResultFeatures finished in ' + str(time.time() - start_time)\n",
    "##"
   ]
  },
  {
   "cell_type": "code",
   "execution_count": 66,
   "metadata": {
    "collapsed": false
   },
   "outputs": [
    {
     "name": "stdout",
     "output_type": "stream",
     "text": [
      "__getUserDataFeatures finished in 0.676000118256\n"
     ]
    }
   ],
   "source": [
    "##__getUserDataFeatures\n",
    "start_time = time.time()\n",
    "u = pd.DataFrame(users[['gender','year_of_birth','level_of_education']],index=users.user_id)\n",
    "c = cert.set_index(cert.user_id)[['grade','status']]\n",
    "c['status'] = c.apply(lambda x: 1 if x.status == 'downloadable' else 0,1)\n",
    "u_features = c.join(u)\n",
    "print '__getUserDataFeatures finished in ' + str(time.time() - start_time)\n",
    "##"
   ]
  },
  {
   "cell_type": "code",
   "execution_count": 67,
   "metadata": {
    "collapsed": false
   },
   "outputs": [
    {
     "data": {
      "text/plain": [
       "53013"
      ]
     },
     "execution_count": 67,
     "metadata": {},
     "output_type": "execute_result"
    }
   ],
   "source": [
    "len(res_features)"
   ]
  },
  {
   "cell_type": "code",
   "execution_count": 68,
   "metadata": {
    "collapsed": false
   },
   "outputs": [
    {
     "name": "stdout",
     "output_type": "stream",
     "text": [
      "__lastPassedTest finished in 0.00600004196167\n"
     ]
    }
   ],
   "source": [
    "##__lastPassedTest\n",
    "start_time = time.time()\n",
    "features = res_features.ix[user_id].tolist()\n",
    "index = len(features)\n",
    "for i in reversed(features):\n",
    "    if i != 0:\n",
    "        break\n",
    "    index -= 1\n",
    "if index == 0:\n",
    "    index = len(res_features.columns)\n",
    "last = index\n",
    "print '__lastPassedTest finished in ' + str(time.time() - start_time)\n",
    "##"
   ]
  },
  {
   "cell_type": "code",
   "execution_count": 69,
   "metadata": {
    "collapsed": false
   },
   "outputs": [
    {
     "name": "stdout",
     "output_type": "stream",
     "text": [
      "_final preparations finished in 3.64800000191\n"
     ]
    }
   ],
   "source": [
    "start_time = time.time()\n",
    "cols = res_features.columns[:last].tolist()\n",
    "dataset = u_features.join(res_features)\n",
    "data = dataset[cols].fillna(0)\n",
    "Y = dataset.status\n",
    "print '_final preparations finished in ' + str(time.time() - start_time)"
   ]
  },
  {
   "cell_type": "code",
   "execution_count": 70,
   "metadata": {
    "collapsed": false
   },
   "outputs": [
    {
     "name": "stdout",
     "output_type": "stream",
     "text": [
      "cross_val_predict finished in 4.67900013924\n",
      "fit finished in 1.35299992561\n"
     ]
    }
   ],
   "source": [
    "model = GaussianNB()\n",
    "start_time = time.time()\n",
    "predicted = cross_val_predict(model, data, Y)\n",
    "print 'cross_val_predict finished in ' + str(time.time() - start_time)\n",
    "\n",
    "score = float(np.sum(predicted == Y))/len(data)\n",
    "start_time = time.time()\n",
    "model.fit(data,Y)\n",
    "print 'fit finished in ' + str(time.time() - start_time)"
   ]
  },
  {
   "cell_type": "code",
   "execution_count": 71,
   "metadata": {
    "collapsed": false
   },
   "outputs": [
    {
     "name": "stdout",
     "output_type": "stream",
     "text": [
      "predict finished in 0.570999860764\n",
      "0.607830299856\n"
     ]
    },
    {
     "name": "stderr",
     "output_type": "stream",
     "text": [
      "C:\\Users\\mberezhnyak\\AppData\\Local\\Continuum\\Anaconda2\\lib\\site-packages\\sklearn\\utils\\validation.py:395: DeprecationWarning: Passing 1d arrays as data is deprecated in 0.17 and will raise ValueError in 0.19. Reshape your data either using X.reshape(-1, 1) if your data has a single feature or X.reshape(1, -1) if it contains a single sample.\n",
      "  DeprecationWarning)\n"
     ]
    }
   ],
   "source": [
    "#predict\n",
    "\n",
    "cols = res_features.columns.tolist()[:last]\n",
    "start_time = time.time()\n",
    "answer = model.predict(res_features[cols].ix[user_id].tolist())\n",
    "print 'predict finished in ' + str(time.time() - start_time)\n",
    "print score"
   ]
  },
  {
   "cell_type": "code",
   "execution_count": null,
   "metadata": {
    "collapsed": false
   },
   "outputs": [],
   "source": []
  },
  {
   "cell_type": "code",
   "execution_count": 58,
   "metadata": {
    "collapsed": false
   },
   "outputs": [
    {
     "name": "stdout",
     "output_type": "stream",
     "text": [
      "__getProblemResultFeatures finished in 6.3029999733\n",
      "__getUserDataFeatures finished in 0.763999938965\n",
      "__lastPassedTest finished in 0.00499987602234\n",
      "_final preparations finished in 0.0540001392365\n",
      "cross_val_predict finished in 0.0899999141693\n",
      "score is 0.992078041116\n",
      "fit finished in 0.0230000019073\n",
      "predict finished in 0.00600004196167\n"
     ]
    },
    {
     "name": "stderr",
     "output_type": "stream",
     "text": [
      "C:\\Users\\mberezhnyak\\AppData\\Local\\Continuum\\Anaconda2\\lib\\site-packages\\sklearn\\utils\\validation.py:395: DeprecationWarning: Passing 1d arrays as data is deprecated in 0.17 and will raise ValueError in 0.19. Reshape your data either using X.reshape(-1, 1) if your data has a single feature or X.reshape(1, -1) if it contains a single sample.\n",
      "  DeprecationWarning)\n"
     ]
    }
   ],
   "source": [
    "#fit\n",
    "##__getProblemResultFeatures\n",
    "start_time = time.time()\n",
    "modules = sm[sm.course_id == course_id].module_id.unique().tolist()\n",
    "result = []\n",
    "for module in modules:\n",
    "    first = sm[sm.module_id == module].created.min()\n",
    "    result.append({'name':module,'date':first})\n",
    "labels = map(lambda x: x['name'],sorted(result,key=lambda x: x['date']))\n",
    "rebased = sm.pivot(index='user_id',columns='module_id',values='grade')\n",
    "rebased = rebased[labels].fillna(0)\n",
    "res_features =  rebased\n",
    "print '__getProblemResultFeatures finished in ' + str(time.time() - start_time)\n",
    "##\n",
    "##__getUserDataFeatures\n",
    "start_time = time.time()\n",
    "u = pd.DataFrame(users[['gender','year_of_birth','level_of_education']],index=users.user_id)\n",
    "c = cert.set_index(cert.user_id)[['grade','status']]\n",
    "c['status'] = c.apply(lambda x: 1 if x.status == 'downloadable' else 0,1)\n",
    "u_features = c.join(u)\n",
    "print '__getUserDataFeatures finished in ' + str(time.time() - start_time)\n",
    "##\n",
    "##__lastPassedTest\n",
    "start_time = time.time()\n",
    "features = res_features.ix[user_id].tolist()\n",
    "index = len(features)\n",
    "for i in reversed(features):\n",
    "    if i != 0:\n",
    "        break\n",
    "    index -= 1\n",
    "if index == 0:\n",
    "    index = len(res_features.columns)\n",
    "last = index\n",
    "print '__lastPassedTest finished in ' + str(time.time() - start_time)\n",
    "#############\n",
    "start_time = time.time()\n",
    "cols = res_features.columns[:last].tolist()\n",
    "dataset = u_features.join(res_features)\n",
    "data = dataset[cols].fillna(0)\n",
    "Y = dataset.status\n",
    "print '_final preparations finished in ' + str(time.time() - start_time)\n",
    "##############\n",
    "\n",
    "input = dataset.fillna(0)\n",
    "output = dataset.status\n",
    "\n",
    "#prediction test\n",
    "model = GaussianNB()\n",
    "start_time = time.time()\n",
    "predicted = cross_val_predict(model, data, Y)\n",
    "print 'cross_val_predict finished in ' + str(time.time() - start_time)\n",
    "\n",
    "score = float(np.sum(predicted == Y))/len(data)\n",
    "start_time = time.time()\n",
    "model.fit(data,Y)\n",
    "print 'score is {0}'.format(score)\n",
    "print 'fit finished in ' + str(time.time() - start_time)\n",
    "\n",
    "cols = res_features.columns.tolist()[:last]\n",
    "start_time = time.time()\n",
    "answer = model.predict(res_features[cols].ix[user_id].tolist())\n",
    "print 'predict finished in ' + str(time.time() - start_time)"
   ]
  },
  {
   "cell_type": "code",
   "execution_count": 72,
   "metadata": {
    "collapsed": false
   },
   "outputs": [
    {
     "name": "stdout",
     "output_type": "stream",
     "text": [
      "status\n",
      "i4x://Prometheus/103/problem/e09fe3fb88334075b272a202f08694f8\n"
     ]
    }
   ],
   "source": [
    "ex_cols = list(cols)\n",
    "ex_cols.append('status')\n",
    "print ex_cols[-1]\n",
    "print ex_cols[-2]"
   ]
  },
  {
   "cell_type": "code",
   "execution_count": 73,
   "metadata": {
    "collapsed": false
   },
   "outputs": [],
   "source": [
    "dataset_x = dataset.fillna(0)[ex_cols]\n",
    "\n",
    "baseFrame = pd.DataFrame(dataset_x.values.astype(float), columns=dataset_x.columns, index=map(lambda x: str(x) + '_x0' ,dataset_x.index.tolist()))\n",
    "#for i in range(1,5):\n",
    "#    currentFrame = pd.DataFrame(dataset_x.values.astype(float), columns=dataset_x.columns, index=map(lambda x: str(x) + '_x' + str(i) ,dataset_x.index.tolist()))\n",
    "#    baseFrame = pd.concat([baseFrame, currentFrame])"
   ]
  },
  {
   "cell_type": "code",
   "execution_count": 74,
   "metadata": {
    "collapsed": false
   },
   "outputs": [
    {
     "name": "stdout",
     "output_type": "stream",
     "text": [
      "1076\n",
      "1077\n",
      "15274\n"
     ]
    }
   ],
   "source": [
    "print len(cols)\n",
    "print len(baseFrame.columns)\n",
    "print len(baseFrame)"
   ]
  },
  {
   "cell_type": "code",
   "execution_count": 19,
   "metadata": {
    "collapsed": false
   },
   "outputs": [
    {
     "name": "stdout",
     "output_type": "stream",
     "text": [
      "cross_val_predict finished in 11.6229999065\n",
      "fit finished in 3.16700005531\n",
      "predict finished in 0.612999916077\n"
     ]
    }
   ],
   "source": [
    "input = baseFrame[cols]\n",
    "output = baseFrame.status\n",
    "\n",
    "#prediction test\n",
    "model = GaussianNB()\n",
    "start_time = time.time()\n",
    "predicted = cross_val_predict(model, input, output)\n",
    "print 'cross_val_predict finished in ' + str(time.time() - start_time)\n",
    "\n",
    "score = float(np.sum(predicted == output))/len(input)\n",
    "start_time = time.time()\n",
    "model.fit(input,output)\n",
    "print 'fit finished in ' + str(time.time() - start_time)\n",
    "\n",
    "cols = res_features.columns.tolist()[:last]\n",
    "start_time = time.time()\n",
    "answer = model.predict(res_features[cols].ix[user_id].tolist())\n",
    "print 'predict finished in ' + str(time.time() - start_time)"
   ]
  },
  {
   "cell_type": "code",
   "execution_count": 21,
   "metadata": {
    "collapsed": false
   },
   "outputs": [],
   "source": [
    "dataset_x.to_csv('data\\dummy\\dataset_x.csv')"
   ]
  },
  {
   "cell_type": "code",
   "execution_count": 25,
   "metadata": {
    "collapsed": false
   },
   "outputs": [
    {
     "data": {
      "text/html": [
       "<div>\n",
       "<table border=\"1\" class=\"dataframe\">\n",
       "  <thead>\n",
       "    <tr style=\"text-align: right;\">\n",
       "      <th></th>\n",
       "      <th>one</th>\n",
       "      <th>two</th>\n",
       "      <th>three</th>\n",
       "    </tr>\n",
       "  </thead>\n",
       "  <tbody>\n",
       "    <tr>\n",
       "      <th>0</th>\n",
       "      <td>1</td>\n",
       "      <td>1</td>\n",
       "      <td>1</td>\n",
       "    </tr>\n",
       "    <tr>\n",
       "      <th>1</th>\n",
       "      <td>1</td>\n",
       "      <td>1</td>\n",
       "      <td>1</td>\n",
       "    </tr>\n",
       "  </tbody>\n",
       "</table>\n",
       "</div>"
      ],
      "text/plain": [
       "   one  two  three\n",
       "0    1    1      1\n",
       "1    1    1      1"
      ]
     },
     "execution_count": 25,
     "metadata": {},
     "output_type": "execute_result"
    }
   ],
   "source": [
    "a = pd.DataFrame([[1,1,1],[1,1,1]], columns=['one','two','three'])\n",
    "a"
   ]
  },
  {
   "cell_type": "code",
   "execution_count": 26,
   "metadata": {
    "collapsed": false
   },
   "outputs": [],
   "source": [
    "#a.to_csv('a.csv',index=False)\n",
    "#b = pd.DataFrame([[2,2,2],[2,2,2]], columns=['one','two','three'])\n",
    "#with open('a.csv', 'a') as f:\n",
    "#    b.to_csv(f, header=False,index=False)"
   ]
  },
  {
   "cell_type": "code",
   "execution_count": null,
   "metadata": {
    "collapsed": false
   },
   "outputs": [],
   "source": []
  },
  {
   "cell_type": "code",
   "execution_count": 108,
   "metadata": {
    "collapsed": false
   },
   "outputs": [],
   "source": [
    "related_columns_with_status = list(related_columns)\n",
    "related_columns_with_status.append('status')\n",
    "related_columns_with_status\n",
    "dataset_reduced = dataset_x[related_columns_with_status]"
   ]
  },
  {
   "cell_type": "code",
   "execution_count": 107,
   "metadata": {
    "collapsed": true
   },
   "outputs": [],
   "source": [
    "#Generate dummy data for single course with number of users 15000-1200000\n",
    "for i in range(0,28):\n",
    "    name = 'data\\dummy\\ds_x{0}.csv'.format(i*5)\n",
    "    dataset_reduced.to_csv(name, index=False)\n",
    "    for j in range(1, i*5):\n",
    "        with open(name, 'a') as f:\n",
    "            dataset_reduced.to_csv(f, header=False,index=False)"
   ]
  },
  {
   "cell_type": "code",
   "execution_count": 109,
   "metadata": {
    "collapsed": true
   },
   "outputs": [],
   "source": [
    "#Generate dummy data for single course with x30 data step\n",
    "for i in range(0,28):\n",
    "    name = 'data\\dummy_x30\\ds_x{0}.csv'.format(i*30)\n",
    "    dataset_reduced.to_csv(name, index=False)\n",
    "    for j in range(1, i*30):\n",
    "        with open(name, 'a') as f:\n",
    "            dataset_reduced.to_csv(f, header=False,index=False)"
   ]
  },
  {
   "cell_type": "code",
   "execution_count": 103,
   "metadata": {
    "collapsed": false
   },
   "outputs": [],
   "source": [
    "#Generate dummy data for 10 courses with number of users 15000-1200000\n",
    "c = list(dataset_x.columns[0:80].tolist())\n",
    "c.append('status')\n",
    "dataset_reduced = dataset_x[c]\n",
    "for i in range(0,17):\n",
    "    name = 'data\\dummy2\\ds_x{0}.csv'.format(i*5)\n",
    "    dataset_reduced.to_csv(name, index=False)\n",
    "    for j in range(1, i*5):\n",
    "        with open(name, 'a') as f:\n",
    "            dataset_reduced.to_csv(f, header=False,index=False)"
   ]
  },
  {
   "cell_type": "code",
   "execution_count": 113,
   "metadata": {
    "collapsed": false
   },
   "outputs": [
    {
     "name": "stdout",
     "output_type": "stream",
     "text": [
      "1 loops, best of 3: 14.3 s per loop\n"
     ]
    }
   ],
   "source": [
    "X, y = dataset_reduced[related_columns], dataset_reduced.status\n",
    "from sklearn.svm import SVC\n",
    "from sklearn.cross_validation import cross_val_score"
   ]
  },
  {
   "cell_type": "code",
   "execution_count": 119,
   "metadata": {
    "collapsed": false
   },
   "outputs": [
    {
     "name": "stdout",
     "output_type": "stream",
     "text": [
      "1 loops, best of 3: 14.7 s per loop\n"
     ]
    }
   ],
   "source": [
    "%timeit single_core_learning = cross_val_score(SVC(), X, y, cv=20, n_jobs=1)"
   ]
  },
  {
   "cell_type": "code",
   "execution_count": 120,
   "metadata": {
    "collapsed": false
   },
   "outputs": [
    {
     "name": "stdout",
     "output_type": "stream",
     "text": [
      "1 loops, best of 3: 9.49 s per loop\n"
     ]
    }
   ],
   "source": [
    "%timeit single_core_learning = cross_val_score(SVC(), X, y, cv=20, n_jobs=2)"
   ]
  },
  {
   "cell_type": "code",
   "execution_count": 121,
   "metadata": {
    "collapsed": false
   },
   "outputs": [
    {
     "name": "stdout",
     "output_type": "stream",
     "text": [
      "1 loops, best of 3: 7.5 s per loop\n"
     ]
    }
   ],
   "source": [
    "%timeit single_core_learning = cross_val_score(SVC(), X, y, cv=20, n_jobs=3)"
   ]
  },
  {
   "cell_type": "code",
   "execution_count": 122,
   "metadata": {
    "collapsed": false
   },
   "outputs": [
    {
     "name": "stdout",
     "output_type": "stream",
     "text": [
      "1 loops, best of 3: 8.36 s per loop\n"
     ]
    }
   ],
   "source": [
    "%timeit single_core_learning = cross_val_score(SVC(), X, y, cv=20, n_jobs=4)"
   ]
  },
  {
   "cell_type": "code",
   "execution_count": 123,
   "metadata": {
    "collapsed": false
   },
   "outputs": [
    {
     "name": "stdout",
     "output_type": "stream",
     "text": [
      "1 loops, best of 3: 8.55 s per loop\n"
     ]
    }
   ],
   "source": [
    "%timeit single_core_learning = cross_val_score(SVC(), X, y, cv=20, n_jobs=-1)"
   ]
  },
  {
   "cell_type": "code",
   "execution_count": 133,
   "metadata": {
    "collapsed": false
   },
   "outputs": [
    {
     "data": {
      "text/plain": [
       "array([ 0.99869281,  0.9986911 ,  0.9960733 ,  0.9960733 ,  1.        ,\n",
       "        0.9973822 ,  1.        ,  1.        ,  0.9960733 ,  0.9973822 ,\n",
       "        0.9973822 ,  0.9960733 ,  0.9947644 ,  1.        ,  1.        ,\n",
       "        0.99475754,  0.99737877,  0.99606815,  0.9921363 ,  0.99606815])"
      ]
     },
     "execution_count": 133,
     "metadata": {},
     "output_type": "execute_result"
    }
   ],
   "source": [
    "a = cross_val_score(linear_model.LogisticRegression(), X, y, cv=20, n_jobs=-1)\n",
    "a"
   ]
  },
  {
   "cell_type": "code",
   "execution_count": 135,
   "metadata": {
    "collapsed": false
   },
   "outputs": [
    {
     "data": {
      "text/plain": [
       "[<matplotlib.lines.Line2D at 0x59173fd0>]"
      ]
     },
     "execution_count": 135,
     "metadata": {},
     "output_type": "execute_result"
    },
    {
     "data": {
      "image/png": "[encoded data removed]",
      "text/plain": [
       "<matplotlib.figure.Figure at 0x66a95a20>"
      ]
     },
     "metadata": {},
     "output_type": "display_data"
    }
   ],
   "source": [
    "import matplotlib.pyplot as plt\n",
    "%matplotlib inline\n",
    "res = [14.7,9.49,7.5,8.36,8.55]\n",
    "res = map(lambda x: 14.7/x, res)\n",
    "plt.plot([1,2,3,4,5],res)"
   ]
  },
  {
   "cell_type": "code",
   "execution_count": 183,
   "metadata": {
    "collapsed": false
   },
   "outputs": [
    {
     "data": {
      "text/plain": [
       "[1.0, 1.5489989462592202, 1.96, 1.7583732057416268, 1.7192982456140349]"
      ]
     },
     "execution_count": 183,
     "metadata": {},
     "output_type": "execute_result"
    }
   ],
   "source": [
    "res"
   ]
  },
  {
   "cell_type": "markdown",
   "metadata": {
    "collapsed": false
   },
   "source": [
    "# Checking influence of balancing"
   ]
  },
  {
   "cell_type": "code",
   "execution_count": 136,
   "metadata": {
    "collapsed": false
   },
   "outputs": [],
   "source": [
    "rus = RandomUnderSampler(return_indices=True)"
   ]
  },
  {
   "cell_type": "code",
   "execution_count": 139,
   "metadata": {
    "collapsed": false
   },
   "outputs": [
    {
     "data": {
      "text/plain": [
       "i4x://KNU/101/problem/e39129c796754099b0974db74c5b5b01    3853\n",
       "i4x://KNU/101/problem/43dbbb5417294a0faa1c43f02473e7ec    2311\n",
       "i4x://KNU/101/problem/84d4314a7fd041f59e9219de9b4e7cd0    1905\n",
       "i4x://KNU/101/problem/7ac56261c85548fd97ae8a56e5a355f6    1745\n",
       "i4x://KNU/101/problem/b9daef58e5884fa8b0c36c5c9bd233ce    1529\n",
       "i4x://KNU/101/problem/7fb5b2515e09416f9977f465f909a746    1410\n",
       "i4x://KNU/101/problem/e663ed76dc9445dead9354a158daf163    1397\n",
       "i4x://KNU/101/problem/f1fb3e3d588a4380b7226b87029c284c       0\n",
       "status                                                    1313\n",
       "dtype: int64"
      ]
     },
     "execution_count": 139,
     "metadata": {},
     "output_type": "execute_result"
    }
   ],
   "source": [
    "dataset_reduced.astype(bool).sum(axis=0)"
   ]
  },
  {
   "cell_type": "code",
   "execution_count": 152,
   "metadata": {
    "collapsed": false
   },
   "outputs": [
    {
     "name": "stdout",
     "output_type": "stream",
     "text": [
      "1 test. Accuracy: 0.89846 (+/- 0.03790)\n",
      "2 test. Accuracy: 0.94088 (+/- 0.03059)\n",
      "3 test. Accuracy: 0.96334 (+/- 0.01794)\n",
      "4 test. Accuracy: 0.96648 (+/- 0.01871)\n",
      "5 test. Accuracy: 0.98763 (+/- 0.00606)\n"
     ]
    }
   ],
   "source": [
    "X = dataset_reduced[['i4x://KNU/101/problem/e39129c796754099b0974db74c5b5b01']]\n",
    "y = dataset_reduced.status\n",
    "scores = cross_val_score(GaussianNB(), X, y, cv=10)\n",
    "print(\"1 test. Accuracy: %0.5f (+/- %0.5f)\" % (scores.mean(), scores.std() * 2))\n",
    "\n",
    "X = dataset_reduced[['i4x://KNU/101/problem/e39129c796754099b0974db74c5b5b01','i4x://KNU/101/problem/43dbbb5417294a0faa1c43f02473e7ec']]\n",
    "y = dataset_reduced.status\n",
    "scores = cross_val_score(GaussianNB(), X, y, cv=10)\n",
    "print(\"2 test. Accuracy: %0.5f (+/- %0.5f)\" % (scores.mean(), scores.std() * 2))\n",
    "\n",
    "X = dataset_reduced[['i4x://KNU/101/problem/e39129c796754099b0974db74c5b5b01','i4x://KNU/101/problem/43dbbb5417294a0faa1c43f02473e7ec',\n",
    "                     'i4x://KNU/101/problem/84d4314a7fd041f59e9219de9b4e7cd0']]\n",
    "y = dataset_reduced.status\n",
    "scores = cross_val_score(GaussianNB(), X, y, cv=10)\n",
    "print(\"3 test. Accuracy: %0.5f (+/- %0.5f)\" % (scores.mean(), scores.std() * 2))\n",
    "\n",
    "X = dataset_reduced[['i4x://KNU/101/problem/e39129c796754099b0974db74c5b5b01','i4x://KNU/101/problem/43dbbb5417294a0faa1c43f02473e7ec',\n",
    "                     'i4x://KNU/101/problem/84d4314a7fd041f59e9219de9b4e7cd0','i4x://KNU/101/problem/7ac56261c85548fd97ae8a56e5a355f6']]\n",
    "y = dataset_reduced.status\n",
    "scores = cross_val_score(GaussianNB(), X, y, cv=10)\n",
    "print(\"4 test. Accuracy: %0.5f (+/- %0.5f)\" % (scores.mean(), scores.std() * 2))\n",
    "\n",
    "X = dataset_reduced[['i4x://KNU/101/problem/e39129c796754099b0974db74c5b5b01','i4x://KNU/101/problem/43dbbb5417294a0faa1c43f02473e7ec',\n",
    "                     'i4x://KNU/101/problem/84d4314a7fd041f59e9219de9b4e7cd0','i4x://KNU/101/problem/7ac56261c85548fd97ae8a56e5a355f6',\n",
    "                    'i4x://KNU/101/problem/b9daef58e5884fa8b0c36c5c9bd233ce']]\n",
    "y = dataset_reduced.status\n",
    "scores = cross_val_score(GaussianNB(), X, y, cv=10)\n",
    "print(\"5 test. Accuracy: %0.5f (+/- %0.5f)\" % (scores.mean(), scores.std() * 2))"
   ]
  },
  {
   "cell_type": "code",
   "execution_count": 143,
   "metadata": {
    "collapsed": false
   },
   "outputs": [
    {
     "name": "stdout",
     "output_type": "stream",
     "text": [
      "15274\n",
      "15274\n"
     ]
    }
   ],
   "source": [
    "print len(dataset_reduced['i4x://KNU/101/problem/e663ed76dc9445dead9354a158daf163'])\n",
    "print len(dataset_reduced.status)"
   ]
  },
  {
   "cell_type": "code",
   "execution_count": 156,
   "metadata": {
    "collapsed": false
   },
   "outputs": [
    {
     "name": "stdout",
     "output_type": "stream",
     "text": [
      "1 test. Accuracy: 0.90327 (+/- 0.06451)\n",
      "2 test. Accuracy: 0.94593 (+/- 0.02860)\n",
      "3 test. Accuracy: 0.97449 (+/- 0.01953)\n",
      "4 test. Accuracy: 0.97752 (+/- 0.02253)\n",
      "5 test. Accuracy: 0.98934 (+/- 0.01216)\n"
     ]
    }
   ],
   "source": [
    "#undersampling\n",
    "from imblearn.under_sampling import RandomUnderSampler\n",
    "\n",
    "X = dataset_reduced[['i4x://KNU/101/problem/e39129c796754099b0974db74c5b5b01']]\n",
    "y = dataset_reduced.status\n",
    "rus = RandomUnderSampler()\n",
    "X, y = rus.fit_sample(X, y)\n",
    "scores = cross_val_score(GaussianNB(), X, y, cv=10)\n",
    "print(\"1 test. Accuracy: %0.5f (+/- %0.5f)\" % (scores.mean(), scores.std() * 2))\n",
    "\n",
    "X = dataset_reduced[['i4x://KNU/101/problem/e39129c796754099b0974db74c5b5b01','i4x://KNU/101/problem/43dbbb5417294a0faa1c43f02473e7ec']]\n",
    "y = dataset_reduced.status\n",
    "rus = RandomUnderSampler()\n",
    "X, y = rus.fit_sample(X, y)\n",
    "scores = cross_val_score(GaussianNB(), X, y, cv=10)\n",
    "print(\"2 test. Accuracy: %0.5f (+/- %0.5f)\" % (scores.mean(), scores.std() * 2))\n",
    "\n",
    "X = dataset_reduced[['i4x://KNU/101/problem/e39129c796754099b0974db74c5b5b01','i4x://KNU/101/problem/43dbbb5417294a0faa1c43f02473e7ec',\n",
    "                     'i4x://KNU/101/problem/84d4314a7fd041f59e9219de9b4e7cd0']]\n",
    "y = dataset_reduced.status\n",
    "rus = RandomUnderSampler()\n",
    "X, y = rus.fit_sample(X, y)\n",
    "scores = cross_val_score(GaussianNB(), X, y, cv=10)\n",
    "print(\"3 test. Accuracy: %0.5f (+/- %0.5f)\" % (scores.mean(), scores.std() * 2))\n",
    "\n",
    "X = dataset_reduced[['i4x://KNU/101/problem/e39129c796754099b0974db74c5b5b01','i4x://KNU/101/problem/43dbbb5417294a0faa1c43f02473e7ec',\n",
    "                     'i4x://KNU/101/problem/84d4314a7fd041f59e9219de9b4e7cd0','i4x://KNU/101/problem/7ac56261c85548fd97ae8a56e5a355f6']]\n",
    "y = dataset_reduced.status\n",
    "rus = RandomUnderSampler()\n",
    "X, y = rus.fit_sample(X, y)\n",
    "scores = cross_val_score(GaussianNB(), X, y, cv=10)\n",
    "print(\"4 test. Accuracy: %0.5f (+/- %0.5f)\" % (scores.mean(), scores.std() * 2))\n",
    "\n",
    "X = dataset_reduced[['i4x://KNU/101/problem/e39129c796754099b0974db74c5b5b01','i4x://KNU/101/problem/43dbbb5417294a0faa1c43f02473e7ec',\n",
    "                     'i4x://KNU/101/problem/84d4314a7fd041f59e9219de9b4e7cd0','i4x://KNU/101/problem/7ac56261c85548fd97ae8a56e5a355f6',\n",
    "                    'i4x://KNU/101/problem/b9daef58e5884fa8b0c36c5c9bd233ce']]\n",
    "y = dataset_reduced.status\n",
    "rus = RandomUnderSampler()\n",
    "X, y = rus.fit_sample(X, y)\n",
    "scores = cross_val_score(GaussianNB(), X, y, cv=10)\n",
    "print(\"5 test. Accuracy: %0.5f (+/- %0.5f)\" % (scores.mean(), scores.std() * 2))"
   ]
  },
  {
   "cell_type": "code",
   "execution_count": 159,
   "metadata": {
    "collapsed": false
   },
   "outputs": [
    {
     "name": "stdout",
     "output_type": "stream",
     "text": [
      "1 test. Accuracy: 0.90606 (+/- 0.02921)\n",
      "2 test. Accuracy: 0.95061 (+/- 0.01901)\n",
      "3 test. Accuracy: 0.97074 (+/- 0.01185)\n",
      "4 test. Accuracy: 0.97400 (+/- 0.00999)\n",
      "5 test. Accuracy: 0.98979 (+/- 0.00405)\n"
     ]
    }
   ],
   "source": [
    "#oversampling\n",
    "from imblearn.over_sampling import RandomOverSampler\n",
    "\n",
    "X = dataset_reduced[['i4x://KNU/101/problem/e39129c796754099b0974db74c5b5b01']]\n",
    "y = dataset_reduced.status\n",
    "rus = RandomOverSampler()\n",
    "X, y = rus.fit_sample(X, y)\n",
    "scores = cross_val_score(GaussianNB(), X, y, cv=10)\n",
    "print(\"1 test. Accuracy: %0.5f (+/- %0.5f)\" % (scores.mean(), scores.std() * 2))\n",
    "\n",
    "X = dataset_reduced[['i4x://KNU/101/problem/e39129c796754099b0974db74c5b5b01','i4x://KNU/101/problem/43dbbb5417294a0faa1c43f02473e7ec']]\n",
    "y = dataset_reduced.status\n",
    "rus = RandomOverSampler()\n",
    "X, y = rus.fit_sample(X, y)\n",
    "scores = cross_val_score(GaussianNB(), X, y, cv=10)\n",
    "print(\"2 test. Accuracy: %0.5f (+/- %0.5f)\" % (scores.mean(), scores.std() * 2))\n",
    "\n",
    "X = dataset_reduced[['i4x://KNU/101/problem/e39129c796754099b0974db74c5b5b01','i4x://KNU/101/problem/43dbbb5417294a0faa1c43f02473e7ec',\n",
    "                     'i4x://KNU/101/problem/84d4314a7fd041f59e9219de9b4e7cd0']]\n",
    "y = dataset_reduced.status\n",
    "rus = RandomOverSampler()\n",
    "X, y = rus.fit_sample(X, y)\n",
    "scores = cross_val_score(GaussianNB(), X, y, cv=10)\n",
    "print(\"3 test. Accuracy: %0.5f (+/- %0.5f)\" % (scores.mean(), scores.std() * 2))\n",
    "\n",
    "X = dataset_reduced[['i4x://KNU/101/problem/e39129c796754099b0974db74c5b5b01','i4x://KNU/101/problem/43dbbb5417294a0faa1c43f02473e7ec',\n",
    "                     'i4x://KNU/101/problem/84d4314a7fd041f59e9219de9b4e7cd0','i4x://KNU/101/problem/7ac56261c85548fd97ae8a56e5a355f6']]\n",
    "y = dataset_reduced.status\n",
    "rus = RandomOverSampler()\n",
    "X, y = rus.fit_sample(X, y)\n",
    "scores = cross_val_score(GaussianNB(), X, y, cv=10)\n",
    "print(\"4 test. Accuracy: %0.5f (+/- %0.5f)\" % (scores.mean(), scores.std() * 2))\n",
    "\n",
    "X = dataset_reduced[['i4x://KNU/101/problem/e39129c796754099b0974db74c5b5b01','i4x://KNU/101/problem/43dbbb5417294a0faa1c43f02473e7ec',\n",
    "                     'i4x://KNU/101/problem/84d4314a7fd041f59e9219de9b4e7cd0','i4x://KNU/101/problem/7ac56261c85548fd97ae8a56e5a355f6',\n",
    "                    'i4x://KNU/101/problem/b9daef58e5884fa8b0c36c5c9bd233ce']]\n",
    "y = dataset_reduced.status\n",
    "rus = RandomOverSampler()\n",
    "X, y = rus.fit_sample(X, y)\n",
    "scores = cross_val_score(GaussianNB(), X, y, cv=10)\n",
    "print(\"5 test. Accuracy: %0.5f (+/- %0.5f)\" % (scores.mean(), scores.std() * 2))"
   ]
  },
  {
   "cell_type": "code",
   "execution_count": 179,
   "metadata": {
    "collapsed": false
   },
   "outputs": [],
   "source": [
    "#SMOTE\n",
    "from imblearn.over_sampling import SMOTE\n",
    "from imblearn.under_sampling import OneSidedSelection\n",
    "from imblearn.under_sampling import TomekLinks\n",
    "from imblearn.over_sampling import ADASYN\n",
    "from imblearn.under_sampling import NeighbourhoodCleaningRule\n",
    "from imblearn.under_sampling import CondensedNearestNeighbour\n",
    "from imblearn.under_sampling import ClusterCentroids\n",
    "from imblearn.under_sampling import InstanceHardnessThreshold\n",
    "from imblearn.under_sampling import NearMiss\n",
    "from imblearn.under_sampling import AllKNN\n",
    "from imblearn.under_sampling import EditedNearestNeighbours\n",
    "from imblearn.under_sampling import EditedNearestNeighbours\n",
    "\n",
    "samplers = [RandomUnderSampler(), RandomOverSampler(), SMOTE(kind='regular'), SMOTE(kind='borderline1'), \n",
    "            SMOTE(kind='borderline2'), SMOTE(kind='svm'), ADASYN(),TomekLinks(),OneSidedSelection(),NeighbourhoodCleaningRule(),\n",
    "           CondensedNearestNeighbour(),ClusterCentroids(),NearMiss(version=1),NearMiss(version=2),NearMiss(version=3),\n",
    "           AllKNN(),EditedNearestNeighbours(),EditedNearestNeighbours()]\n",
    "\n",
    "def test_saplers(samplers):\n",
    "    for sampler in samplers:\n",
    "        print '==========Sampler {0} starts=========='.format(sampler)\n",
    "        X = dataset_reduced[['i4x://KNU/101/problem/e39129c796754099b0974db74c5b5b01']]\n",
    "        y = dataset_reduced.status\n",
    "        X, y = sampler.fit_sample(X, y)\n",
    "        scores = cross_val_score(GaussianNB(), X, y,cv=10)\n",
    "        print(\"1 test. Accuracy: %0.5f (+/- %0.5f)\" % (scores.mean(), scores.std() * 2))\n",
    "\n",
    "        X = dataset_reduced[['i4x://KNU/101/problem/e39129c796754099b0974db74c5b5b01','i4x://KNU/101/problem/43dbbb5417294a0faa1c43f02473e7ec']]\n",
    "        y = dataset_reduced.status\n",
    "        X, y = sampler.fit_sample(X, y)\n",
    "        scores = cross_val_score(GaussianNB(), X, y,cv=10)\n",
    "        print(\"2 test. Accuracy: %0.5f (+/- %0.5f)\" % (scores.mean(), scores.std() * 2))\n",
    "\n",
    "        X = dataset_reduced[['i4x://KNU/101/problem/e39129c796754099b0974db74c5b5b01','i4x://KNU/101/problem/43dbbb5417294a0faa1c43f02473e7ec',\n",
    "                             'i4x://KNU/101/problem/84d4314a7fd041f59e9219de9b4e7cd0']]\n",
    "        y = dataset_reduced.status\n",
    "        X, y = sampler.fit_sample(X, y)\n",
    "        scores = cross_val_score(GaussianNB(), X, y,cv=10)\n",
    "        print(\"3 test. Accuracy: %0.5f (+/- %0.5f)\" % (scores.mean(), scores.std() * 2))\n",
    "\n",
    "        X = dataset_reduced[['i4x://KNU/101/problem/e39129c796754099b0974db74c5b5b01','i4x://KNU/101/problem/43dbbb5417294a0faa1c43f02473e7ec',\n",
    "                             'i4x://KNU/101/problem/84d4314a7fd041f59e9219de9b4e7cd0','i4x://KNU/101/problem/7ac56261c85548fd97ae8a56e5a355f6']]\n",
    "        y = dataset_reduced.status\n",
    "        X, y = sampler.fit_sample(X, y)\n",
    "        scores = cross_val_score(GaussianNB(), X, y,cv=10)\n",
    "        print(\"4 test. Accuracy: %0.5f (+/- %0.5f)\" % (scores.mean(), scores.std() * 2))\n",
    "\n",
    "        X = dataset_reduced[['i4x://KNU/101/problem/e39129c796754099b0974db74c5b5b01','i4x://KNU/101/problem/43dbbb5417294a0faa1c43f02473e7ec',\n",
    "                             'i4x://KNU/101/problem/84d4314a7fd041f59e9219de9b4e7cd0','i4x://KNU/101/problem/7ac56261c85548fd97ae8a56e5a355f6',\n",
    "                            'i4x://KNU/101/problem/b9daef58e5884fa8b0c36c5c9bd233ce']]\n",
    "        y = dataset_reduced.status\n",
    "        X, y = sampler.fit_sample(X, y)\n",
    "        scores = cross_val_score(GaussianNB(), X, y,cv=10)\n",
    "        print(\"5 test. Accuracy: %0.5f (+/- %0.5f)\" % (scores.mean(), scores.std() * 2))\n",
    "\n",
    "        print '==========Sampler finished=========='"
   ]
  },
  {
   "cell_type": "code",
   "execution_count": 185,
   "metadata": {
    "collapsed": false
   },
   "outputs": [
    {
     "name": "stdout",
     "output_type": "stream",
     "text": [
      "==========Sampler <__main__.DummySampler instance at 0x000000004647D688> starts==========\n",
      "1 test. Accuracy: 0.89846 (+/- 0.03790)\n",
      "2 test. Accuracy: 0.94088 (+/- 0.03059)\n",
      "3 test. Accuracy: 0.96334 (+/- 0.01794)\n",
      "4 test. Accuracy: 0.96648 (+/- 0.01871)\n",
      "5 test. Accuracy: 0.98763 (+/- 0.00606)\n",
      "==========Sampler finished==========\n",
      "==========Sampler RandomUnderSampler(random_state=None, ratio='auto', replacement=True,\n",
      "          return_indices=False) starts==========\n",
      "1 test. Accuracy: 0.91011 (+/- 0.06098)\n",
      "2 test. Accuracy: 0.95239 (+/- 0.01970)\n",
      "3 test. Accuracy: 0.96611 (+/- 0.02630)\n",
      "4 test. Accuracy: 0.97069 (+/- 0.02636)\n",
      "5 test. Accuracy: 0.98896 (+/- 0.01098)\n",
      "==========Sampler finished==========\n",
      "==========Sampler RandomOverSampler(random_state=None, ratio='auto') starts==========\n",
      "1 test. Accuracy: 0.90459 (+/- 0.03407)\n",
      "2 test. Accuracy: 0.95183 (+/- 0.02053)\n",
      "3 test. Accuracy: 0.97070 (+/- 0.00902)\n",
      "4 test. Accuracy: 0.97368 (+/- 0.01008)\n",
      "5 test. Accuracy: 0.98969 (+/- 0.00373)\n",
      "==========Sampler finished==========\n",
      "==========Sampler TomekLinks(n_jobs=1, random_state=None, return_indices=False) starts==========\n",
      "1 test. Accuracy: 0.89846 (+/- 0.03790)\n",
      "2 test. Accuracy: 0.94088 (+/- 0.03059)\n",
      "3 test. Accuracy: 0.96357 (+/- 0.01766)\n",
      "4 test. Accuracy: 0.96716 (+/- 0.01925)\n",
      "5 test. Accuracy: 0.98807 (+/- 0.00754)\n",
      "==========Sampler finished==========\n",
      "==========Sampler NeighbourhoodCleaningRule(n_jobs=1, n_neighbors=3, random_state=None,\n",
      "             return_indices=False, size_ngh=None) starts==========\n",
      "1 test. Accuracy: 0.97645 (+/- 0.01131)\n",
      "2 test. Accuracy: 0.99101 (+/- 0.00688)\n",
      "3 test. Accuracy: 0.99803 (+/- 0.00223)\n",
      "4 test. Accuracy: 0.98664 (+/- 0.00808)\n",
      "5 test. Accuracy: 0.98986 (+/- 0.00920)\n",
      "==========Sampler finished==========\n",
      "==========Sampler SMOTE(k=None, k_neighbors=5, kind='regular', m=None, m_neighbors=10, n_jobs=1,\n",
      "   out_step=0.5, random_state=None, ratio='auto', svm_estimator=None) starts==========\n",
      "1 test. Accuracy: 0.90506 (+/- 0.02792)\n",
      "2 test. Accuracy: 0.95280 (+/- 0.01842)\n",
      "3 test. Accuracy: 0.96927 (+/- 0.00877)\n",
      "4 test. Accuracy: 0.97504 (+/- 0.01010)\n",
      "5 test. Accuracy: 0.99062 (+/- 0.00290)\n",
      "==========Sampler finished==========\n",
      "==========Sampler SMOTE(k=None, k_neighbors=5, kind='borderline1', m=None, m_neighbors=10,\n",
      "   n_jobs=1, out_step=0.5, random_state=None, ratio='auto',\n",
      "   svm_estimator=None) starts==========\n",
      "1 test. Accuracy: 0.90671 (+/- 0.02802)\n",
      "2 test. Accuracy: 0.94861 (+/- 0.01812)\n",
      "3 test. Accuracy: 0.96010 (+/- 0.01451)\n",
      "4 test. Accuracy: 0.97475 (+/- 0.00766)\n",
      "5 test. Accuracy: 0.97944 (+/- 0.01014)\n",
      "==========Sampler finished==========\n",
      "==========Sampler SMOTE(k=None, k_neighbors=5, kind='borderline2', m=None, m_neighbors=10,\n",
      "   n_jobs=1, out_step=0.5, random_state=None, ratio='auto',\n",
      "   svm_estimator=None) starts==========\n",
      "1 test. Accuracy: 0.88245 (+/- 0.05091)\n",
      "2 test. Accuracy: 0.93739 (+/- 0.02628)\n",
      "3 test. Accuracy: 0.94327 (+/- 0.03012)\n",
      "4 test. Accuracy: 0.95190 (+/- 0.03666)\n",
      "5 test. Accuracy: 0.95312 (+/- 0.04823)\n",
      "==========Sampler finished==========\n",
      "==========Sampler SMOTE(k=None, k_neighbors=5, kind='svm', m=None, m_neighbors=10, n_jobs=1,\n",
      "   out_step=0.5, random_state=None, ratio='auto', svm_estimator=None) starts==========\n",
      "1 test. Accuracy: 0.91623 (+/- 0.08859)\n",
      "2 test. Accuracy: 0.95176 (+/- 0.02975)\n",
      "3 test. Accuracy: 0.96573 (+/- 0.03667)\n",
      "4 test. Accuracy: 0.97565 (+/- 0.02166)\n",
      "5 test. Accuracy: 0.97962 (+/- 0.01005)\n",
      "==========Sampler finished==========\n",
      "==========Sampler NearMiss(n_jobs=1, n_neighbors=3, n_neighbors_ver3=3, random_state=None,\n",
      "     ratio='auto', return_indices=False, size_ngh=None, ver3_samp_ngh=None,\n",
      "     version=3) starts==========\n",
      "1 test. Accuracy: 0.96874 (+/- 0.03332)\n",
      "2 test. Accuracy: 0.88399 (+/- 0.10862)\n",
      "3 test. Accuracy: 0.80489 (+/- 0.19631)\n",
      "4 test. Accuracy: 0.79473 (+/- 0.20488)\n",
      "5 test. Accuracy: 0.84543 (+/- 0.15227)\n",
      "==========Sampler finished==========\n",
      "==========Sampler AllKNN(kind_sel='all', n_jobs=-1, n_neighbors=3, random_state=None,\n",
      "    return_indices=False, size_ngh=None) starts==========\n",
      "1 test. Accuracy: 0.95953 (+/- 0.02041)\n",
      "2 test. Accuracy: 0.99604 (+/- 0.00249)\n",
      "3 test. Accuracy: 0.99878 (+/- 0.00190)\n",
      "4 test. Accuracy: 0.98776 (+/- 0.00695)\n",
      "5 test. Accuracy: 0.99083 (+/- 0.00756)\n",
      "==========Sampler finished==========\n",
      "==========Sampler EditedNearestNeighbours(kind_sel='all', n_jobs=1, n_neighbors=3,\n",
      "            random_state=None, return_indices=False, size_ngh=None) starts==========\n",
      "1 test. Accuracy: 0.96258 (+/- 0.02211)\n",
      "2 test. Accuracy: 0.98813 (+/- 0.00689)\n",
      "3 test. Accuracy: 0.99573 (+/- 0.00343)\n",
      "4 test. Accuracy: 0.98730 (+/- 0.00664)\n",
      "5 test. Accuracy: 0.99006 (+/- 0.00905)\n",
      "==========Sampler finished==========\n",
      "==========Sampler EditedNearestNeighbours(kind_sel='all', n_jobs=1, n_neighbors=3,\n",
      "            random_state=None, return_indices=False, size_ngh=None) starts==========\n",
      "1 test. Accuracy: 0.96258 (+/- 0.02211)\n",
      "2 test. Accuracy: 0.98813 (+/- 0.00689)\n",
      "3 test. Accuracy: 0.99573 (+/- 0.00343)\n",
      "4 test. Accuracy: 0.98730 (+/- 0.00664)\n",
      "5 test. Accuracy: 0.99006 (+/- 0.00905)\n",
      "==========Sampler finished==========\n"
     ]
    }
   ],
   "source": [
    "class DummySampler():\n",
    "    def fit_sample(selct, X, y):\n",
    "        return X, y\n",
    "    \n",
    "samplers = [DummySampler(), RandomUnderSampler(), RandomOverSampler(), TomekLinks(),NeighbourhoodCleaningRule(),\n",
    "            SMOTE(kind='regular'), SMOTE(kind='borderline1'), \n",
    "            SMOTE(kind='borderline2'), SMOTE(kind='svm'),\n",
    "           NearMiss(version=3),AllKNN(),EditedNearestNeighbours(),EditedNearestNeighbours()]\n",
    "\n",
    "test_saplers(samplers)"
   ]
  },
  {
   "cell_type": "code",
   "execution_count": null,
   "metadata": {
    "collapsed": false
   },
   "outputs": [],
   "source": []
  },
  {
   "cell_type": "code",
   "execution_count": null,
   "metadata": {
    "collapsed": false
   },
   "outputs": [],
   "source": []
  },
  {
   "cell_type": "code",
   "execution_count": null,
   "metadata": {
    "collapsed": false
   },
   "outputs": [],
   "source": []
  },
  {
   "cell_type": "code",
   "execution_count": null,
   "metadata": {
    "collapsed": true
   },
   "outputs": [],
   "source": []
  }
 ],
 "metadata": {
  "kernelspec": {
   "display_name": "Python 2",
   "language": "python",
   "name": "python2"
  },
  "language_info": {
   "codemirror_mode": {
    "name": "ipython",
    "version": 2
   },
   "file_extension": ".py",
   "mimetype": "text/x-python",
   "name": "python",
   "nbconvert_exporter": "python",
   "pygments_lexer": "ipython2",
   "version": "2.7.13"
  }
 },
 "nbformat": 4,
 "nbformat_minor": 2
}
