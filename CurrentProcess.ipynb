{
 "cells": [
  {
   "cell_type": "code",
   "execution_count": 1,
   "metadata": {
    "collapsed": false
   },
   "outputs": [
    {
     "name": "stderr",
     "output_type": "stream",
     "text": [
      "C:\\Users\\mberezhnyak\\AppData\\Local\\Continuum\\Anaconda2\\lib\\site-packages\\sklearn\\cross_validation.py:44: DeprecationWarning: This module was deprecated in version 0.18 in favor of the model_selection module into which all the refactored classes and functions are moved. Also note that the interface of the new CV iterators are different from that of this module. This module will be removed in 0.20.\n",
      "  \"This module will be removed in 0.20.\", DeprecationWarning)\n"
     ]
    }
   ],
   "source": [
    "import pandas as pd\n",
    "import numpy as np\n",
    "import time\n",
    "import copy\n",
    "import datetime\n",
    "from sklearn import linear_model\n",
    "from sklearn.cross_validation import cross_val_predict\n",
    "from sklearn.naive_bayes import GaussianNB\n",
    "import matplotlib.pyplot as plt\n",
    "%matplotlib inline"
   ]
  },
  {
   "cell_type": "code",
   "execution_count": 2,
   "metadata": {
    "collapsed": true
   },
   "outputs": [],
   "source": [
    "from sklearn.svm import SVC\n",
    "from sklearn.cross_validation import cross_val_score\n",
    "from imblearn.under_sampling import RandomUnderSampler\n",
    "from imblearn.under_sampling import NeighbourhoodCleaningRule"
   ]
  },
  {
   "cell_type": "code",
   "execution_count": 3,
   "metadata": {
    "collapsed": false
   },
   "outputs": [],
   "source": [
    "course_id = 'KNU/101/2014_T2'\n",
    "user_id = 50444\n",
    "sm = pd.read_csv('data\\courseware_studentmodule.csv')"
   ]
  },
  {
   "cell_type": "code",
   "execution_count": 4,
   "metadata": {
    "collapsed": false
   },
   "outputs": [],
   "source": [
    "users = pd.read_csv('data\\userprofile.csv',encoding = 'utf8')"
   ]
  },
  {
   "cell_type": "code",
   "execution_count": 5,
   "metadata": {
    "collapsed": false
   },
   "outputs": [
    {
     "name": "stderr",
     "output_type": "stream",
     "text": [
      "C:\\Users\\mberezhnyak\\AppData\\Local\\Continuum\\Anaconda2\\lib\\site-packages\\IPython\\core\\interactiveshell.py:2902: DtypeWarning: Columns (13) have mixed types. Specify dtype option on import or set low_memory=False.\n",
      "  interactivity=interactivity, compiler=compiler, result=result)\n"
     ]
    }
   ],
   "source": [
    "cert = pd.read_csv('data\\certificates_generatedcertificate.csv')"
   ]
  },
  {
   "cell_type": "code",
   "execution_count": 6,
   "metadata": {
    "collapsed": false
   },
   "outputs": [],
   "source": [
    "related_columns = sm[(sm.module_type == 'problem') & (sm.course_id == course_id)].module_id.unique()"
   ]
  },
  {
   "cell_type": "code",
   "execution_count": 251,
   "metadata": {
    "collapsed": false
   },
   "outputs": [],
   "source": [
    "sm = sm[sm.module_type == 'problem']\n",
    "sm = sm.rename(columns = {'student_id':'user_id'})\n",
    "sm.grade = map(lambda x: x if x != '\\\\b' else 0,sm.grade.tolist())\n",
    "cert = cert[cert.course_id == course_id]\n",
    "registered = cert.user_id.unique()\n",
    "users = users[users.id.isin(registered)]"
   ]
  },
  {
   "cell_type": "code",
   "execution_count": 252,
   "metadata": {
    "collapsed": false
   },
   "outputs": [],
   "source": [
    "userfeatures = pd.merge(cert, users,left_on='user_id',right_on='id')[['user_id_x','year_of_birth','level_of_education','gender','status']]"
   ]
  },
  {
   "cell_type": "code",
   "execution_count": 253,
   "metadata": {
    "collapsed": false
   },
   "outputs": [
    {
     "data": {
      "text/html": [
       "<div>\n",
       "<table border=\"1\" class=\"dataframe\">\n",
       "  <thead>\n",
       "    <tr style=\"text-align: right;\">\n",
       "      <th></th>\n",
       "      <th>user_id_x</th>\n",
       "      <th>year_of_birth</th>\n",
       "      <th>level_of_education</th>\n",
       "      <th>gender</th>\n",
       "      <th>status</th>\n",
       "    </tr>\n",
       "  </thead>\n",
       "  <tbody>\n",
       "    <tr>\n",
       "      <th>0</th>\n",
       "      <td>47030</td>\n",
       "      <td>1993</td>\n",
       "      <td>b</td>\n",
       "      <td>f</td>\n",
       "      <td>downloadable</td>\n",
       "    </tr>\n",
       "    <tr>\n",
       "      <th>1</th>\n",
       "      <td>8</td>\n",
       "      <td>\\b</td>\n",
       "      <td>\\b</td>\n",
       "      <td>\\b</td>\n",
       "      <td>downloadable</td>\n",
       "    </tr>\n",
       "    <tr>\n",
       "      <th>2</th>\n",
       "      <td>113</td>\n",
       "      <td>\\b</td>\n",
       "      <td>NaN</td>\n",
       "      <td>NaN</td>\n",
       "      <td>notpassing</td>\n",
       "    </tr>\n",
       "    <tr>\n",
       "      <th>3</th>\n",
       "      <td>117</td>\n",
       "      <td>1991</td>\n",
       "      <td>a</td>\n",
       "      <td>m</td>\n",
       "      <td>notpassing</td>\n",
       "    </tr>\n",
       "    <tr>\n",
       "      <th>4</th>\n",
       "      <td>122</td>\n",
       "      <td>1994</td>\n",
       "      <td>a</td>\n",
       "      <td>m</td>\n",
       "      <td>notpassing</td>\n",
       "    </tr>\n",
       "    <tr>\n",
       "      <th>5</th>\n",
       "      <td>19</td>\n",
       "      <td>\\b</td>\n",
       "      <td>a</td>\n",
       "      <td>m</td>\n",
       "      <td>notpassing</td>\n",
       "    </tr>\n",
       "    <tr>\n",
       "      <th>6</th>\n",
       "      <td>137</td>\n",
       "      <td>1995</td>\n",
       "      <td>hs</td>\n",
       "      <td>m</td>\n",
       "      <td>notpassing</td>\n",
       "    </tr>\n",
       "    <tr>\n",
       "      <th>7</th>\n",
       "      <td>138</td>\n",
       "      <td>1996</td>\n",
       "      <td>hs</td>\n",
       "      <td>m</td>\n",
       "      <td>notpassing</td>\n",
       "    </tr>\n",
       "    <tr>\n",
       "      <th>8</th>\n",
       "      <td>160</td>\n",
       "      <td>1993</td>\n",
       "      <td>a</td>\n",
       "      <td>m</td>\n",
       "      <td>notpassing</td>\n",
       "    </tr>\n",
       "    <tr>\n",
       "      <th>9</th>\n",
       "      <td>161</td>\n",
       "      <td>1991</td>\n",
       "      <td>m</td>\n",
       "      <td>f</td>\n",
       "      <td>downloadable</td>\n",
       "    </tr>\n",
       "    <tr>\n",
       "      <th>10</th>\n",
       "      <td>164</td>\n",
       "      <td>1995</td>\n",
       "      <td>a</td>\n",
       "      <td>m</td>\n",
       "      <td>notpassing</td>\n",
       "    </tr>\n",
       "    <tr>\n",
       "      <th>11</th>\n",
       "      <td>168</td>\n",
       "      <td>1993</td>\n",
       "      <td>b</td>\n",
       "      <td>m</td>\n",
       "      <td>notpassing</td>\n",
       "    </tr>\n",
       "    <tr>\n",
       "      <th>12</th>\n",
       "      <td>177</td>\n",
       "      <td>\\b</td>\n",
       "      <td>NaN</td>\n",
       "      <td>NaN</td>\n",
       "      <td>notpassing</td>\n",
       "    </tr>\n",
       "    <tr>\n",
       "      <th>13</th>\n",
       "      <td>175</td>\n",
       "      <td>1996</td>\n",
       "      <td>a</td>\n",
       "      <td>m</td>\n",
       "      <td>downloadable</td>\n",
       "    </tr>\n",
       "    <tr>\n",
       "      <th>14</th>\n",
       "      <td>193</td>\n",
       "      <td>1991</td>\n",
       "      <td>b</td>\n",
       "      <td>m</td>\n",
       "      <td>downloadable</td>\n",
       "    </tr>\n",
       "    <tr>\n",
       "      <th>15</th>\n",
       "      <td>198</td>\n",
       "      <td>1993</td>\n",
       "      <td>b</td>\n",
       "      <td>m</td>\n",
       "      <td>notpassing</td>\n",
       "    </tr>\n",
       "    <tr>\n",
       "      <th>16</th>\n",
       "      <td>195</td>\n",
       "      <td>1991</td>\n",
       "      <td>m</td>\n",
       "      <td>m</td>\n",
       "      <td>notpassing</td>\n",
       "    </tr>\n",
       "    <tr>\n",
       "      <th>17</th>\n",
       "      <td>203</td>\n",
       "      <td>1996</td>\n",
       "      <td>hs</td>\n",
       "      <td>f</td>\n",
       "      <td>downloadable</td>\n",
       "    </tr>\n",
       "    <tr>\n",
       "      <th>18</th>\n",
       "      <td>208</td>\n",
       "      <td>1994</td>\n",
       "      <td>a</td>\n",
       "      <td>f</td>\n",
       "      <td>notpassing</td>\n",
       "    </tr>\n",
       "    <tr>\n",
       "      <th>19</th>\n",
       "      <td>204</td>\n",
       "      <td>1993</td>\n",
       "      <td>NaN</td>\n",
       "      <td>m</td>\n",
       "      <td>notpassing</td>\n",
       "    </tr>\n",
       "    <tr>\n",
       "      <th>20</th>\n",
       "      <td>213</td>\n",
       "      <td>1982</td>\n",
       "      <td>m</td>\n",
       "      <td>m</td>\n",
       "      <td>notpassing</td>\n",
       "    </tr>\n",
       "    <tr>\n",
       "      <th>21</th>\n",
       "      <td>214</td>\n",
       "      <td>1977</td>\n",
       "      <td>p</td>\n",
       "      <td>f</td>\n",
       "      <td>notpassing</td>\n",
       "    </tr>\n",
       "    <tr>\n",
       "      <th>22</th>\n",
       "      <td>212</td>\n",
       "      <td>1993</td>\n",
       "      <td>b</td>\n",
       "      <td>f</td>\n",
       "      <td>notpassing</td>\n",
       "    </tr>\n",
       "    <tr>\n",
       "      <th>23</th>\n",
       "      <td>217</td>\n",
       "      <td>1997</td>\n",
       "      <td>a</td>\n",
       "      <td>f</td>\n",
       "      <td>notpassing</td>\n",
       "    </tr>\n",
       "    <tr>\n",
       "      <th>24</th>\n",
       "      <td>218</td>\n",
       "      <td>1996</td>\n",
       "      <td>hs</td>\n",
       "      <td>f</td>\n",
       "      <td>notpassing</td>\n",
       "    </tr>\n",
       "    <tr>\n",
       "      <th>25</th>\n",
       "      <td>220</td>\n",
       "      <td>1996</td>\n",
       "      <td>a</td>\n",
       "      <td>m</td>\n",
       "      <td>notpassing</td>\n",
       "    </tr>\n",
       "    <tr>\n",
       "      <th>26</th>\n",
       "      <td>222</td>\n",
       "      <td>1994</td>\n",
       "      <td>a</td>\n",
       "      <td>m</td>\n",
       "      <td>notpassing</td>\n",
       "    </tr>\n",
       "    <tr>\n",
       "      <th>27</th>\n",
       "      <td>224</td>\n",
       "      <td>1995</td>\n",
       "      <td>hs</td>\n",
       "      <td>m</td>\n",
       "      <td>downloadable</td>\n",
       "    </tr>\n",
       "    <tr>\n",
       "      <th>28</th>\n",
       "      <td>191</td>\n",
       "      <td>1995</td>\n",
       "      <td>a</td>\n",
       "      <td>f</td>\n",
       "      <td>notpassing</td>\n",
       "    </tr>\n",
       "    <tr>\n",
       "      <th>29</th>\n",
       "      <td>226</td>\n",
       "      <td>1990</td>\n",
       "      <td>m</td>\n",
       "      <td>f</td>\n",
       "      <td>notpassing</td>\n",
       "    </tr>\n",
       "    <tr>\n",
       "      <th>...</th>\n",
       "      <td>...</td>\n",
       "      <td>...</td>\n",
       "      <td>...</td>\n",
       "      <td>...</td>\n",
       "      <td>...</td>\n",
       "    </tr>\n",
       "    <tr>\n",
       "      <th>13690</th>\n",
       "      <td>80760</td>\n",
       "      <td>1982</td>\n",
       "      <td>m</td>\n",
       "      <td>f</td>\n",
       "      <td>notpassing</td>\n",
       "    </tr>\n",
       "    <tr>\n",
       "      <th>13691</th>\n",
       "      <td>75686</td>\n",
       "      <td>1999</td>\n",
       "      <td>hs</td>\n",
       "      <td>f</td>\n",
       "      <td>downloadable</td>\n",
       "    </tr>\n",
       "    <tr>\n",
       "      <th>13692</th>\n",
       "      <td>77553</td>\n",
       "      <td>1974</td>\n",
       "      <td>m</td>\n",
       "      <td>f</td>\n",
       "      <td>notpassing</td>\n",
       "    </tr>\n",
       "    <tr>\n",
       "      <th>13693</th>\n",
       "      <td>10277</td>\n",
       "      <td>1981</td>\n",
       "      <td>m</td>\n",
       "      <td>f</td>\n",
       "      <td>downloadable</td>\n",
       "    </tr>\n",
       "    <tr>\n",
       "      <th>13694</th>\n",
       "      <td>52687</td>\n",
       "      <td>1997</td>\n",
       "      <td>hs</td>\n",
       "      <td>m</td>\n",
       "      <td>notpassing</td>\n",
       "    </tr>\n",
       "    <tr>\n",
       "      <th>13695</th>\n",
       "      <td>52001</td>\n",
       "      <td>\\b</td>\n",
       "      <td>NaN</td>\n",
       "      <td>NaN</td>\n",
       "      <td>notpassing</td>\n",
       "    </tr>\n",
       "    <tr>\n",
       "      <th>13696</th>\n",
       "      <td>68623</td>\n",
       "      <td>1989</td>\n",
       "      <td>m</td>\n",
       "      <td>m</td>\n",
       "      <td>notpassing</td>\n",
       "    </tr>\n",
       "    <tr>\n",
       "      <th>13697</th>\n",
       "      <td>14569</td>\n",
       "      <td>1978</td>\n",
       "      <td>hs</td>\n",
       "      <td>f</td>\n",
       "      <td>notpassing</td>\n",
       "    </tr>\n",
       "    <tr>\n",
       "      <th>13698</th>\n",
       "      <td>64474</td>\n",
       "      <td>1967</td>\n",
       "      <td>hs</td>\n",
       "      <td>f</td>\n",
       "      <td>notpassing</td>\n",
       "    </tr>\n",
       "    <tr>\n",
       "      <th>13699</th>\n",
       "      <td>43632</td>\n",
       "      <td>\\b</td>\n",
       "      <td>NaN</td>\n",
       "      <td>NaN</td>\n",
       "      <td>notpassing</td>\n",
       "    </tr>\n",
       "    <tr>\n",
       "      <th>13700</th>\n",
       "      <td>20006</td>\n",
       "      <td>1987</td>\n",
       "      <td>m</td>\n",
       "      <td>f</td>\n",
       "      <td>notpassing</td>\n",
       "    </tr>\n",
       "    <tr>\n",
       "      <th>13701</th>\n",
       "      <td>43417</td>\n",
       "      <td>1985</td>\n",
       "      <td>m</td>\n",
       "      <td>m</td>\n",
       "      <td>downloadable</td>\n",
       "    </tr>\n",
       "    <tr>\n",
       "      <th>13702</th>\n",
       "      <td>17096</td>\n",
       "      <td>1990</td>\n",
       "      <td>m</td>\n",
       "      <td>m</td>\n",
       "      <td>notpassing</td>\n",
       "    </tr>\n",
       "    <tr>\n",
       "      <th>13703</th>\n",
       "      <td>30360</td>\n",
       "      <td>1996</td>\n",
       "      <td>a</td>\n",
       "      <td>m</td>\n",
       "      <td>notpassing</td>\n",
       "    </tr>\n",
       "    <tr>\n",
       "      <th>13704</th>\n",
       "      <td>42490</td>\n",
       "      <td>1987</td>\n",
       "      <td>m</td>\n",
       "      <td>f</td>\n",
       "      <td>notpassing</td>\n",
       "    </tr>\n",
       "    <tr>\n",
       "      <th>13705</th>\n",
       "      <td>71384</td>\n",
       "      <td>1980</td>\n",
       "      <td>m</td>\n",
       "      <td>f</td>\n",
       "      <td>notpassing</td>\n",
       "    </tr>\n",
       "    <tr>\n",
       "      <th>13706</th>\n",
       "      <td>57999</td>\n",
       "      <td>1982</td>\n",
       "      <td>m</td>\n",
       "      <td>m</td>\n",
       "      <td>notpassing</td>\n",
       "    </tr>\n",
       "    <tr>\n",
       "      <th>13707</th>\n",
       "      <td>35863</td>\n",
       "      <td>1993</td>\n",
       "      <td>b</td>\n",
       "      <td>m</td>\n",
       "      <td>notpassing</td>\n",
       "    </tr>\n",
       "    <tr>\n",
       "      <th>13708</th>\n",
       "      <td>65649</td>\n",
       "      <td>1984</td>\n",
       "      <td>m</td>\n",
       "      <td>f</td>\n",
       "      <td>notpassing</td>\n",
       "    </tr>\n",
       "    <tr>\n",
       "      <th>13709</th>\n",
       "      <td>41319</td>\n",
       "      <td>\\b</td>\n",
       "      <td>m</td>\n",
       "      <td>m</td>\n",
       "      <td>notpassing</td>\n",
       "    </tr>\n",
       "    <tr>\n",
       "      <th>13710</th>\n",
       "      <td>85679</td>\n",
       "      <td>1964</td>\n",
       "      <td>m</td>\n",
       "      <td>m</td>\n",
       "      <td>notpassing</td>\n",
       "    </tr>\n",
       "    <tr>\n",
       "      <th>13711</th>\n",
       "      <td>68055</td>\n",
       "      <td>1990</td>\n",
       "      <td>m</td>\n",
       "      <td>m</td>\n",
       "      <td>notpassing</td>\n",
       "    </tr>\n",
       "    <tr>\n",
       "      <th>13712</th>\n",
       "      <td>40702</td>\n",
       "      <td>1996</td>\n",
       "      <td>hs</td>\n",
       "      <td>m</td>\n",
       "      <td>notpassing</td>\n",
       "    </tr>\n",
       "    <tr>\n",
       "      <th>13713</th>\n",
       "      <td>64974</td>\n",
       "      <td>1989</td>\n",
       "      <td>m</td>\n",
       "      <td>m</td>\n",
       "      <td>notpassing</td>\n",
       "    </tr>\n",
       "    <tr>\n",
       "      <th>13714</th>\n",
       "      <td>40588</td>\n",
       "      <td>1991</td>\n",
       "      <td>m</td>\n",
       "      <td>f</td>\n",
       "      <td>notpassing</td>\n",
       "    </tr>\n",
       "    <tr>\n",
       "      <th>13715</th>\n",
       "      <td>39941</td>\n",
       "      <td>1974</td>\n",
       "      <td>m</td>\n",
       "      <td>m</td>\n",
       "      <td>notpassing</td>\n",
       "    </tr>\n",
       "    <tr>\n",
       "      <th>13716</th>\n",
       "      <td>79961</td>\n",
       "      <td>1992</td>\n",
       "      <td>m</td>\n",
       "      <td>m</td>\n",
       "      <td>notpassing</td>\n",
       "    </tr>\n",
       "    <tr>\n",
       "      <th>13717</th>\n",
       "      <td>37921</td>\n",
       "      <td>1985</td>\n",
       "      <td>m</td>\n",
       "      <td>m</td>\n",
       "      <td>notpassing</td>\n",
       "    </tr>\n",
       "    <tr>\n",
       "      <th>13718</th>\n",
       "      <td>10197</td>\n",
       "      <td>1968</td>\n",
       "      <td>m</td>\n",
       "      <td>m</td>\n",
       "      <td>notpassing</td>\n",
       "    </tr>\n",
       "    <tr>\n",
       "      <th>13719</th>\n",
       "      <td>15805</td>\n",
       "      <td>1996</td>\n",
       "      <td>jhs</td>\n",
       "      <td>m</td>\n",
       "      <td>downloadable</td>\n",
       "    </tr>\n",
       "  </tbody>\n",
       "</table>\n",
       "<p>13720 rows × 5 columns</p>\n",
       "</div>"
      ],
      "text/plain": [
       "       user_id_x year_of_birth level_of_education gender        status\n",
       "0          47030          1993                  b      f  downloadable\n",
       "1              8            \\b                 \\b     \\b  downloadable\n",
       "2            113            \\b                NaN    NaN    notpassing\n",
       "3            117          1991                  a      m    notpassing\n",
       "4            122          1994                  a      m    notpassing\n",
       "5             19            \\b                  a      m    notpassing\n",
       "6            137          1995                 hs      m    notpassing\n",
       "7            138          1996                 hs      m    notpassing\n",
       "8            160          1993                  a      m    notpassing\n",
       "9            161          1991                  m      f  downloadable\n",
       "10           164          1995                  a      m    notpassing\n",
       "11           168          1993                  b      m    notpassing\n",
       "12           177            \\b                NaN    NaN    notpassing\n",
       "13           175          1996                  a      m  downloadable\n",
       "14           193          1991                  b      m  downloadable\n",
       "15           198          1993                  b      m    notpassing\n",
       "16           195          1991                  m      m    notpassing\n",
       "17           203          1996                 hs      f  downloadable\n",
       "18           208          1994                  a      f    notpassing\n",
       "19           204          1993                NaN      m    notpassing\n",
       "20           213          1982                  m      m    notpassing\n",
       "21           214          1977                  p      f    notpassing\n",
       "22           212          1993                  b      f    notpassing\n",
       "23           217          1997                  a      f    notpassing\n",
       "24           218          1996                 hs      f    notpassing\n",
       "25           220          1996                  a      m    notpassing\n",
       "26           222          1994                  a      m    notpassing\n",
       "27           224          1995                 hs      m  downloadable\n",
       "28           191          1995                  a      f    notpassing\n",
       "29           226          1990                  m      f    notpassing\n",
       "...          ...           ...                ...    ...           ...\n",
       "13690      80760          1982                  m      f    notpassing\n",
       "13691      75686          1999                 hs      f  downloadable\n",
       "13692      77553          1974                  m      f    notpassing\n",
       "13693      10277          1981                  m      f  downloadable\n",
       "13694      52687          1997                 hs      m    notpassing\n",
       "13695      52001            \\b                NaN    NaN    notpassing\n",
       "13696      68623          1989                  m      m    notpassing\n",
       "13697      14569          1978                 hs      f    notpassing\n",
       "13698      64474          1967                 hs      f    notpassing\n",
       "13699      43632            \\b                NaN    NaN    notpassing\n",
       "13700      20006          1987                  m      f    notpassing\n",
       "13701      43417          1985                  m      m  downloadable\n",
       "13702      17096          1990                  m      m    notpassing\n",
       "13703      30360          1996                  a      m    notpassing\n",
       "13704      42490          1987                  m      f    notpassing\n",
       "13705      71384          1980                  m      f    notpassing\n",
       "13706      57999          1982                  m      m    notpassing\n",
       "13707      35863          1993                  b      m    notpassing\n",
       "13708      65649          1984                  m      f    notpassing\n",
       "13709      41319            \\b                  m      m    notpassing\n",
       "13710      85679          1964                  m      m    notpassing\n",
       "13711      68055          1990                  m      m    notpassing\n",
       "13712      40702          1996                 hs      m    notpassing\n",
       "13713      64974          1989                  m      m    notpassing\n",
       "13714      40588          1991                  m      f    notpassing\n",
       "13715      39941          1974                  m      m    notpassing\n",
       "13716      79961          1992                  m      m    notpassing\n",
       "13717      37921          1985                  m      m    notpassing\n",
       "13718      10197          1968                  m      m    notpassing\n",
       "13719      15805          1996                jhs      m  downloadable\n",
       "\n",
       "[13720 rows x 5 columns]"
      ]
     },
     "execution_count": 253,
     "metadata": {},
     "output_type": "execute_result"
    }
   ],
   "source": [
    "userfeatures"
   ]
  },
  {
   "cell_type": "code",
   "execution_count": 167,
   "metadata": {
    "collapsed": false
   },
   "outputs": [
    {
     "name": "stderr",
     "output_type": "stream",
     "text": [
      "C:\\Users\\mberezhnyak\\AppData\\Local\\Continuum\\Anaconda2\\lib\\site-packages\\ipykernel\\__main__.py:20: UnicodeWarning: Unicode equal comparison failed to convert both arguments to Unicode - interpreting them as being unequal\n"
     ]
    }
   ],
   "source": [
    "regions = pd.read_csv('regions.csv',encoding = 'utf8')\n",
    "tokens = []\n",
    "for i, row in enumerate(regions.region):\n",
    "    if row == u'Одеська область':\n",
    "        tokens.append(u'Одес')\n",
    "    elif u'цька область' in row or u'ська область' in row or u'зька область' in row:\n",
    "        tokens.append(row[0:-12])\n",
    "    elif row == u'Автономна Республіка Крим':\n",
    "        tokens.append(u'АРК')\n",
    "    else:\n",
    "        tokens.append(row)\n",
    "regions['token1'] = tokens\n",
    "\n",
    "tokens = []\n",
    "for i, row in enumerate(regions.region):\n",
    "    if row == u'Київ':\n",
    "        tokens.append(u'Kyiv,Киів,Киiв,Kiyv,Киъв,Киїі,Kyev')\n",
    "    elif row == u'Дніпро':\n",
    "        tokens.append(u'Днiпропетровськ')\n",
    "    elif row == 'Харків':\n",
    "        tokens.append(u'Kharkiv')\n",
    "    elif row == u'Львів':\n",
    "        tokens.append(u'Львiв,L''viv')\n",
    "    elif row == u'Запоріжжя':\n",
    "        tokens.append(u'Запорiжжя,Zaporizhzhya')\n",
    "    elif row == u'Вараш':\n",
    "        tokens.append(u'Кузнецовськ')\n",
    "    elif row == u'Донецьк':\n",
    "        tokens.append(u'Donetsk')\n",
    "    elif row == u'Одеса':\n",
    "        tokens.append(u'Odesa')\n",
    "    elif row == u'Кривий Ріг':\n",
    "        tokens.append(u'Кривий Рiг')\n",
    "    elif row == u'Миколаїв':\n",
    "        tokens.append(u'Mykolaiv')\n",
    "    else:\n",
    "        tokens.append(row)\n",
    "regions['token2'] = tokens\n",
    "\n",
    "settlements = pd.read_csv('cities_ua.csv',encoding = 'utf8')\n",
    "settlements = settlements[settlements.type == u'місто']\n",
    "settlements = settlements[['settlement', u'region', u'type', u'English', u'Russian']]\n",
    "settlementsWithCodes = pd.merge(settlements, regions, on=u'region')"
   ]
  },
  {
   "cell_type": "code",
   "execution_count": 168,
   "metadata": {
    "collapsed": false
   },
   "outputs": [],
   "source": [
    "usersWithAddress = users[~users.mailing_address.isnull()]\n",
    "usersWithAddress = usersWithAddress[~usersWithAddress.mailing_address.str.contains('@')]\n",
    "usersWithAddress = usersWithAddress[usersWithAddress.mailing_address != '\\\\b']\n",
    "usersWithAddress = usersWithAddress.mailing_address"
   ]
  },
  {
   "cell_type": "code",
   "execution_count": null,
   "metadata": {
    "collapsed": false
   },
   "outputs": [],
   "source": []
  },
  {
   "cell_type": "code",
   "execution_count": 170,
   "metadata": {
    "collapsed": false
   },
   "outputs": [
    {
     "name": "stdout",
     "output_type": "stream",
     "text": [
      "0\n",
      "100\n",
      "200\n",
      "300\n",
      "400\n",
      "500\n",
      "600\n",
      "700\n",
      "800\n",
      "900\n",
      "1000\n",
      "1100\n",
      "1200\n",
      "1300\n",
      "1400\n",
      "1500\n",
      "1600\n",
      "1700\n",
      "1800\n",
      "1900\n",
      "2000\n",
      "2100\n",
      "2200\n",
      "2300\n",
      "2400\n",
      "2500\n",
      "2600\n",
      "2700\n",
      "2800\n",
      "2900\n",
      "3000\n",
      "3100\n",
      "3200\n",
      "3300\n",
      "3400\n",
      "3500\n",
      "3600\n",
      "3700\n",
      "3800\n",
      "3900\n",
      "4000\n",
      "4100\n",
      "4200\n",
      "4300\n",
      "4400\n",
      "4500\n",
      "4600\n",
      "4700\n",
      "4800\n",
      "4900\n",
      "5000\n",
      "5100\n",
      "5200\n",
      "5300\n",
      "5400\n",
      "5500\n",
      "5600\n",
      "5700\n",
      "5800\n",
      "5900\n",
      "6000\n",
      "6100\n",
      "6200\n",
      "6300\n",
      "6400\n",
      "6500\n",
      "6600\n",
      "6700\n",
      "6800\n",
      "6900\n",
      "7000\n",
      "7100\n",
      "7200\n",
      "7300\n",
      "7400\n",
      "7500\n",
      "7600\n",
      "7700\n",
      "7800\n",
      "7900\n",
      "8000\n",
      "8100\n",
      "8200\n",
      "8300\n",
      "8400\n",
      "8500\n",
      "8600\n",
      "8700\n",
      "8800\n",
      "8900\n",
      "9000\n",
      "9100\n",
      "9200\n",
      "9300\n",
      "9400\n",
      "9500\n",
      "9600\n",
      "9700\n",
      "9800\n",
      "9900\n",
      "10000\n",
      "10100\n",
      "10200\n",
      "10300\n",
      "10400\n",
      "10500\n",
      "10600\n",
      "10700\n",
      "10800\n",
      "10900\n",
      "11000\n",
      "11100\n",
      "11200\n",
      "11300\n",
      "11400\n",
      "11500\n",
      "11600\n",
      "11700\n",
      "11800\n",
      "11900\n",
      "12000\n",
      "12100\n",
      "12200\n",
      "12300\n",
      "12400\n",
      "12500\n",
      "12600\n",
      "12700\n",
      "12800\n",
      "12900\n",
      "13000\n",
      "13100\n",
      "13200\n",
      "13300\n",
      "13400\n",
      "13500\n",
      "13600\n",
      "13700\n",
      "13800\n",
      "13900\n",
      "14000\n",
      "14100\n",
      "14200\n",
      "14300\n",
      "14400\n",
      "14500\n",
      "14600\n",
      "14700\n",
      "14800\n",
      "14900\n",
      "15000\n",
      "15100\n",
      "15200\n",
      "15300\n",
      "15400\n",
      "15500\n",
      "15600\n",
      "15700\n",
      "15800\n",
      "15900\n",
      "16000\n",
      "16100\n",
      "16200\n",
      "16300\n",
      "16400\n",
      "16500\n",
      "16600\n",
      "16700\n",
      "16800\n",
      "16900\n",
      "17000\n",
      "17100\n",
      "17200\n",
      "17300\n",
      "17400\n",
      "17500\n",
      "17600\n",
      "17700\n",
      "17800\n",
      "17900\n",
      "18000\n",
      "18100\n",
      "18200\n",
      "18300\n",
      "18400\n",
      "18500\n",
      "18600\n",
      "18700\n",
      "18800\n",
      "18900\n",
      "19000\n",
      "19100\n",
      "19200\n",
      "19300\n",
      "19400\n",
      "19500\n",
      "19600\n",
      "19700\n",
      "19800\n",
      "19900\n",
      "20000\n",
      "20100\n",
      "20200\n",
      "20300\n",
      "20400\n",
      "20500\n",
      "20600\n",
      "20700\n",
      "20800\n",
      "20900\n",
      "21000\n",
      "21100\n",
      "21200\n",
      "21300\n",
      "21400\n",
      "21500\n",
      "21600\n",
      "21700\n",
      "21800\n",
      "21900\n",
      "22000\n",
      "22100\n",
      "22200\n",
      "22300\n",
      "22400\n",
      "22500\n",
      "22600\n",
      "22700\n",
      "22800\n",
      "22900\n",
      "23000\n",
      "23100\n",
      "23200\n",
      "23300\n",
      "23400\n",
      "23500\n",
      "23600\n",
      "23700\n",
      "23800\n",
      "23900\n",
      "24000\n",
      "24100\n",
      "24200\n",
      "24300\n",
      "24400\n",
      "24500\n",
      "24600\n",
      "24700\n",
      "24800\n",
      "24900\n",
      "25000\n",
      "25100\n",
      "25200\n",
      "25300\n",
      "25400\n",
      "25500\n",
      "25600\n",
      "25700\n",
      "25800\n",
      "25900\n",
      "26000\n",
      "26100\n",
      "26200\n",
      "26300\n",
      "26400\n",
      "26500\n",
      "26600\n",
      "26700\n",
      "26800\n",
      "26900\n",
      "27000\n",
      "27100\n",
      "27200\n",
      "27300\n",
      "27400\n",
      "27500\n",
      "27600\n",
      "27700\n",
      "27800\n",
      "27900\n",
      "28000\n",
      "28100\n",
      "28200\n",
      "28300\n",
      "28400\n",
      "28500\n",
      "28600\n",
      "28700\n",
      "28800\n",
      "28900\n",
      "29000\n",
      "29100\n",
      "29200\n",
      "29300\n",
      "29400\n",
      "29500\n",
      "29600\n",
      "29700\n",
      "29800\n",
      "29900\n",
      "30000\n",
      "30100\n",
      "30200\n",
      "30300\n",
      "30400\n",
      "30500\n",
      "30600\n",
      "30700\n",
      "30800\n",
      "30900\n",
      "31000\n",
      "31100\n",
      "31200\n",
      "31300\n",
      "31400\n",
      "31500\n",
      "31600\n",
      "31700\n",
      "31800\n",
      "31900\n",
      "32000\n",
      "32100\n",
      "32200\n",
      "32300\n",
      "32400\n",
      "32500\n",
      "32600\n",
      "32700\n",
      "32800\n",
      "32900\n",
      "33000\n",
      "33100\n",
      "33200\n",
      "33300\n",
      "33400\n",
      "33500\n",
      "33600\n",
      "33700\n",
      "33800\n",
      "33900\n",
      "34000\n",
      "34100\n",
      "34200\n",
      "34300\n",
      "34400\n",
      "34500\n",
      "34600\n",
      "34700\n",
      "34800\n",
      "34900\n",
      "35000\n",
      "35100\n",
      "35200\n",
      "35300\n",
      "35400\n",
      "35500\n",
      "35600\n",
      "35700\n",
      "35800\n",
      "35900\n",
      "36000\n",
      "36100\n",
      "36200\n",
      "36300\n",
      "36400\n",
      "36500\n",
      "36600\n",
      "36700\n",
      "36800\n",
      "36900\n",
      "37000\n",
      "37100\n",
      "37200\n",
      "37300\n",
      "37400\n",
      "37500\n",
      "37600\n",
      "37700\n",
      "37800\n",
      "37900\n",
      "38000\n",
      "38100\n",
      "38200\n",
      "38300\n",
      "38400\n",
      "38500\n",
      "38600\n",
      "38700\n",
      "38800\n",
      "38900\n",
      "39000\n",
      "39100\n",
      "39200\n",
      "39300\n",
      "39400\n",
      "39500\n",
      "39600\n",
      "39700\n",
      "39800\n",
      "39900\n",
      "40000\n",
      "40100\n",
      "40200\n",
      "40300\n",
      "40400\n",
      "40500\n",
      "40600\n",
      "40700\n",
      "40800\n",
      "40900\n",
      "41000\n",
      "41100\n",
      "41200\n",
      "41300\n",
      "41400\n",
      "41500\n",
      "41600\n",
      "41700\n",
      "41800\n",
      "41900\n",
      "42000\n",
      "42100\n",
      "42200\n",
      "42300\n",
      "42400\n",
      "42500\n",
      "42600\n",
      "42700\n",
      "42800\n",
      "42900\n",
      "43000\n",
      "43100\n",
      "43200\n",
      "43300\n",
      "43400\n",
      "43500\n",
      "43600\n",
      "43700\n",
      "43800\n",
      "43900\n",
      "44000\n",
      "44100\n",
      "44200\n",
      "44300\n",
      "44400\n",
      "44500\n",
      "44600\n",
      "44700\n",
      "44800\n",
      "44900\n",
      "45000\n",
      "45100\n",
      "45200\n",
      "45300\n",
      "45400\n",
      "45500\n",
      "45600\n",
      "45700\n",
      "45800\n",
      "45900\n",
      "46000\n",
      "46100\n",
      "46200\n",
      "46300\n",
      "46400\n",
      "46500\n",
      "46600\n",
      "46700\n",
      "46800\n",
      "46900\n",
      "47000\n",
      "47100\n",
      "47200\n",
      "47300\n",
      "47400\n",
      "47500\n",
      "47600\n",
      "47700\n",
      "47800\n",
      "47900\n",
      "48000\n",
      "48100\n",
      "48200\n",
      "48300\n",
      "48400\n",
      "48500\n",
      "48600\n",
      "48700\n",
      "48800\n",
      "48900\n",
      "49000\n",
      "49100\n",
      "49200\n",
      "49300\n",
      "49400\n",
      "49500\n",
      "49600\n",
      "49700\n",
      "49800\n",
      "49900\n",
      "50000\n",
      "50100\n",
      "50200\n",
      "50300\n",
      "50400\n",
      "50500\n",
      "50600\n",
      "50700\n",
      "50800\n",
      "50900\n",
      "51000\n",
      "51100\n",
      "51200\n",
      "51300\n",
      "51400\n",
      "51500\n",
      "51600\n",
      "51700\n",
      "51800\n",
      "51900\n",
      "52000\n",
      "52100\n",
      "52200\n",
      "52300\n",
      "52400\n",
      "52500\n",
      "52600\n",
      "52700\n",
      "52800\n",
      "52900\n",
      "53000\n",
      "53100\n",
      "53200\n",
      "53300\n",
      "53400\n",
      "53500\n",
      "53600\n",
      "53700\n",
      "53800\n",
      "53900\n",
      "54000\n",
      "54100\n",
      "54200\n",
      "54300\n",
      "54400\n",
      "54500\n",
      "54600\n",
      "54700\n",
      "54800\n",
      "54900\n",
      "55000\n",
      "55100\n",
      "55200\n",
      "55300\n",
      "55400\n",
      "55500\n",
      "55600\n",
      "55700\n",
      "55800\n",
      "55900\n",
      "56000\n",
      "56100\n",
      "56200\n",
      "56300\n",
      "56400\n",
      "56500\n",
      "56600\n",
      "56700\n",
      "56800\n",
      "56900\n",
      "57000\n",
      "57100\n",
      "57200\n",
      "57300\n",
      "57400\n",
      "57500\n",
      "57600\n",
      "57700\n",
      "57800\n",
      "57900\n",
      "58000\n",
      "58100\n",
      "58200\n",
      "58300\n",
      "58400\n",
      "58500\n",
      "58600\n",
      "58700\n",
      "58800\n",
      "58900\n",
      "59000\n",
      "59100\n",
      "59200\n",
      "59300\n",
      "59400\n",
      "59500\n",
      "59600\n",
      "59700\n",
      "59800\n",
      "59900\n",
      "60000\n",
      "60100\n",
      "60200\n",
      "60300\n",
      "60400\n",
      "60500\n",
      "60600\n",
      "60700\n",
      "60800\n",
      "60900\n",
      "61000\n",
      "61100\n",
      "61200\n",
      "61300\n",
      "61400\n",
      "61500\n",
      "61600\n",
      "61700\n",
      "61800\n",
      "61900\n",
      "62000\n",
      "62100\n",
      "62200\n",
      "62300\n",
      "62400\n",
      "62500\n",
      "62600\n",
      "62700\n",
      "62800\n",
      "62900\n",
      "63000\n",
      "63100\n",
      "63200\n",
      "63300\n",
      "63400\n",
      "63500\n",
      "63600\n",
      "63700\n",
      "63800\n",
      "63900\n",
      "64000\n",
      "64100\n",
      "64200\n",
      "64300\n",
      "64400\n",
      "64500\n",
      "64600\n",
      "64700\n",
      "64800\n",
      "64900\n",
      "65000\n",
      "65100\n",
      "65200\n",
      "65300\n",
      "65400\n",
      "65500\n",
      "65600\n",
      "65700\n",
      "65800\n",
      "65900\n",
      "66000\n",
      "66100\n",
      "66200\n",
      "66300\n",
      "66400\n",
      "66500\n",
      "66600\n",
      "66700\n",
      "66800\n",
      "66900\n",
      "67000\n",
      "67100\n",
      "67200\n",
      "67300\n",
      "67400\n",
      "67500\n",
      "67600\n",
      "67700\n",
      "67800\n",
      "67900\n",
      "68000\n",
      "68100\n",
      "68200\n",
      "68300\n",
      "68400\n",
      "68500\n",
      "68600\n",
      "68700\n",
      "68800\n",
      "68900\n",
      "69000\n",
      "69100\n",
      "69200\n",
      "69300\n",
      "69400\n",
      "69500\n"
     ]
    }
   ],
   "source": [
    "codes = []\n",
    "for i, u in enumerate(usersWithAddress):\n",
    "    address = u.lower()\n",
    "    if i % 100 == 0:\n",
    "        print i\n",
    "    gotIt = False\n",
    "    for j, row in settlementsWithCodes.iterrows():\n",
    "        #print j\n",
    "        #print row['settlement']\n",
    "        tokenFound = False\n",
    "        for t in row['token2'].split(','):\n",
    "            if t.lower() in address:\n",
    "                tokenFound = True\n",
    "                break\n",
    "        if tokenFound or \\\n",
    "        row['settlement'].lower() in address or \\\n",
    "        row['English'].lower() in address \\\n",
    "        or row['Russian'].lower() in address \\\n",
    "        or row['token1'].lower() in address:\n",
    "            codes.append(row['code'])\n",
    "            gotIt = True\n",
    "            break\n",
    "    if not gotIt:\n",
    "        codes.append(u'no_data')"
   ]
  },
  {
   "cell_type": "code",
   "execution_count": null,
   "metadata": {
    "collapsed": false
   },
   "outputs": [],
   "source": []
  },
  {
   "cell_type": "code",
   "execution_count": 171,
   "metadata": {
    "collapsed": false
   },
   "outputs": [],
   "source": [
    "ua = users[~users.mailing_address.isnull()]\n",
    "ua = ua[~ua.mailing_address.str.contains('@')]\n",
    "ua = ua[ua.mailing_address != '\\\\b']\n",
    "ua['region_code'] = codes"
   ]
  },
  {
   "cell_type": "code",
   "execution_count": 240,
   "metadata": {
    "collapsed": false
   },
   "outputs": [
    {
     "data": {
      "text/plain": [
       "mailing_address\n",
       "Москва             32\n",
       "Варшава            31\n",
       "Warszawa           14\n",
       "Краків             12\n",
       "Санкт-Петербург    12\n",
       "Відень             11\n",
       "Крим               10\n",
       "с.Козацьке         10\n",
       "Toronto             9\n",
       "Котовськ            9\n",
       "Минск               9\n",
       "Україна             9\n",
       "Харькiв             9\n",
       "м.Кузнецовськ       9\n",
       "Chernigiv           8\n",
       "Krakow              8\n",
       "Kremenchuk          8\n",
       "Uzhhorod            8\n",
       "Warsaw              8\n",
       "Zaporizhya          8\n",
       "Name: mailing_address, dtype: int64"
      ]
     },
     "execution_count": 240,
     "metadata": {},
     "output_type": "execute_result"
    }
   ],
   "source": [
    "ua[ua.region_code == u'no_data'].groupby(['mailing_address'])['mailing_address'].count().nlargest(20)"
   ]
  },
  {
   "cell_type": "code",
   "execution_count": 245,
   "metadata": {
    "collapsed": false
   },
   "outputs": [],
   "source": [
    "#ua[ua.mailing_address == u'L\\'viv']\n",
    "#ua[ua.mailing_address == u'Житомир']\n",
    "#ua.loc[ua.mailing_address ==u'Ружин', 'region_code'] = u'UA-18'\n",
    "ua.to_csv('geomask.csv', index=False,encoding = 'utf8')"
   ]
  },
  {
   "cell_type": "code",
   "execution_count": null,
   "metadata": {
    "collapsed": false
   },
   "outputs": [],
   "source": []
  },
  {
   "cell_type": "code",
   "execution_count": 64,
   "metadata": {
    "collapsed": false
   },
   "outputs": [
    {
     "name": "stdout",
     "output_type": "stream",
     "text": [
      "__getProblemResultFeatures finished in 89.3380000591\n"
     ]
    }
   ],
   "source": [
    "#fit\n",
    "##__getProblemResultFeatures\n",
    "start_time = time.time()\n",
    "modules = sm.module_id.unique().tolist()\n",
    "result = []\n",
    "for module in modules:\n",
    "    first = sm[sm.module_id == module].created.min()\n",
    "    result.append({'name':module,'date':first})\n",
    "labels = map(lambda x: x['name'],sorted(result,key=lambda x: x['date']))\n",
    "rebased = sm.pivot(index='user_id',columns='module_id',values='grade')\n",
    "rebased = rebased[labels].fillna(0)\n",
    "res_features =  rebased\n",
    "print '__getProblemResultFeatures finished in ' + str(time.time() - start_time)\n",
    "##"
   ]
  },
  {
   "cell_type": "code",
   "execution_count": 66,
   "metadata": {
    "collapsed": false
   },
   "outputs": [
    {
     "name": "stdout",
     "output_type": "stream",
     "text": [
      "__getUserDataFeatures finished in 0.676000118256\n"
     ]
    }
   ],
   "source": [
    "##__getUserDataFeatures\n",
    "start_time = time.time()\n",
    "u = pd.DataFrame(users[['gender','year_of_birth','level_of_education']],index=users.user_id)\n",
    "c = cert.set_index(cert.user_id)[['grade','status']]\n",
    "c['status'] = c.apply(lambda x: 1 if x.status == 'downloadable' else 0,1)\n",
    "u_features = c.join(u)\n",
    "print '__getUserDataFeatures finished in ' + str(time.time() - start_time)\n",
    "##"
   ]
  },
  {
   "cell_type": "code",
   "execution_count": 67,
   "metadata": {
    "collapsed": false
   },
   "outputs": [
    {
     "data": {
      "text/plain": [
       "53013"
      ]
     },
     "execution_count": 67,
     "metadata": {},
     "output_type": "execute_result"
    }
   ],
   "source": [
    "len(res_features)"
   ]
  },
  {
   "cell_type": "code",
   "execution_count": 68,
   "metadata": {
    "collapsed": false
   },
   "outputs": [
    {
     "name": "stdout",
     "output_type": "stream",
     "text": [
      "__lastPassedTest finished in 0.00600004196167\n"
     ]
    }
   ],
   "source": [
    "##__lastPassedTest\n",
    "start_time = time.time()\n",
    "features = res_features.ix[user_id].tolist()\n",
    "index = len(features)\n",
    "for i in reversed(features):\n",
    "    if i != 0:\n",
    "        break\n",
    "    index -= 1\n",
    "if index == 0:\n",
    "    index = len(res_features.columns)\n",
    "last = index\n",
    "print '__lastPassedTest finished in ' + str(time.time() - start_time)\n",
    "##"
   ]
  },
  {
   "cell_type": "code",
   "execution_count": 69,
   "metadata": {
    "collapsed": false
   },
   "outputs": [
    {
     "name": "stdout",
     "output_type": "stream",
     "text": [
      "_final preparations finished in 3.64800000191\n"
     ]
    }
   ],
   "source": [
    "start_time = time.time()\n",
    "cols = res_features.columns[:last].tolist()\n",
    "dataset = u_features.join(res_features)\n",
    "data = dataset[cols].fillna(0)\n",
    "Y = dataset.status\n",
    "print '_final preparations finished in ' + str(time.time() - start_time)"
   ]
  },
  {
   "cell_type": "code",
   "execution_count": 70,
   "metadata": {
    "collapsed": false
   },
   "outputs": [
    {
     "name": "stdout",
     "output_type": "stream",
     "text": [
      "cross_val_predict finished in 4.67900013924\n",
      "fit finished in 1.35299992561\n"
     ]
    }
   ],
   "source": [
    "model = GaussianNB()\n",
    "start_time = time.time()\n",
    "predicted = cross_val_predict(model, data, Y)\n",
    "print 'cross_val_predict finished in ' + str(time.time() - start_time)\n",
    "\n",
    "score = float(np.sum(predicted == Y))/len(data)\n",
    "start_time = time.time()\n",
    "model.fit(data,Y)\n",
    "print 'fit finished in ' + str(time.time() - start_time)"
   ]
  },
  {
   "cell_type": "code",
   "execution_count": 71,
   "metadata": {
    "collapsed": false
   },
   "outputs": [
    {
     "name": "stdout",
     "output_type": "stream",
     "text": [
      "predict finished in 0.570999860764\n",
      "0.607830299856\n"
     ]
    },
    {
     "name": "stderr",
     "output_type": "stream",
     "text": [
      "C:\\Users\\mberezhnyak\\AppData\\Local\\Continuum\\Anaconda2\\lib\\site-packages\\sklearn\\utils\\validation.py:395: DeprecationWarning: Passing 1d arrays as data is deprecated in 0.17 and will raise ValueError in 0.19. Reshape your data either using X.reshape(-1, 1) if your data has a single feature or X.reshape(1, -1) if it contains a single sample.\n",
      "  DeprecationWarning)\n"
     ]
    }
   ],
   "source": [
    "#predict\n",
    "\n",
    "cols = res_features.columns.tolist()[:last]\n",
    "start_time = time.time()\n",
    "answer = model.predict(res_features[cols].ix[user_id].tolist())\n",
    "print 'predict finished in ' + str(time.time() - start_time)\n",
    "print score"
   ]
  },
  {
   "cell_type": "code",
   "execution_count": null,
   "metadata": {
    "collapsed": false
   },
   "outputs": [],
   "source": []
  },
  {
   "cell_type": "code",
   "execution_count": 58,
   "metadata": {
    "collapsed": false
   },
   "outputs": [
    {
     "name": "stdout",
     "output_type": "stream",
     "text": [
      "__getProblemResultFeatures finished in 6.3029999733\n",
      "__getUserDataFeatures finished in 0.763999938965\n",
      "__lastPassedTest finished in 0.00499987602234\n",
      "_final preparations finished in 0.0540001392365\n",
      "cross_val_predict finished in 0.0899999141693\n",
      "score is 0.992078041116\n",
      "fit finished in 0.0230000019073\n",
      "predict finished in 0.00600004196167\n"
     ]
    },
    {
     "name": "stderr",
     "output_type": "stream",
     "text": [
      "C:\\Users\\mberezhnyak\\AppData\\Local\\Continuum\\Anaconda2\\lib\\site-packages\\sklearn\\utils\\validation.py:395: DeprecationWarning: Passing 1d arrays as data is deprecated in 0.17 and will raise ValueError in 0.19. Reshape your data either using X.reshape(-1, 1) if your data has a single feature or X.reshape(1, -1) if it contains a single sample.\n",
      "  DeprecationWarning)\n"
     ]
    }
   ],
   "source": [
    "#fit\n",
    "##__getProblemResultFeatures\n",
    "start_time = time.time()\n",
    "modules = sm[sm.course_id == course_id].module_id.unique().tolist()\n",
    "result = []\n",
    "for module in modules:\n",
    "    first = sm[sm.module_id == module].created.min()\n",
    "    result.append({'name':module,'date':first})\n",
    "labels = map(lambda x: x['name'],sorted(result,key=lambda x: x['date']))\n",
    "rebased = sm.pivot(index='user_id',columns='module_id',values='grade')\n",
    "rebased = rebased[labels].fillna(0)\n",
    "res_features =  rebased\n",
    "print '__getProblemResultFeatures finished in ' + str(time.time() - start_time)\n",
    "##\n",
    "##__getUserDataFeatures\n",
    "start_time = time.time()\n",
    "u = pd.DataFrame(users[['gender','year_of_birth','level_of_education']],index=users.user_id)\n",
    "c = cert.set_index(cert.user_id)[['grade','status']]\n",
    "c['status'] = c.apply(lambda x: 1 if x.status == 'downloadable' else 0,1)\n",
    "u_features = c.join(u)\n",
    "print '__getUserDataFeatures finished in ' + str(time.time() - start_time)\n",
    "##\n",
    "##__lastPassedTest\n",
    "start_time = time.time()\n",
    "features = res_features.ix[user_id].tolist()\n",
    "index = len(features)\n",
    "for i in reversed(features):\n",
    "    if i != 0:\n",
    "        break\n",
    "    index -= 1\n",
    "if index == 0:\n",
    "    index = len(res_features.columns)\n",
    "last = index\n",
    "print '__lastPassedTest finished in ' + str(time.time() - start_time)\n",
    "#############\n",
    "start_time = time.time()\n",
    "cols = res_features.columns[:last].tolist()\n",
    "dataset = u_features.join(res_features)\n",
    "data = dataset[cols].fillna(0)\n",
    "Y = dataset.status\n",
    "print '_final preparations finished in ' + str(time.time() - start_time)\n",
    "##############\n",
    "\n",
    "input = dataset.fillna(0)\n",
    "output = dataset.status\n",
    "\n",
    "#prediction test\n",
    "model = GaussianNB()\n",
    "start_time = time.time()\n",
    "predicted = cross_val_predict(model, data, Y)\n",
    "print 'cross_val_predict finished in ' + str(time.time() - start_time)\n",
    "\n",
    "score = float(np.sum(predicted == Y))/len(data)\n",
    "start_time = time.time()\n",
    "model.fit(data,Y)\n",
    "print 'score is {0}'.format(score)\n",
    "print 'fit finished in ' + str(time.time() - start_time)\n",
    "\n",
    "cols = res_features.columns.tolist()[:last]\n",
    "start_time = time.time()\n",
    "answer = model.predict(res_features[cols].ix[user_id].tolist())\n",
    "print 'predict finished in ' + str(time.time() - start_time)"
   ]
  },
  {
   "cell_type": "code",
   "execution_count": 72,
   "metadata": {
    "collapsed": false
   },
   "outputs": [
    {
     "name": "stdout",
     "output_type": "stream",
     "text": [
      "status\n",
      "i4x://Prometheus/103/problem/e09fe3fb88334075b272a202f08694f8\n"
     ]
    }
   ],
   "source": [
    "ex_cols = list(cols)\n",
    "ex_cols.append('status')\n",
    "print ex_cols[-1]\n",
    "print ex_cols[-2]"
   ]
  },
  {
   "cell_type": "code",
   "execution_count": 73,
   "metadata": {
    "collapsed": false
   },
   "outputs": [],
   "source": [
    "dataset_x = dataset.fillna(0)[ex_cols]\n",
    "\n",
    "baseFrame = pd.DataFrame(dataset_x.values.astype(float), columns=dataset_x.columns, index=map(lambda x: str(x) + '_x0' ,dataset_x.index.tolist()))\n",
    "#for i in range(1,5):\n",
    "#    currentFrame = pd.DataFrame(dataset_x.values.astype(float), columns=dataset_x.columns, index=map(lambda x: str(x) + '_x' + str(i) ,dataset_x.index.tolist()))\n",
    "#    baseFrame = pd.concat([baseFrame, currentFrame])"
   ]
  },
  {
   "cell_type": "code",
   "execution_count": 74,
   "metadata": {
    "collapsed": false
   },
   "outputs": [
    {
     "name": "stdout",
     "output_type": "stream",
     "text": [
      "1076\n",
      "1077\n",
      "15274\n"
     ]
    }
   ],
   "source": [
    "print len(cols)\n",
    "print len(baseFrame.columns)\n",
    "print len(baseFrame)"
   ]
  },
  {
   "cell_type": "code",
   "execution_count": 19,
   "metadata": {
    "collapsed": false
   },
   "outputs": [
    {
     "name": "stdout",
     "output_type": "stream",
     "text": [
      "cross_val_predict finished in 11.6229999065\n",
      "fit finished in 3.16700005531\n",
      "predict finished in 0.612999916077\n"
     ]
    }
   ],
   "source": [
    "input = baseFrame[cols]\n",
    "output = baseFrame.status\n",
    "\n",
    "#prediction test\n",
    "model = GaussianNB()\n",
    "start_time = time.time()\n",
    "predicted = cross_val_predict(model, input, output)\n",
    "print 'cross_val_predict finished in ' + str(time.time() - start_time)\n",
    "\n",
    "score = float(np.sum(predicted == output))/len(input)\n",
    "start_time = time.time()\n",
    "model.fit(input,output)\n",
    "print 'fit finished in ' + str(time.time() - start_time)\n",
    "\n",
    "cols = res_features.columns.tolist()[:last]\n",
    "start_time = time.time()\n",
    "answer = model.predict(res_features[cols].ix[user_id].tolist())\n",
    "print 'predict finished in ' + str(time.time() - start_time)"
   ]
  },
  {
   "cell_type": "code",
   "execution_count": 21,
   "metadata": {
    "collapsed": false
   },
   "outputs": [],
   "source": [
    "dataset_x.to_csv('data\\dummy\\dataset_x.csv')"
   ]
  },
  {
   "cell_type": "code",
   "execution_count": 25,
   "metadata": {
    "collapsed": false
   },
   "outputs": [
    {
     "data": {
      "text/html": [
       "<div>\n",
       "<table border=\"1\" class=\"dataframe\">\n",
       "  <thead>\n",
       "    <tr style=\"text-align: right;\">\n",
       "      <th></th>\n",
       "      <th>one</th>\n",
       "      <th>two</th>\n",
       "      <th>three</th>\n",
       "    </tr>\n",
       "  </thead>\n",
       "  <tbody>\n",
       "    <tr>\n",
       "      <th>0</th>\n",
       "      <td>1</td>\n",
       "      <td>1</td>\n",
       "      <td>1</td>\n",
       "    </tr>\n",
       "    <tr>\n",
       "      <th>1</th>\n",
       "      <td>1</td>\n",
       "      <td>1</td>\n",
       "      <td>1</td>\n",
       "    </tr>\n",
       "  </tbody>\n",
       "</table>\n",
       "</div>"
      ],
      "text/plain": [
       "   one  two  three\n",
       "0    1    1      1\n",
       "1    1    1      1"
      ]
     },
     "execution_count": 25,
     "metadata": {},
     "output_type": "execute_result"
    }
   ],
   "source": [
    "a = pd.DataFrame([[1,1,1],[1,1,1]], columns=['one','two','three'])\n",
    "a"
   ]
  },
  {
   "cell_type": "code",
   "execution_count": 26,
   "metadata": {
    "collapsed": false
   },
   "outputs": [],
   "source": [
    "#a.to_csv('a.csv',index=False)\n",
    "#b = pd.DataFrame([[2,2,2],[2,2,2]], columns=['one','two','three'])\n",
    "#with open('a.csv', 'a') as f:\n",
    "#    b.to_csv(f, header=False,index=False)"
   ]
  },
  {
   "cell_type": "code",
   "execution_count": null,
   "metadata": {
    "collapsed": false
   },
   "outputs": [],
   "source": []
  },
  {
   "cell_type": "code",
   "execution_count": 108,
   "metadata": {
    "collapsed": false
   },
   "outputs": [],
   "source": [
    "related_columns_with_status = list(related_columns)\n",
    "related_columns_with_status.append('status')\n",
    "related_columns_with_status\n",
    "dataset_reduced = dataset_x[related_columns_with_status]"
   ]
  },
  {
   "cell_type": "code",
   "execution_count": 107,
   "metadata": {
    "collapsed": true
   },
   "outputs": [],
   "source": [
    "#Generate dummy data for single course with number of users 15000-1200000\n",
    "for i in range(0,28):\n",
    "    name = 'data\\dummy\\ds_x{0}.csv'.format(i*5)\n",
    "    dataset_reduced.to_csv(name, index=False)\n",
    "    for j in range(1, i*5):\n",
    "        with open(name, 'a') as f:\n",
    "            dataset_reduced.to_csv(f, header=False,index=False)"
   ]
  },
  {
   "cell_type": "code",
   "execution_count": 109,
   "metadata": {
    "collapsed": true
   },
   "outputs": [],
   "source": [
    "#Generate dummy data for single course with x30 data step\n",
    "for i in range(0,28):\n",
    "    name = 'data\\dummy_x30\\ds_x{0}.csv'.format(i*30)\n",
    "    dataset_reduced.to_csv(name, index=False)\n",
    "    for j in range(1, i*30):\n",
    "        with open(name, 'a') as f:\n",
    "            dataset_reduced.to_csv(f, header=False,index=False)"
   ]
  },
  {
   "cell_type": "code",
   "execution_count": 103,
   "metadata": {
    "collapsed": false
   },
   "outputs": [],
   "source": [
    "#Generate dummy data for 10 courses with number of users 15000-1200000\n",
    "c = list(dataset_x.columns[0:80].tolist())\n",
    "c.append('status')\n",
    "dataset_reduced = dataset_x[c]\n",
    "for i in range(0,17):\n",
    "    name = 'data\\dummy2\\ds_x{0}.csv'.format(i*5)\n",
    "    dataset_reduced.to_csv(name, index=False)\n",
    "    for j in range(1, i*5):\n",
    "        with open(name, 'a') as f:\n",
    "            dataset_reduced.to_csv(f, header=False,index=False)"
   ]
  },
  {
   "cell_type": "code",
   "execution_count": 113,
   "metadata": {
    "collapsed": false
   },
   "outputs": [
    {
     "name": "stdout",
     "output_type": "stream",
     "text": [
      "1 loops, best of 3: 14.3 s per loop\n"
     ]
    }
   ],
   "source": [
    "X, y = dataset_reduced[related_columns], dataset_reduced.status\n",
    "from sklearn.svm import SVC\n",
    "from sklearn.cross_validation import cross_val_score"
   ]
  },
  {
   "cell_type": "code",
   "execution_count": 119,
   "metadata": {
    "collapsed": false
   },
   "outputs": [
    {
     "name": "stdout",
     "output_type": "stream",
     "text": [
      "1 loops, best of 3: 14.7 s per loop\n"
     ]
    }
   ],
   "source": [
    "%timeit single_core_learning = cross_val_score(SVC(), X, y, cv=20, n_jobs=1)"
   ]
  },
  {
   "cell_type": "code",
   "execution_count": 120,
   "metadata": {
    "collapsed": false
   },
   "outputs": [
    {
     "name": "stdout",
     "output_type": "stream",
     "text": [
      "1 loops, best of 3: 9.49 s per loop\n"
     ]
    }
   ],
   "source": [
    "%timeit single_core_learning = cross_val_score(SVC(), X, y, cv=20, n_jobs=2)"
   ]
  },
  {
   "cell_type": "code",
   "execution_count": 121,
   "metadata": {
    "collapsed": false
   },
   "outputs": [
    {
     "name": "stdout",
     "output_type": "stream",
     "text": [
      "1 loops, best of 3: 7.5 s per loop\n"
     ]
    }
   ],
   "source": [
    "%timeit single_core_learning = cross_val_score(SVC(), X, y, cv=20, n_jobs=3)"
   ]
  },
  {
   "cell_type": "code",
   "execution_count": 122,
   "metadata": {
    "collapsed": false
   },
   "outputs": [
    {
     "name": "stdout",
     "output_type": "stream",
     "text": [
      "1 loops, best of 3: 8.36 s per loop\n"
     ]
    }
   ],
   "source": [
    "%timeit single_core_learning = cross_val_score(SVC(), X, y, cv=20, n_jobs=4)"
   ]
  },
  {
   "cell_type": "code",
   "execution_count": 123,
   "metadata": {
    "collapsed": false
   },
   "outputs": [
    {
     "name": "stdout",
     "output_type": "stream",
     "text": [
      "1 loops, best of 3: 8.55 s per loop\n"
     ]
    }
   ],
   "source": [
    "%timeit single_core_learning = cross_val_score(SVC(), X, y, cv=20, n_jobs=-1)"
   ]
  },
  {
   "cell_type": "code",
   "execution_count": 133,
   "metadata": {
    "collapsed": false
   },
   "outputs": [
    {
     "data": {
      "text/plain": [
       "array([ 0.99869281,  0.9986911 ,  0.9960733 ,  0.9960733 ,  1.        ,\n",
       "        0.9973822 ,  1.        ,  1.        ,  0.9960733 ,  0.9973822 ,\n",
       "        0.9973822 ,  0.9960733 ,  0.9947644 ,  1.        ,  1.        ,\n",
       "        0.99475754,  0.99737877,  0.99606815,  0.9921363 ,  0.99606815])"
      ]
     },
     "execution_count": 133,
     "metadata": {},
     "output_type": "execute_result"
    }
   ],
   "source": [
    "a = cross_val_score(linear_model.LogisticRegression(), X, y, cv=20, n_jobs=-1)\n",
    "a"
   ]
  },
  {
   "cell_type": "code",
   "execution_count": 135,
   "metadata": {
    "collapsed": false
   },
   "outputs": [
    {
     "data": {
      "text/plain": [
       "[<matplotlib.lines.Line2D at 0x59173fd0>]"
      ]
     },
     "execution_count": 135,
     "metadata": {},
     "output_type": "execute_result"
    },
    {
     "data": {
      "image/png": "[encoded data removed]",
      "text/plain": [
       "<matplotlib.figure.Figure at 0x66a95a20>"
      ]
     },
     "metadata": {},
     "output_type": "display_data"
    }
   ],
   "source": [
    "import matplotlib.pyplot as plt\n",
    "%matplotlib inline\n",
    "res = [14.7,9.49,7.5,8.36,8.55]\n",
    "res = map(lambda x: 14.7/x, res)\n",
    "plt.plot([1,2,3,4,5],res)"
   ]
  },
  {
   "cell_type": "code",
   "execution_count": 183,
   "metadata": {
    "collapsed": false
   },
   "outputs": [
    {
     "data": {
      "text/plain": [
       "[1.0, 1.5489989462592202, 1.96, 1.7583732057416268, 1.7192982456140349]"
      ]
     },
     "execution_count": 183,
     "metadata": {},
     "output_type": "execute_result"
    }
   ],
   "source": [
    "res"
   ]
  },
  {
   "cell_type": "markdown",
   "metadata": {
    "collapsed": false
   },
   "source": [
    "# Checking influence of balancing"
   ]
  },
  {
   "cell_type": "code",
   "execution_count": 136,
   "metadata": {
    "collapsed": false
   },
   "outputs": [],
   "source": [
    "rus = RandomUnderSampler(return_indices=True)"
   ]
  },
  {
   "cell_type": "code",
   "execution_count": 139,
   "metadata": {
    "collapsed": false
   },
   "outputs": [
    {
     "data": {
      "text/plain": [
       "i4x://KNU/101/problem/e39129c796754099b0974db74c5b5b01    3853\n",
       "i4x://KNU/101/problem/43dbbb5417294a0faa1c43f02473e7ec    2311\n",
       "i4x://KNU/101/problem/84d4314a7fd041f59e9219de9b4e7cd0    1905\n",
       "i4x://KNU/101/problem/7ac56261c85548fd97ae8a56e5a355f6    1745\n",
       "i4x://KNU/101/problem/b9daef58e5884fa8b0c36c5c9bd233ce    1529\n",
       "i4x://KNU/101/problem/7fb5b2515e09416f9977f465f909a746    1410\n",
       "i4x://KNU/101/problem/e663ed76dc9445dead9354a158daf163    1397\n",
       "i4x://KNU/101/problem/f1fb3e3d588a4380b7226b87029c284c       0\n",
       "status                                                    1313\n",
       "dtype: int64"
      ]
     },
     "execution_count": 139,
     "metadata": {},
     "output_type": "execute_result"
    }
   ],
   "source": [
    "dataset_reduced.astype(bool).sum(axis=0)"
   ]
  },
  {
   "cell_type": "code",
   "execution_count": 152,
   "metadata": {
    "collapsed": false
   },
   "outputs": [
    {
     "name": "stdout",
     "output_type": "stream",
     "text": [
      "1 test. Accuracy: 0.89846 (+/- 0.03790)\n",
      "2 test. Accuracy: 0.94088 (+/- 0.03059)\n",
      "3 test. Accuracy: 0.96334 (+/- 0.01794)\n",
      "4 test. Accuracy: 0.96648 (+/- 0.01871)\n",
      "5 test. Accuracy: 0.98763 (+/- 0.00606)\n"
     ]
    }
   ],
   "source": [
    "X = dataset_reduced[['i4x://KNU/101/problem/e39129c796754099b0974db74c5b5b01']]\n",
    "y = dataset_reduced.status\n",
    "scores = cross_val_score(GaussianNB(), X, y, cv=10)\n",
    "print(\"1 test. Accuracy: %0.5f (+/- %0.5f)\" % (scores.mean(), scores.std() * 2))\n",
    "\n",
    "X = dataset_reduced[['i4x://KNU/101/problem/e39129c796754099b0974db74c5b5b01','i4x://KNU/101/problem/43dbbb5417294a0faa1c43f02473e7ec']]\n",
    "y = dataset_reduced.status\n",
    "scores = cross_val_score(GaussianNB(), X, y, cv=10)\n",
    "print(\"2 test. Accuracy: %0.5f (+/- %0.5f)\" % (scores.mean(), scores.std() * 2))\n",
    "\n",
    "X = dataset_reduced[['i4x://KNU/101/problem/e39129c796754099b0974db74c5b5b01','i4x://KNU/101/problem/43dbbb5417294a0faa1c43f02473e7ec',\n",
    "                     'i4x://KNU/101/problem/84d4314a7fd041f59e9219de9b4e7cd0']]\n",
    "y = dataset_reduced.status\n",
    "scores = cross_val_score(GaussianNB(), X, y, cv=10)\n",
    "print(\"3 test. Accuracy: %0.5f (+/- %0.5f)\" % (scores.mean(), scores.std() * 2))\n",
    "\n",
    "X = dataset_reduced[['i4x://KNU/101/problem/e39129c796754099b0974db74c5b5b01','i4x://KNU/101/problem/43dbbb5417294a0faa1c43f02473e7ec',\n",
    "                     'i4x://KNU/101/problem/84d4314a7fd041f59e9219de9b4e7cd0','i4x://KNU/101/problem/7ac56261c85548fd97ae8a56e5a355f6']]\n",
    "y = dataset_reduced.status\n",
    "scores = cross_val_score(GaussianNB(), X, y, cv=10)\n",
    "print(\"4 test. Accuracy: %0.5f (+/- %0.5f)\" % (scores.mean(), scores.std() * 2))\n",
    "\n",
    "X = dataset_reduced[['i4x://KNU/101/problem/e39129c796754099b0974db74c5b5b01','i4x://KNU/101/problem/43dbbb5417294a0faa1c43f02473e7ec',\n",
    "                     'i4x://KNU/101/problem/84d4314a7fd041f59e9219de9b4e7cd0','i4x://KNU/101/problem/7ac56261c85548fd97ae8a56e5a355f6',\n",
    "                    'i4x://KNU/101/problem/b9daef58e5884fa8b0c36c5c9bd233ce']]\n",
    "y = dataset_reduced.status\n",
    "scores = cross_val_score(GaussianNB(), X, y, cv=10)\n",
    "print(\"5 test. Accuracy: %0.5f (+/- %0.5f)\" % (scores.mean(), scores.std() * 2))"
   ]
  },
  {
   "cell_type": "code",
   "execution_count": 143,
   "metadata": {
    "collapsed": false
   },
   "outputs": [
    {
     "name": "stdout",
     "output_type": "stream",
     "text": [
      "15274\n",
      "15274\n"
     ]
    }
   ],
   "source": [
    "print len(dataset_reduced['i4x://KNU/101/problem/e663ed76dc9445dead9354a158daf163'])\n",
    "print len(dataset_reduced.status)"
   ]
  },
  {
   "cell_type": "code",
   "execution_count": 254,
   "metadata": {
    "collapsed": false
   },
   "outputs": [
    {
     "ename": "NameError",
     "evalue": "name 'dataset_reduced' is not defined",
     "output_type": "error",
     "traceback": [
      "\u001b[1;31m---------------------------------------------------------------------------\u001b[0m",
      "\u001b[1;31mNameError\u001b[0m                                 Traceback (most recent call last)",
      "\u001b[1;32m<ipython-input-254-78ba90a96851>\u001b[0m in \u001b[0;36m<module>\u001b[1;34m()\u001b[0m\n\u001b[0;32m      2\u001b[0m \u001b[1;32mfrom\u001b[0m \u001b[0mimblearn\u001b[0m\u001b[1;33m.\u001b[0m\u001b[0munder_sampling\u001b[0m \u001b[1;32mimport\u001b[0m \u001b[0mRandomUnderSampler\u001b[0m\u001b[1;33m\u001b[0m\u001b[0m\n\u001b[0;32m      3\u001b[0m \u001b[1;33m\u001b[0m\u001b[0m\n\u001b[1;32m----> 4\u001b[1;33m \u001b[0mX\u001b[0m \u001b[1;33m=\u001b[0m \u001b[0mdataset_reduced\u001b[0m\u001b[1;33m[\u001b[0m\u001b[1;33m[\u001b[0m\u001b[1;34m'i4x://KNU/101/problem/e39129c796754099b0974db74c5b5b01'\u001b[0m\u001b[1;33m]\u001b[0m\u001b[1;33m]\u001b[0m\u001b[1;33m\u001b[0m\u001b[0m\n\u001b[0m\u001b[0;32m      5\u001b[0m \u001b[0my\u001b[0m \u001b[1;33m=\u001b[0m \u001b[0mdataset_reduced\u001b[0m\u001b[1;33m.\u001b[0m\u001b[0mstatus\u001b[0m\u001b[1;33m\u001b[0m\u001b[0m\n\u001b[0;32m      6\u001b[0m \u001b[0mrus\u001b[0m \u001b[1;33m=\u001b[0m \u001b[0mRandomUnderSampler\u001b[0m\u001b[1;33m(\u001b[0m\u001b[1;33m)\u001b[0m\u001b[1;33m\u001b[0m\u001b[0m\n",
      "\u001b[1;31mNameError\u001b[0m: name 'dataset_reduced' is not defined"
     ]
    }
   ],
   "source": [
    "#undersampling\n",
    "from imblearn.under_sampling import RandomUnderSampler\n",
    "\n",
    "X = dataset_reduced[['i4x://KNU/101/problem/e39129c796754099b0974db74c5b5b01']]\n",
    "y = dataset_reduced.status\n",
    "rus = RandomUnderSampler()\n",
    "X, y = rus.fit_sample(X, y)\n",
    "scores = cross_val_score(GaussianNB(), X, y, cv=10)\n",
    "print(\"1 test. Accuracy: %0.5f (+/- %0.5f)\" % (scores.mean(), scores.std() * 2))\n",
    "\n",
    "X = dataset_reduced[['i4x://KNU/101/problem/e39129c796754099b0974db74c5b5b01','i4x://KNU/101/problem/43dbbb5417294a0faa1c43f02473e7ec']]\n",
    "y = dataset_reduced.status\n",
    "rus = RandomUnderSampler()\n",
    "X, y = rus.fit_sample(X, y)\n",
    "scores = cross_val_score(GaussianNB(), X, y, cv=10)\n",
    "print(\"2 test. Accuracy: %0.5f (+/- %0.5f)\" % (scores.mean(), scores.std() * 2))\n",
    "\n",
    "X = dataset_reduced[['i4x://KNU/101/problem/e39129c796754099b0974db74c5b5b01','i4x://KNU/101/problem/43dbbb5417294a0faa1c43f02473e7ec',\n",
    "                     'i4x://KNU/101/problem/84d4314a7fd041f59e9219de9b4e7cd0']]\n",
    "y = dataset_reduced.status\n",
    "rus = RandomUnderSampler()\n",
    "X, y = rus.fit_sample(X, y)\n",
    "scores = cross_val_score(GaussianNB(), X, y, cv=10)\n",
    "print(\"3 test. Accuracy: %0.5f (+/- %0.5f)\" % (scores.mean(), scores.std() * 2))\n",
    "\n",
    "X = dataset_reduced[['i4x://KNU/101/problem/e39129c796754099b0974db74c5b5b01','i4x://KNU/101/problem/43dbbb5417294a0faa1c43f02473e7ec',\n",
    "                     'i4x://KNU/101/problem/84d4314a7fd041f59e9219de9b4e7cd0','i4x://KNU/101/problem/7ac56261c85548fd97ae8a56e5a355f6']]\n",
    "y = dataset_reduced.status\n",
    "rus = RandomUnderSampler()\n",
    "X, y = rus.fit_sample(X, y)\n",
    "scores = cross_val_score(GaussianNB(), X, y, cv=10)\n",
    "print(\"4 test. Accuracy: %0.5f (+/- %0.5f)\" % (scores.mean(), scores.std() * 2))\n",
    "\n",
    "X = dataset_reduced[['i4x://KNU/101/problem/e39129c796754099b0974db74c5b5b01','i4x://KNU/101/problem/43dbbb5417294a0faa1c43f02473e7ec',\n",
    "                     'i4x://KNU/101/problem/84d4314a7fd041f59e9219de9b4e7cd0','i4x://KNU/101/problem/7ac56261c85548fd97ae8a56e5a355f6',\n",
    "                    'i4x://KNU/101/problem/b9daef58e5884fa8b0c36c5c9bd233ce']]\n",
    "y = dataset_reduced.status\n",
    "rus = RandomUnderSampler()\n",
    "X, y = rus.fit_sample(X, y)\n",
    "scores = cross_val_score(GaussianNB(), X, y, cv=10)\n",
    "print(\"5 test. Accuracy: %0.5f (+/- %0.5f)\" % (scores.mean(), scores.std() * 2))"
   ]
  },
  {
   "cell_type": "code",
   "execution_count": 159,
   "metadata": {
    "collapsed": false
   },
   "outputs": [
    {
     "name": "stdout",
     "output_type": "stream",
     "text": [
      "1 test. Accuracy: 0.90606 (+/- 0.02921)\n",
      "2 test. Accuracy: 0.95061 (+/- 0.01901)\n",
      "3 test. Accuracy: 0.97074 (+/- 0.01185)\n",
      "4 test. Accuracy: 0.97400 (+/- 0.00999)\n",
      "5 test. Accuracy: 0.98979 (+/- 0.00405)\n"
     ]
    }
   ],
   "source": [
    "#oversampling\n",
    "from imblearn.over_sampling import RandomOverSampler\n",
    "\n",
    "X = dataset_reduced[['i4x://KNU/101/problem/e39129c796754099b0974db74c5b5b01']]\n",
    "y = dataset_reduced.status\n",
    "rus = RandomOverSampler()\n",
    "X, y = rus.fit_sample(X, y)\n",
    "scores = cross_val_score(GaussianNB(), X, y, cv=10)\n",
    "print(\"1 test. Accuracy: %0.5f (+/- %0.5f)\" % (scores.mean(), scores.std() * 2))\n",
    "\n",
    "X = dataset_reduced[['i4x://KNU/101/problem/e39129c796754099b0974db74c5b5b01','i4x://KNU/101/problem/43dbbb5417294a0faa1c43f02473e7ec']]\n",
    "y = dataset_reduced.status\n",
    "rus = RandomOverSampler()\n",
    "X, y = rus.fit_sample(X, y)\n",
    "scores = cross_val_score(GaussianNB(), X, y, cv=10)\n",
    "print(\"2 test. Accuracy: %0.5f (+/- %0.5f)\" % (scores.mean(), scores.std() * 2))\n",
    "\n",
    "X = dataset_reduced[['i4x://KNU/101/problem/e39129c796754099b0974db74c5b5b01','i4x://KNU/101/problem/43dbbb5417294a0faa1c43f02473e7ec',\n",
    "                     'i4x://KNU/101/problem/84d4314a7fd041f59e9219de9b4e7cd0']]\n",
    "y = dataset_reduced.status\n",
    "rus = RandomOverSampler()\n",
    "X, y = rus.fit_sample(X, y)\n",
    "scores = cross_val_score(GaussianNB(), X, y, cv=10)\n",
    "print(\"3 test. Accuracy: %0.5f (+/- %0.5f)\" % (scores.mean(), scores.std() * 2))\n",
    "\n",
    "X = dataset_reduced[['i4x://KNU/101/problem/e39129c796754099b0974db74c5b5b01','i4x://KNU/101/problem/43dbbb5417294a0faa1c43f02473e7ec',\n",
    "                     'i4x://KNU/101/problem/84d4314a7fd041f59e9219de9b4e7cd0','i4x://KNU/101/problem/7ac56261c85548fd97ae8a56e5a355f6']]\n",
    "y = dataset_reduced.status\n",
    "rus = RandomOverSampler()\n",
    "X, y = rus.fit_sample(X, y)\n",
    "scores = cross_val_score(GaussianNB(), X, y, cv=10)\n",
    "print(\"4 test. Accuracy: %0.5f (+/- %0.5f)\" % (scores.mean(), scores.std() * 2))\n",
    "\n",
    "X = dataset_reduced[['i4x://KNU/101/problem/e39129c796754099b0974db74c5b5b01','i4x://KNU/101/problem/43dbbb5417294a0faa1c43f02473e7ec',\n",
    "                     'i4x://KNU/101/problem/84d4314a7fd041f59e9219de9b4e7cd0','i4x://KNU/101/problem/7ac56261c85548fd97ae8a56e5a355f6',\n",
    "                    'i4x://KNU/101/problem/b9daef58e5884fa8b0c36c5c9bd233ce']]\n",
    "y = dataset_reduced.status\n",
    "rus = RandomOverSampler()\n",
    "X, y = rus.fit_sample(X, y)\n",
    "scores = cross_val_score(GaussianNB(), X, y, cv=10)\n",
    "print(\"5 test. Accuracy: %0.5f (+/- %0.5f)\" % (scores.mean(), scores.std() * 2))"
   ]
  },
  {
   "cell_type": "code",
   "execution_count": 255,
   "metadata": {
    "collapsed": false
   },
   "outputs": [
    {
     "ename": "NameError",
     "evalue": "name 'RandomOverSampler' is not defined",
     "output_type": "error",
     "traceback": [
      "\u001b[1;31m---------------------------------------------------------------------------\u001b[0m",
      "\u001b[1;31mNameError\u001b[0m                                 Traceback (most recent call last)",
      "\u001b[1;32m<ipython-input-255-40b1eba6f03b>\u001b[0m in \u001b[0;36m<module>\u001b[1;34m()\u001b[0m\n\u001b[0;32m     13\u001b[0m \u001b[1;32mfrom\u001b[0m \u001b[0mimblearn\u001b[0m\u001b[1;33m.\u001b[0m\u001b[0munder_sampling\u001b[0m \u001b[1;32mimport\u001b[0m \u001b[0mEditedNearestNeighbours\u001b[0m\u001b[1;33m\u001b[0m\u001b[0m\n\u001b[0;32m     14\u001b[0m \u001b[1;33m\u001b[0m\u001b[0m\n\u001b[1;32m---> 15\u001b[1;33m samplers = [RandomUnderSampler(), RandomOverSampler(), SMOTE(kind='regular'), SMOTE(kind='borderline1'), \n\u001b[0m\u001b[0;32m     16\u001b[0m             \u001b[0mSMOTE\u001b[0m\u001b[1;33m(\u001b[0m\u001b[0mkind\u001b[0m\u001b[1;33m=\u001b[0m\u001b[1;34m'borderline2'\u001b[0m\u001b[1;33m)\u001b[0m\u001b[1;33m,\u001b[0m \u001b[0mSMOTE\u001b[0m\u001b[1;33m(\u001b[0m\u001b[0mkind\u001b[0m\u001b[1;33m=\u001b[0m\u001b[1;34m'svm'\u001b[0m\u001b[1;33m)\u001b[0m\u001b[1;33m,\u001b[0m \u001b[0mADASYN\u001b[0m\u001b[1;33m(\u001b[0m\u001b[1;33m)\u001b[0m\u001b[1;33m,\u001b[0m\u001b[0mTomekLinks\u001b[0m\u001b[1;33m(\u001b[0m\u001b[1;33m)\u001b[0m\u001b[1;33m,\u001b[0m\u001b[0mOneSidedSelection\u001b[0m\u001b[1;33m(\u001b[0m\u001b[1;33m)\u001b[0m\u001b[1;33m,\u001b[0m\u001b[0mNeighbourhoodCleaningRule\u001b[0m\u001b[1;33m(\u001b[0m\u001b[1;33m)\u001b[0m\u001b[1;33m,\u001b[0m\u001b[1;33m\u001b[0m\u001b[0m\n\u001b[0;32m     17\u001b[0m            \u001b[0mCondensedNearestNeighbour\u001b[0m\u001b[1;33m(\u001b[0m\u001b[1;33m)\u001b[0m\u001b[1;33m,\u001b[0m\u001b[0mClusterCentroids\u001b[0m\u001b[1;33m(\u001b[0m\u001b[1;33m)\u001b[0m\u001b[1;33m,\u001b[0m\u001b[0mNearMiss\u001b[0m\u001b[1;33m(\u001b[0m\u001b[0mversion\u001b[0m\u001b[1;33m=\u001b[0m\u001b[1;36m1\u001b[0m\u001b[1;33m)\u001b[0m\u001b[1;33m,\u001b[0m\u001b[0mNearMiss\u001b[0m\u001b[1;33m(\u001b[0m\u001b[0mversion\u001b[0m\u001b[1;33m=\u001b[0m\u001b[1;36m2\u001b[0m\u001b[1;33m)\u001b[0m\u001b[1;33m,\u001b[0m\u001b[0mNearMiss\u001b[0m\u001b[1;33m(\u001b[0m\u001b[0mversion\u001b[0m\u001b[1;33m=\u001b[0m\u001b[1;36m3\u001b[0m\u001b[1;33m)\u001b[0m\u001b[1;33m,\u001b[0m\u001b[1;33m\u001b[0m\u001b[0m\n",
      "\u001b[1;31mNameError\u001b[0m: name 'RandomOverSampler' is not defined"
     ]
    }
   ],
   "source": [
    "#SMOTE\n",
    "from imblearn.over_sampling import SMOTE\n",
    "from imblearn.under_sampling import OneSidedSelection\n",
    "from imblearn.under_sampling import TomekLinks\n",
    "from imblearn.over_sampling import ADASYN\n",
    "from imblearn.under_sampling import NeighbourhoodCleaningRule\n",
    "from imblearn.under_sampling import CondensedNearestNeighbour\n",
    "from imblearn.under_sampling import ClusterCentroids\n",
    "from imblearn.under_sampling import InstanceHardnessThreshold\n",
    "from imblearn.under_sampling import NearMiss\n",
    "from imblearn.under_sampling import AllKNN\n",
    "from imblearn.under_sampling import EditedNearestNeighbours\n",
    "from imblearn.under_sampling import EditedNearestNeighbours\n",
    "\n",
    "samplers = [RandomUnderSampler(), RandomOverSampler(), SMOTE(kind='regular'), SMOTE(kind='borderline1'), \n",
    "            SMOTE(kind='borderline2'), SMOTE(kind='svm'), ADASYN(),TomekLinks(),OneSidedSelection(),NeighbourhoodCleaningRule(),\n",
    "           CondensedNearestNeighbour(),ClusterCentroids(),NearMiss(version=1),NearMiss(version=2),NearMiss(version=3),\n",
    "           AllKNN(),EditedNearestNeighbours(),EditedNearestNeighbours()]\n",
    "\n",
    "def test_saplers(samplers):\n",
    "    for sampler in samplers:\n",
    "        print '==========Sampler {0} starts=========='.format(sampler)\n",
    "        X = dataset_reduced[['i4x://KNU/101/problem/e39129c796754099b0974db74c5b5b01']]\n",
    "        y = dataset_reduced.status\n",
    "        X, y = sampler.fit_sample(X, y)\n",
    "        scores = cross_val_score(GaussianNB(), X, y,cv=10)\n",
    "        print(\"1 test. Accuracy: %0.5f (+/- %0.5f)\" % (scores.mean(), scores.std() * 2))\n",
    "\n",
    "        X = dataset_reduced[['i4x://KNU/101/problem/e39129c796754099b0974db74c5b5b01','i4x://KNU/101/problem/43dbbb5417294a0faa1c43f02473e7ec']]\n",
    "        y = dataset_reduced.status\n",
    "        X, y = sampler.fit_sample(X, y)\n",
    "        scores = cross_val_score(GaussianNB(), X, y,cv=10)\n",
    "        print(\"2 test. Accuracy: %0.5f (+/- %0.5f)\" % (scores.mean(), scores.std() * 2))\n",
    "\n",
    "        X = dataset_reduced[['i4x://KNU/101/problem/e39129c796754099b0974db74c5b5b01','i4x://KNU/101/problem/43dbbb5417294a0faa1c43f02473e7ec',\n",
    "                             'i4x://KNU/101/problem/84d4314a7fd041f59e9219de9b4e7cd0']]\n",
    "        y = dataset_reduced.status\n",
    "        X, y = sampler.fit_sample(X, y)\n",
    "        scores = cross_val_score(GaussianNB(), X, y,cv=10)\n",
    "        print(\"3 test. Accuracy: %0.5f (+/- %0.5f)\" % (scores.mean(), scores.std() * 2))\n",
    "\n",
    "        X = dataset_reduced[['i4x://KNU/101/problem/e39129c796754099b0974db74c5b5b01','i4x://KNU/101/problem/43dbbb5417294a0faa1c43f02473e7ec',\n",
    "                             'i4x://KNU/101/problem/84d4314a7fd041f59e9219de9b4e7cd0','i4x://KNU/101/problem/7ac56261c85548fd97ae8a56e5a355f6']]\n",
    "        y = dataset_reduced.status\n",
    "        X, y = sampler.fit_sample(X, y)\n",
    "        scores = cross_val_score(GaussianNB(), X, y,cv=10)\n",
    "        print(\"4 test. Accuracy: %0.5f (+/- %0.5f)\" % (scores.mean(), scores.std() * 2))\n",
    "\n",
    "        X = dataset_reduced[['i4x://KNU/101/problem/e39129c796754099b0974db74c5b5b01','i4x://KNU/101/problem/43dbbb5417294a0faa1c43f02473e7ec',\n",
    "                             'i4x://KNU/101/problem/84d4314a7fd041f59e9219de9b4e7cd0','i4x://KNU/101/problem/7ac56261c85548fd97ae8a56e5a355f6',\n",
    "                            'i4x://KNU/101/problem/b9daef58e5884fa8b0c36c5c9bd233ce']]\n",
    "        y = dataset_reduced.status\n",
    "        X, y = sampler.fit_sample(X, y)\n",
    "        scores = cross_val_score(GaussianNB(), X, y,cv=10)\n",
    "        print(\"5 test. Accuracy: %0.5f (+/- %0.5f)\" % (scores.mean(), scores.std() * 2))\n",
    "\n",
    "        print '==========Sampler finished=========='"
   ]
  },
  {
   "cell_type": "code",
   "execution_count": 185,
   "metadata": {
    "collapsed": false
   },
   "outputs": [
    {
     "name": "stdout",
     "output_type": "stream",
     "text": [
      "==========Sampler <__main__.DummySampler instance at 0x000000004647D688> starts==========\n",
      "1 test. Accuracy: 0.89846 (+/- 0.03790)\n",
      "2 test. Accuracy: 0.94088 (+/- 0.03059)\n",
      "3 test. Accuracy: 0.96334 (+/- 0.01794)\n",
      "4 test. Accuracy: 0.96648 (+/- 0.01871)\n",
      "5 test. Accuracy: 0.98763 (+/- 0.00606)\n",
      "==========Sampler finished==========\n",
      "==========Sampler RandomUnderSampler(random_state=None, ratio='auto', replacement=True,\n",
      "          return_indices=False) starts==========\n",
      "1 test. Accuracy: 0.91011 (+/- 0.06098)\n",
      "2 test. Accuracy: 0.95239 (+/- 0.01970)\n",
      "3 test. Accuracy: 0.96611 (+/- 0.02630)\n",
      "4 test. Accuracy: 0.97069 (+/- 0.02636)\n",
      "5 test. Accuracy: 0.98896 (+/- 0.01098)\n",
      "==========Sampler finished==========\n",
      "==========Sampler RandomOverSampler(random_state=None, ratio='auto') starts==========\n",
      "1 test. Accuracy: 0.90459 (+/- 0.03407)\n",
      "2 test. Accuracy: 0.95183 (+/- 0.02053)\n",
      "3 test. Accuracy: 0.97070 (+/- 0.00902)\n",
      "4 test. Accuracy: 0.97368 (+/- 0.01008)\n",
      "5 test. Accuracy: 0.98969 (+/- 0.00373)\n",
      "==========Sampler finished==========\n",
      "==========Sampler TomekLinks(n_jobs=1, random_state=None, return_indices=False) starts==========\n",
      "1 test. Accuracy: 0.89846 (+/- 0.03790)\n",
      "2 test. Accuracy: 0.94088 (+/- 0.03059)\n",
      "3 test. Accuracy: 0.96357 (+/- 0.01766)\n",
      "4 test. Accuracy: 0.96716 (+/- 0.01925)\n",
      "5 test. Accuracy: 0.98807 (+/- 0.00754)\n",
      "==========Sampler finished==========\n",
      "==========Sampler NeighbourhoodCleaningRule(n_jobs=1, n_neighbors=3, random_state=None,\n",
      "             return_indices=False, size_ngh=None) starts==========\n",
      "1 test. Accuracy: 0.97645 (+/- 0.01131)\n",
      "2 test. Accuracy: 0.99101 (+/- 0.00688)\n",
      "3 test. Accuracy: 0.99803 (+/- 0.00223)\n",
      "4 test. Accuracy: 0.98664 (+/- 0.00808)\n",
      "5 test. Accuracy: 0.98986 (+/- 0.00920)\n",
      "==========Sampler finished==========\n",
      "==========Sampler SMOTE(k=None, k_neighbors=5, kind='regular', m=None, m_neighbors=10, n_jobs=1,\n",
      "   out_step=0.5, random_state=None, ratio='auto', svm_estimator=None) starts==========\n",
      "1 test. Accuracy: 0.90506 (+/- 0.02792)\n",
      "2 test. Accuracy: 0.95280 (+/- 0.01842)\n",
      "3 test. Accuracy: 0.96927 (+/- 0.00877)\n",
      "4 test. Accuracy: 0.97504 (+/- 0.01010)\n",
      "5 test. Accuracy: 0.99062 (+/- 0.00290)\n",
      "==========Sampler finished==========\n",
      "==========Sampler SMOTE(k=None, k_neighbors=5, kind='borderline1', m=None, m_neighbors=10,\n",
      "   n_jobs=1, out_step=0.5, random_state=None, ratio='auto',\n",
      "   svm_estimator=None) starts==========\n",
      "1 test. Accuracy: 0.90671 (+/- 0.02802)\n",
      "2 test. Accuracy: 0.94861 (+/- 0.01812)\n",
      "3 test. Accuracy: 0.96010 (+/- 0.01451)\n",
      "4 test. Accuracy: 0.97475 (+/- 0.00766)\n",
      "5 test. Accuracy: 0.97944 (+/- 0.01014)\n",
      "==========Sampler finished==========\n",
      "==========Sampler SMOTE(k=None, k_neighbors=5, kind='borderline2', m=None, m_neighbors=10,\n",
      "   n_jobs=1, out_step=0.5, random_state=None, ratio='auto',\n",
      "   svm_estimator=None) starts==========\n",
      "1 test. Accuracy: 0.88245 (+/- 0.05091)\n",
      "2 test. Accuracy: 0.93739 (+/- 0.02628)\n",
      "3 test. Accuracy: 0.94327 (+/- 0.03012)\n",
      "4 test. Accuracy: 0.95190 (+/- 0.03666)\n",
      "5 test. Accuracy: 0.95312 (+/- 0.04823)\n",
      "==========Sampler finished==========\n",
      "==========Sampler SMOTE(k=None, k_neighbors=5, kind='svm', m=None, m_neighbors=10, n_jobs=1,\n",
      "   out_step=0.5, random_state=None, ratio='auto', svm_estimator=None) starts==========\n",
      "1 test. Accuracy: 0.91623 (+/- 0.08859)\n",
      "2 test. Accuracy: 0.95176 (+/- 0.02975)\n",
      "3 test. Accuracy: 0.96573 (+/- 0.03667)\n",
      "4 test. Accuracy: 0.97565 (+/- 0.02166)\n",
      "5 test. Accuracy: 0.97962 (+/- 0.01005)\n",
      "==========Sampler finished==========\n",
      "==========Sampler NearMiss(n_jobs=1, n_neighbors=3, n_neighbors_ver3=3, random_state=None,\n",
      "     ratio='auto', return_indices=False, size_ngh=None, ver3_samp_ngh=None,\n",
      "     version=3) starts==========\n",
      "1 test. Accuracy: 0.96874 (+/- 0.03332)\n",
      "2 test. Accuracy: 0.88399 (+/- 0.10862)\n",
      "3 test. Accuracy: 0.80489 (+/- 0.19631)\n",
      "4 test. Accuracy: 0.79473 (+/- 0.20488)\n",
      "5 test. Accuracy: 0.84543 (+/- 0.15227)\n",
      "==========Sampler finished==========\n",
      "==========Sampler AllKNN(kind_sel='all', n_jobs=-1, n_neighbors=3, random_state=None,\n",
      "    return_indices=False, size_ngh=None) starts==========\n",
      "1 test. Accuracy: 0.95953 (+/- 0.02041)\n",
      "2 test. Accuracy: 0.99604 (+/- 0.00249)\n",
      "3 test. Accuracy: 0.99878 (+/- 0.00190)\n",
      "4 test. Accuracy: 0.98776 (+/- 0.00695)\n",
      "5 test. Accuracy: 0.99083 (+/- 0.00756)\n",
      "==========Sampler finished==========\n",
      "==========Sampler EditedNearestNeighbours(kind_sel='all', n_jobs=1, n_neighbors=3,\n",
      "            random_state=None, return_indices=False, size_ngh=None) starts==========\n",
      "1 test. Accuracy: 0.96258 (+/- 0.02211)\n",
      "2 test. Accuracy: 0.98813 (+/- 0.00689)\n",
      "3 test. Accuracy: 0.99573 (+/- 0.00343)\n",
      "4 test. Accuracy: 0.98730 (+/- 0.00664)\n",
      "5 test. Accuracy: 0.99006 (+/- 0.00905)\n",
      "==========Sampler finished==========\n",
      "==========Sampler EditedNearestNeighbours(kind_sel='all', n_jobs=1, n_neighbors=3,\n",
      "            random_state=None, return_indices=False, size_ngh=None) starts==========\n",
      "1 test. Accuracy: 0.96258 (+/- 0.02211)\n",
      "2 test. Accuracy: 0.98813 (+/- 0.00689)\n",
      "3 test. Accuracy: 0.99573 (+/- 0.00343)\n",
      "4 test. Accuracy: 0.98730 (+/- 0.00664)\n",
      "5 test. Accuracy: 0.99006 (+/- 0.00905)\n",
      "==========Sampler finished==========\n"
     ]
    }
   ],
   "source": [
    "class DummySampler():\n",
    "    def fit_sample(selct, X, y):\n",
    "        return X, y\n",
    "    \n",
    "samplers = [DummySampler(), RandomUnderSampler(), RandomOverSampler(), TomekLinks(),NeighbourhoodCleaningRule(),\n",
    "            SMOTE(kind='regular'), SMOTE(kind='borderline1'), \n",
    "            SMOTE(kind='borderline2'), SMOTE(kind='svm'),\n",
    "           NearMiss(version=3),AllKNN(),EditedNearestNeighbours(),EditedNearestNeighbours()]\n",
    "\n",
    "test_saplers(samplers)"
   ]
  },
  {
   "cell_type": "markdown",
   "metadata": {},
   "source": [
    "# Balancing timing"
   ]
  },
  {
   "cell_type": "code",
   "execution_count": null,
   "metadata": {
    "collapsed": true
   },
   "outputs": [],
   "source": [
    "samplers = [RandomUnderSampler(), RandomOverSampler(), TomekLinks(),NeighbourhoodCleaningRule(),\n",
    "            SMOTE(kind='regular'), SMOTE(kind='borderline1'), \n",
    "            SMOTE(kind='borderline2'), SMOTE(kind='svm'),\n",
    "           NearMiss(version=3)]\n",
    "\n",
    "for sampler in samplers:\n",
    "    features = pd."
   ]
  },
  {
   "cell_type": "markdown",
   "metadata": {
    "collapsed": false
   },
   "source": [
    "# Final tests"
   ]
  },
  {
   "cell_type": "code",
   "execution_count": 21,
   "metadata": {
    "collapsed": false
   },
   "outputs": [],
   "source": [
    "from time import time\n",
    "features = pd.read_csv('data\\\\dummy\\\\ds_x0.csv')"
   ]
  },
  {
   "cell_type": "code",
   "execution_count": 9,
   "metadata": {
    "collapsed": false
   },
   "outputs": [
    {
     "name": "stdout",
     "output_type": "stream",
     "text": [
      "sequential execution: 8.14300012589\n",
      "parallel execution: 0.602999925613\n"
     ]
    }
   ],
   "source": [
    "from multiprocessing import Process\n",
    "def long_job(iterations):\n",
    "    for i in range(0,iterations):\n",
    "        pass\n",
    "\n",
    "i = 100000000\n",
    "t = time()\n",
    "long_job(i)\n",
    "long_job(i)\n",
    "print 'sequential execution: {0}'.format(time()-t)\n",
    "\n",
    "t = time()\n",
    "p1 = Process(target=long_job, args=(i,))\n",
    "p2 = Process(target=long_job, args=(i,))\n",
    "p1.start()\n",
    "p2.start()\n",
    "p1.join()\n",
    "p2.join()\n",
    "print 'parallel execution: {0}'.format(time()-t)"
   ]
  },
  {
   "cell_type": "code",
   "execution_count": 75,
   "metadata": {
    "collapsed": true
   },
   "outputs": [],
   "source": [
    "def sequentialPredict(data):\n",
    "    print 'start sequential'\n",
    "    t = time()\n",
    "    st = t\n",
    "    X = data[related_columns]\n",
    "    y = data.status\n",
    "    sampler = NeighbourhoodCleaningRule()\n",
    "    X, y = sampler.fit_sample(X, y)\n",
    "    t1 = time()-t\n",
    "    t = time()\n",
    "    model = GaussianNB()\n",
    "    scores = cross_val_score(model, X, y,cv=10)\n",
    "    model.fit(X, y)\n",
    "    t2 = time()-t\n",
    "    return t1, t2, time()-st\n",
    "\n",
    "def parallelPredict(data, n):\n",
    "    print 'start parallel with {0} cores'.format(n)\n",
    "    t = time()\n",
    "    st = t\n",
    "    X = data[related_columns]\n",
    "    y = data.status\n",
    "    sampler = NeighbourhoodCleaningRule(n_jobs=n)\n",
    "    X, y = sampler.fit_sample(X, y)\n",
    "    t1 = time()-t\n",
    "    t = time()\n",
    "    model = GaussianNB()\n",
    "    scores = cross_val_score(model, X, y,cv=10, n_jobs=n)\n",
    "    model.fit(X, y)\n",
    "    t2 = time()-t\n",
    "    return t1, t2, time()-st"
   ]
  },
  {
   "cell_type": "code",
   "execution_count": 28,
   "metadata": {
    "collapsed": false
   },
   "outputs": [],
   "source": [
    "from multiprocessing import Process\n",
    "\n",
    "def fit_peredict(X, y):\n",
    "    model.fit(X, y)\n",
    "    return model.predict(X)\n",
    "    \n",
    "def parallelPredictX(data, n):\n",
    "    X = data[related_columns]\n",
    "    y = data.status\n",
    "    if len(data) > 50000:\n",
    "        sampler = RandomUnderSampler()\n",
    "    else:\n",
    "        sampler = NeighbourhoodCleaningRule(n_jobs=n)\n",
    "    X, y = sampler.fit_sample(X, y)\n",
    "    model = GaussianNB()\n",
    "    p1 = Process(target=cross_val_score, args=(model, X, y,None,None,10,n))\n",
    "    p1.start()\n",
    "    p2 = Process(target=fit_peredict, args=(X,y))\n",
    "    p2.start()\n",
    "    p1.join()\n",
    "    p2.join()"
   ]
  },
  {
   "cell_type": "code",
   "execution_count": 29,
   "metadata": {
    "collapsed": false
   },
   "outputs": [
    {
     "ename": "IOError",
     "evalue": "[Errno 32] Broken pipe",
     "output_type": "error",
     "traceback": [
      "\u001b[1;31m---------------------------------------------------------------------------\u001b[0m",
      "\u001b[1;31mIOError\u001b[0m                                   Traceback (most recent call last)",
      "\u001b[1;32m<ipython-input-29-b05677112a10>\u001b[0m in \u001b[0;36m<module>\u001b[1;34m()\u001b[0m\n\u001b[1;32m----> 1\u001b[1;33m \u001b[0mparallelPredictX\u001b[0m\u001b[1;33m(\u001b[0m\u001b[0mfeatures\u001b[0m\u001b[1;33m,\u001b[0m\u001b[1;36m3\u001b[0m\u001b[1;33m)\u001b[0m\u001b[1;33m\u001b[0m\u001b[0m\n\u001b[0m",
      "\u001b[1;32m<ipython-input-28-603c6f6bf299>\u001b[0m in \u001b[0;36mparallelPredictX\u001b[1;34m(data, n)\u001b[0m\n\u001b[0;32m     17\u001b[0m     \u001b[0mp1\u001b[0m\u001b[1;33m.\u001b[0m\u001b[0mstart\u001b[0m\u001b[1;33m(\u001b[0m\u001b[1;33m)\u001b[0m\u001b[1;33m\u001b[0m\u001b[0m\n\u001b[0;32m     18\u001b[0m     \u001b[0mp2\u001b[0m \u001b[1;33m=\u001b[0m \u001b[0mProcess\u001b[0m\u001b[1;33m(\u001b[0m\u001b[0mtarget\u001b[0m\u001b[1;33m=\u001b[0m\u001b[0mfit_peredict\u001b[0m\u001b[1;33m,\u001b[0m \u001b[0margs\u001b[0m\u001b[1;33m=\u001b[0m\u001b[1;33m(\u001b[0m\u001b[0mX\u001b[0m\u001b[1;33m,\u001b[0m\u001b[0my\u001b[0m\u001b[1;33m)\u001b[0m\u001b[1;33m)\u001b[0m\u001b[1;33m\u001b[0m\u001b[0m\n\u001b[1;32m---> 19\u001b[1;33m     \u001b[0mp2\u001b[0m\u001b[1;33m.\u001b[0m\u001b[0mstart\u001b[0m\u001b[1;33m(\u001b[0m\u001b[1;33m)\u001b[0m\u001b[1;33m\u001b[0m\u001b[0m\n\u001b[0m\u001b[0;32m     20\u001b[0m     \u001b[0mp1\u001b[0m\u001b[1;33m.\u001b[0m\u001b[0mjoin\u001b[0m\u001b[1;33m(\u001b[0m\u001b[1;33m)\u001b[0m\u001b[1;33m\u001b[0m\u001b[0m\n\u001b[0;32m     21\u001b[0m     \u001b[0mp2\u001b[0m\u001b[1;33m.\u001b[0m\u001b[0mjoin\u001b[0m\u001b[1;33m(\u001b[0m\u001b[1;33m)\u001b[0m\u001b[1;33m\u001b[0m\u001b[0m\n",
      "\u001b[1;32mC:\\Users\\mberezhnyak\\AppData\\Local\\Continuum\\Anaconda2\\lib\\multiprocessing\\process.pyc\u001b[0m in \u001b[0;36mstart\u001b[1;34m(self)\u001b[0m\n\u001b[0;32m    128\u001b[0m         \u001b[1;32melse\u001b[0m\u001b[1;33m:\u001b[0m\u001b[1;33m\u001b[0m\u001b[0m\n\u001b[0;32m    129\u001b[0m             \u001b[1;32mfrom\u001b[0m \u001b[1;33m.\u001b[0m\u001b[0mforking\u001b[0m \u001b[1;32mimport\u001b[0m \u001b[0mPopen\u001b[0m\u001b[1;33m\u001b[0m\u001b[0m\n\u001b[1;32m--> 130\u001b[1;33m         \u001b[0mself\u001b[0m\u001b[1;33m.\u001b[0m\u001b[0m_popen\u001b[0m \u001b[1;33m=\u001b[0m \u001b[0mPopen\u001b[0m\u001b[1;33m(\u001b[0m\u001b[0mself\u001b[0m\u001b[1;33m)\u001b[0m\u001b[1;33m\u001b[0m\u001b[0m\n\u001b[0m\u001b[0;32m    131\u001b[0m         \u001b[0m_current_process\u001b[0m\u001b[1;33m.\u001b[0m\u001b[0m_children\u001b[0m\u001b[1;33m.\u001b[0m\u001b[0madd\u001b[0m\u001b[1;33m(\u001b[0m\u001b[0mself\u001b[0m\u001b[1;33m)\u001b[0m\u001b[1;33m\u001b[0m\u001b[0m\n\u001b[0;32m    132\u001b[0m \u001b[1;33m\u001b[0m\u001b[0m\n",
      "\u001b[1;32mC:\\Users\\mberezhnyak\\AppData\\Local\\Continuum\\Anaconda2\\lib\\multiprocessing\\forking.pyc\u001b[0m in \u001b[0;36m__init__\u001b[1;34m(self, process_obj)\u001b[0m\n\u001b[0;32m    275\u001b[0m             \u001b[1;32mtry\u001b[0m\u001b[1;33m:\u001b[0m\u001b[1;33m\u001b[0m\u001b[0m\n\u001b[0;32m    276\u001b[0m                 \u001b[0mdump\u001b[0m\u001b[1;33m(\u001b[0m\u001b[0mprep_data\u001b[0m\u001b[1;33m,\u001b[0m \u001b[0mto_child\u001b[0m\u001b[1;33m,\u001b[0m \u001b[0mHIGHEST_PROTOCOL\u001b[0m\u001b[1;33m)\u001b[0m\u001b[1;33m\u001b[0m\u001b[0m\n\u001b[1;32m--> 277\u001b[1;33m                 \u001b[0mdump\u001b[0m\u001b[1;33m(\u001b[0m\u001b[0mprocess_obj\u001b[0m\u001b[1;33m,\u001b[0m \u001b[0mto_child\u001b[0m\u001b[1;33m,\u001b[0m \u001b[0mHIGHEST_PROTOCOL\u001b[0m\u001b[1;33m)\u001b[0m\u001b[1;33m\u001b[0m\u001b[0m\n\u001b[0m\u001b[0;32m    278\u001b[0m             \u001b[1;32mfinally\u001b[0m\u001b[1;33m:\u001b[0m\u001b[1;33m\u001b[0m\u001b[0m\n\u001b[0;32m    279\u001b[0m                 \u001b[1;32mdel\u001b[0m \u001b[0mPopen\u001b[0m\u001b[1;33m.\u001b[0m\u001b[0m_tls\u001b[0m\u001b[1;33m.\u001b[0m\u001b[0mprocess_handle\u001b[0m\u001b[1;33m\u001b[0m\u001b[0m\n",
      "\u001b[1;32mC:\\Users\\mberezhnyak\\AppData\\Local\\Continuum\\Anaconda2\\lib\\multiprocessing\\forking.pyc\u001b[0m in \u001b[0;36mdump\u001b[1;34m(obj, file, protocol)\u001b[0m\n\u001b[0;32m    197\u001b[0m \u001b[1;33m\u001b[0m\u001b[0m\n\u001b[0;32m    198\u001b[0m     \u001b[1;32mdef\u001b[0m \u001b[0mdump\u001b[0m\u001b[1;33m(\u001b[0m\u001b[0mobj\u001b[0m\u001b[1;33m,\u001b[0m \u001b[0mfile\u001b[0m\u001b[1;33m,\u001b[0m \u001b[0mprotocol\u001b[0m\u001b[1;33m=\u001b[0m\u001b[0mNone\u001b[0m\u001b[1;33m)\u001b[0m\u001b[1;33m:\u001b[0m\u001b[1;33m\u001b[0m\u001b[0m\n\u001b[1;32m--> 199\u001b[1;33m         \u001b[0mForkingPickler\u001b[0m\u001b[1;33m(\u001b[0m\u001b[0mfile\u001b[0m\u001b[1;33m,\u001b[0m \u001b[0mprotocol\u001b[0m\u001b[1;33m)\u001b[0m\u001b[1;33m.\u001b[0m\u001b[0mdump\u001b[0m\u001b[1;33m(\u001b[0m\u001b[0mobj\u001b[0m\u001b[1;33m)\u001b[0m\u001b[1;33m\u001b[0m\u001b[0m\n\u001b[0m\u001b[0;32m    200\u001b[0m \u001b[1;33m\u001b[0m\u001b[0m\n\u001b[0;32m    201\u001b[0m     \u001b[1;31m#\u001b[0m\u001b[1;33m\u001b[0m\u001b[1;33m\u001b[0m\u001b[0m\n",
      "\u001b[1;32mC:\\Users\\mberezhnyak\\AppData\\Local\\Continuum\\Anaconda2\\lib\\pickle.pyc\u001b[0m in \u001b[0;36mdump\u001b[1;34m(self, obj)\u001b[0m\n\u001b[0;32m    222\u001b[0m         \u001b[1;32mif\u001b[0m \u001b[0mself\u001b[0m\u001b[1;33m.\u001b[0m\u001b[0mproto\u001b[0m \u001b[1;33m>=\u001b[0m \u001b[1;36m2\u001b[0m\u001b[1;33m:\u001b[0m\u001b[1;33m\u001b[0m\u001b[0m\n\u001b[0;32m    223\u001b[0m             \u001b[0mself\u001b[0m\u001b[1;33m.\u001b[0m\u001b[0mwrite\u001b[0m\u001b[1;33m(\u001b[0m\u001b[0mPROTO\u001b[0m \u001b[1;33m+\u001b[0m \u001b[0mchr\u001b[0m\u001b[1;33m(\u001b[0m\u001b[0mself\u001b[0m\u001b[1;33m.\u001b[0m\u001b[0mproto\u001b[0m\u001b[1;33m)\u001b[0m\u001b[1;33m)\u001b[0m\u001b[1;33m\u001b[0m\u001b[0m\n\u001b[1;32m--> 224\u001b[1;33m         \u001b[0mself\u001b[0m\u001b[1;33m.\u001b[0m\u001b[0msave\u001b[0m\u001b[1;33m(\u001b[0m\u001b[0mobj\u001b[0m\u001b[1;33m)\u001b[0m\u001b[1;33m\u001b[0m\u001b[0m\n\u001b[0m\u001b[0;32m    225\u001b[0m         \u001b[0mself\u001b[0m\u001b[1;33m.\u001b[0m\u001b[0mwrite\u001b[0m\u001b[1;33m(\u001b[0m\u001b[0mSTOP\u001b[0m\u001b[1;33m)\u001b[0m\u001b[1;33m\u001b[0m\u001b[0m\n\u001b[0;32m    226\u001b[0m \u001b[1;33m\u001b[0m\u001b[0m\n",
      "\u001b[1;32mC:\\Users\\mberezhnyak\\AppData\\Local\\Continuum\\Anaconda2\\lib\\pickle.pyc\u001b[0m in \u001b[0;36msave\u001b[1;34m(self, obj)\u001b[0m\n\u001b[0;32m    329\u001b[0m \u001b[1;33m\u001b[0m\u001b[0m\n\u001b[0;32m    330\u001b[0m         \u001b[1;31m# Save the reduce() output and finally memoize the object\u001b[0m\u001b[1;33m\u001b[0m\u001b[1;33m\u001b[0m\u001b[0m\n\u001b[1;32m--> 331\u001b[1;33m         \u001b[0mself\u001b[0m\u001b[1;33m.\u001b[0m\u001b[0msave_reduce\u001b[0m\u001b[1;33m(\u001b[0m\u001b[0mobj\u001b[0m\u001b[1;33m=\u001b[0m\u001b[0mobj\u001b[0m\u001b[1;33m,\u001b[0m \u001b[1;33m*\u001b[0m\u001b[0mrv\u001b[0m\u001b[1;33m)\u001b[0m\u001b[1;33m\u001b[0m\u001b[0m\n\u001b[0m\u001b[0;32m    332\u001b[0m \u001b[1;33m\u001b[0m\u001b[0m\n\u001b[0;32m    333\u001b[0m     \u001b[1;32mdef\u001b[0m \u001b[0mpersistent_id\u001b[0m\u001b[1;33m(\u001b[0m\u001b[0mself\u001b[0m\u001b[1;33m,\u001b[0m \u001b[0mobj\u001b[0m\u001b[1;33m)\u001b[0m\u001b[1;33m:\u001b[0m\u001b[1;33m\u001b[0m\u001b[0m\n",
      "\u001b[1;32mC:\\Users\\mberezhnyak\\AppData\\Local\\Continuum\\Anaconda2\\lib\\pickle.pyc\u001b[0m in \u001b[0;36msave_reduce\u001b[1;34m(self, func, args, state, listitems, dictitems, obj)\u001b[0m\n\u001b[0;32m    423\u001b[0m \u001b[1;33m\u001b[0m\u001b[0m\n\u001b[0;32m    424\u001b[0m         \u001b[1;32mif\u001b[0m \u001b[0mstate\u001b[0m \u001b[1;32mis\u001b[0m \u001b[1;32mnot\u001b[0m \u001b[0mNone\u001b[0m\u001b[1;33m:\u001b[0m\u001b[1;33m\u001b[0m\u001b[0m\n\u001b[1;32m--> 425\u001b[1;33m             \u001b[0msave\u001b[0m\u001b[1;33m(\u001b[0m\u001b[0mstate\u001b[0m\u001b[1;33m)\u001b[0m\u001b[1;33m\u001b[0m\u001b[0m\n\u001b[0m\u001b[0;32m    426\u001b[0m             \u001b[0mwrite\u001b[0m\u001b[1;33m(\u001b[0m\u001b[0mBUILD\u001b[0m\u001b[1;33m)\u001b[0m\u001b[1;33m\u001b[0m\u001b[0m\n\u001b[0;32m    427\u001b[0m \u001b[1;33m\u001b[0m\u001b[0m\n",
      "\u001b[1;32mC:\\Users\\mberezhnyak\\AppData\\Local\\Continuum\\Anaconda2\\lib\\pickle.pyc\u001b[0m in \u001b[0;36msave\u001b[1;34m(self, obj)\u001b[0m\n\u001b[0;32m    284\u001b[0m         \u001b[0mf\u001b[0m \u001b[1;33m=\u001b[0m \u001b[0mself\u001b[0m\u001b[1;33m.\u001b[0m\u001b[0mdispatch\u001b[0m\u001b[1;33m.\u001b[0m\u001b[0mget\u001b[0m\u001b[1;33m(\u001b[0m\u001b[0mt\u001b[0m\u001b[1;33m)\u001b[0m\u001b[1;33m\u001b[0m\u001b[0m\n\u001b[0;32m    285\u001b[0m         \u001b[1;32mif\u001b[0m \u001b[0mf\u001b[0m\u001b[1;33m:\u001b[0m\u001b[1;33m\u001b[0m\u001b[0m\n\u001b[1;32m--> 286\u001b[1;33m             \u001b[0mf\u001b[0m\u001b[1;33m(\u001b[0m\u001b[0mself\u001b[0m\u001b[1;33m,\u001b[0m \u001b[0mobj\u001b[0m\u001b[1;33m)\u001b[0m \u001b[1;31m# Call unbound method with explicit self\u001b[0m\u001b[1;33m\u001b[0m\u001b[0m\n\u001b[0m\u001b[0;32m    287\u001b[0m             \u001b[1;32mreturn\u001b[0m\u001b[1;33m\u001b[0m\u001b[0m\n\u001b[0;32m    288\u001b[0m \u001b[1;33m\u001b[0m\u001b[0m\n",
      "\u001b[1;32mC:\\Users\\mberezhnyak\\AppData\\Local\\Continuum\\Anaconda2\\lib\\pickle.pyc\u001b[0m in \u001b[0;36msave_dict\u001b[1;34m(self, obj)\u001b[0m\n\u001b[0;32m    653\u001b[0m \u001b[1;33m\u001b[0m\u001b[0m\n\u001b[0;32m    654\u001b[0m         \u001b[0mself\u001b[0m\u001b[1;33m.\u001b[0m\u001b[0mmemoize\u001b[0m\u001b[1;33m(\u001b[0m\u001b[0mobj\u001b[0m\u001b[1;33m)\u001b[0m\u001b[1;33m\u001b[0m\u001b[0m\n\u001b[1;32m--> 655\u001b[1;33m         \u001b[0mself\u001b[0m\u001b[1;33m.\u001b[0m\u001b[0m_batch_setitems\u001b[0m\u001b[1;33m(\u001b[0m\u001b[0mobj\u001b[0m\u001b[1;33m.\u001b[0m\u001b[0miteritems\u001b[0m\u001b[1;33m(\u001b[0m\u001b[1;33m)\u001b[0m\u001b[1;33m)\u001b[0m\u001b[1;33m\u001b[0m\u001b[0m\n\u001b[0m\u001b[0;32m    656\u001b[0m \u001b[1;33m\u001b[0m\u001b[0m\n\u001b[0;32m    657\u001b[0m     \u001b[0mdispatch\u001b[0m\u001b[1;33m[\u001b[0m\u001b[0mDictionaryType\u001b[0m\u001b[1;33m]\u001b[0m \u001b[1;33m=\u001b[0m \u001b[0msave_dict\u001b[0m\u001b[1;33m\u001b[0m\u001b[0m\n",
      "\u001b[1;32mC:\\Users\\mberezhnyak\\AppData\\Local\\Continuum\\Anaconda2\\lib\\pickle.pyc\u001b[0m in \u001b[0;36m_batch_setitems\u001b[1;34m(self, items)\u001b[0m\n\u001b[0;32m    685\u001b[0m                 \u001b[1;32mfor\u001b[0m \u001b[0mk\u001b[0m\u001b[1;33m,\u001b[0m \u001b[0mv\u001b[0m \u001b[1;32min\u001b[0m \u001b[0mtmp\u001b[0m\u001b[1;33m:\u001b[0m\u001b[1;33m\u001b[0m\u001b[0m\n\u001b[0;32m    686\u001b[0m                     \u001b[0msave\u001b[0m\u001b[1;33m(\u001b[0m\u001b[0mk\u001b[0m\u001b[1;33m)\u001b[0m\u001b[1;33m\u001b[0m\u001b[0m\n\u001b[1;32m--> 687\u001b[1;33m                     \u001b[0msave\u001b[0m\u001b[1;33m(\u001b[0m\u001b[0mv\u001b[0m\u001b[1;33m)\u001b[0m\u001b[1;33m\u001b[0m\u001b[0m\n\u001b[0m\u001b[0;32m    688\u001b[0m                 \u001b[0mwrite\u001b[0m\u001b[1;33m(\u001b[0m\u001b[0mSETITEMS\u001b[0m\u001b[1;33m)\u001b[0m\u001b[1;33m\u001b[0m\u001b[0m\n\u001b[0;32m    689\u001b[0m             \u001b[1;32melif\u001b[0m \u001b[0mn\u001b[0m\u001b[1;33m:\u001b[0m\u001b[1;33m\u001b[0m\u001b[0m\n",
      "\u001b[1;32mC:\\Users\\mberezhnyak\\AppData\\Local\\Continuum\\Anaconda2\\lib\\pickle.pyc\u001b[0m in \u001b[0;36msave\u001b[1;34m(self, obj)\u001b[0m\n\u001b[0;32m    284\u001b[0m         \u001b[0mf\u001b[0m \u001b[1;33m=\u001b[0m \u001b[0mself\u001b[0m\u001b[1;33m.\u001b[0m\u001b[0mdispatch\u001b[0m\u001b[1;33m.\u001b[0m\u001b[0mget\u001b[0m\u001b[1;33m(\u001b[0m\u001b[0mt\u001b[0m\u001b[1;33m)\u001b[0m\u001b[1;33m\u001b[0m\u001b[0m\n\u001b[0;32m    285\u001b[0m         \u001b[1;32mif\u001b[0m \u001b[0mf\u001b[0m\u001b[1;33m:\u001b[0m\u001b[1;33m\u001b[0m\u001b[0m\n\u001b[1;32m--> 286\u001b[1;33m             \u001b[0mf\u001b[0m\u001b[1;33m(\u001b[0m\u001b[0mself\u001b[0m\u001b[1;33m,\u001b[0m \u001b[0mobj\u001b[0m\u001b[1;33m)\u001b[0m \u001b[1;31m# Call unbound method with explicit self\u001b[0m\u001b[1;33m\u001b[0m\u001b[0m\n\u001b[0m\u001b[0;32m    287\u001b[0m             \u001b[1;32mreturn\u001b[0m\u001b[1;33m\u001b[0m\u001b[0m\n\u001b[0;32m    288\u001b[0m \u001b[1;33m\u001b[0m\u001b[0m\n",
      "\u001b[1;32mC:\\Users\\mberezhnyak\\AppData\\Local\\Continuum\\Anaconda2\\lib\\pickle.pyc\u001b[0m in \u001b[0;36msave_tuple\u001b[1;34m(self, obj)\u001b[0m\n\u001b[0;32m    552\u001b[0m         \u001b[1;32mif\u001b[0m \u001b[0mn\u001b[0m \u001b[1;33m<=\u001b[0m \u001b[1;36m3\u001b[0m \u001b[1;32mand\u001b[0m \u001b[0mproto\u001b[0m \u001b[1;33m>=\u001b[0m \u001b[1;36m2\u001b[0m\u001b[1;33m:\u001b[0m\u001b[1;33m\u001b[0m\u001b[0m\n\u001b[0;32m    553\u001b[0m             \u001b[1;32mfor\u001b[0m \u001b[0melement\u001b[0m \u001b[1;32min\u001b[0m \u001b[0mobj\u001b[0m\u001b[1;33m:\u001b[0m\u001b[1;33m\u001b[0m\u001b[0m\n\u001b[1;32m--> 554\u001b[1;33m                 \u001b[0msave\u001b[0m\u001b[1;33m(\u001b[0m\u001b[0melement\u001b[0m\u001b[1;33m)\u001b[0m\u001b[1;33m\u001b[0m\u001b[0m\n\u001b[0m\u001b[0;32m    555\u001b[0m             \u001b[1;31m# Subtle.  Same as in the big comment below.\u001b[0m\u001b[1;33m\u001b[0m\u001b[1;33m\u001b[0m\u001b[0m\n\u001b[0;32m    556\u001b[0m             \u001b[1;32mif\u001b[0m \u001b[0mid\u001b[0m\u001b[1;33m(\u001b[0m\u001b[0mobj\u001b[0m\u001b[1;33m)\u001b[0m \u001b[1;32min\u001b[0m \u001b[0mmemo\u001b[0m\u001b[1;33m:\u001b[0m\u001b[1;33m\u001b[0m\u001b[0m\n",
      "\u001b[1;32mC:\\Users\\mberezhnyak\\AppData\\Local\\Continuum\\Anaconda2\\lib\\pickle.pyc\u001b[0m in \u001b[0;36msave\u001b[1;34m(self, obj)\u001b[0m\n\u001b[0;32m    329\u001b[0m \u001b[1;33m\u001b[0m\u001b[0m\n\u001b[0;32m    330\u001b[0m         \u001b[1;31m# Save the reduce() output and finally memoize the object\u001b[0m\u001b[1;33m\u001b[0m\u001b[1;33m\u001b[0m\u001b[0m\n\u001b[1;32m--> 331\u001b[1;33m         \u001b[0mself\u001b[0m\u001b[1;33m.\u001b[0m\u001b[0msave_reduce\u001b[0m\u001b[1;33m(\u001b[0m\u001b[0mobj\u001b[0m\u001b[1;33m=\u001b[0m\u001b[0mobj\u001b[0m\u001b[1;33m,\u001b[0m \u001b[1;33m*\u001b[0m\u001b[0mrv\u001b[0m\u001b[1;33m)\u001b[0m\u001b[1;33m\u001b[0m\u001b[0m\n\u001b[0m\u001b[0;32m    332\u001b[0m \u001b[1;33m\u001b[0m\u001b[0m\n\u001b[0;32m    333\u001b[0m     \u001b[1;32mdef\u001b[0m \u001b[0mpersistent_id\u001b[0m\u001b[1;33m(\u001b[0m\u001b[0mself\u001b[0m\u001b[1;33m,\u001b[0m \u001b[0mobj\u001b[0m\u001b[1;33m)\u001b[0m\u001b[1;33m:\u001b[0m\u001b[1;33m\u001b[0m\u001b[0m\n",
      "\u001b[1;32mC:\\Users\\mberezhnyak\\AppData\\Local\\Continuum\\Anaconda2\\lib\\pickle.pyc\u001b[0m in \u001b[0;36msave_reduce\u001b[1;34m(self, func, args, state, listitems, dictitems, obj)\u001b[0m\n\u001b[0;32m    423\u001b[0m \u001b[1;33m\u001b[0m\u001b[0m\n\u001b[0;32m    424\u001b[0m         \u001b[1;32mif\u001b[0m \u001b[0mstate\u001b[0m \u001b[1;32mis\u001b[0m \u001b[1;32mnot\u001b[0m \u001b[0mNone\u001b[0m\u001b[1;33m:\u001b[0m\u001b[1;33m\u001b[0m\u001b[0m\n\u001b[1;32m--> 425\u001b[1;33m             \u001b[0msave\u001b[0m\u001b[1;33m(\u001b[0m\u001b[0mstate\u001b[0m\u001b[1;33m)\u001b[0m\u001b[1;33m\u001b[0m\u001b[0m\n\u001b[0m\u001b[0;32m    426\u001b[0m             \u001b[0mwrite\u001b[0m\u001b[1;33m(\u001b[0m\u001b[0mBUILD\u001b[0m\u001b[1;33m)\u001b[0m\u001b[1;33m\u001b[0m\u001b[0m\n\u001b[0;32m    427\u001b[0m \u001b[1;33m\u001b[0m\u001b[0m\n",
      "\u001b[1;32mC:\\Users\\mberezhnyak\\AppData\\Local\\Continuum\\Anaconda2\\lib\\pickle.pyc\u001b[0m in \u001b[0;36msave\u001b[1;34m(self, obj)\u001b[0m\n\u001b[0;32m    284\u001b[0m         \u001b[0mf\u001b[0m \u001b[1;33m=\u001b[0m \u001b[0mself\u001b[0m\u001b[1;33m.\u001b[0m\u001b[0mdispatch\u001b[0m\u001b[1;33m.\u001b[0m\u001b[0mget\u001b[0m\u001b[1;33m(\u001b[0m\u001b[0mt\u001b[0m\u001b[1;33m)\u001b[0m\u001b[1;33m\u001b[0m\u001b[0m\n\u001b[0;32m    285\u001b[0m         \u001b[1;32mif\u001b[0m \u001b[0mf\u001b[0m\u001b[1;33m:\u001b[0m\u001b[1;33m\u001b[0m\u001b[0m\n\u001b[1;32m--> 286\u001b[1;33m             \u001b[0mf\u001b[0m\u001b[1;33m(\u001b[0m\u001b[0mself\u001b[0m\u001b[1;33m,\u001b[0m \u001b[0mobj\u001b[0m\u001b[1;33m)\u001b[0m \u001b[1;31m# Call unbound method with explicit self\u001b[0m\u001b[1;33m\u001b[0m\u001b[0m\n\u001b[0m\u001b[0;32m    287\u001b[0m             \u001b[1;32mreturn\u001b[0m\u001b[1;33m\u001b[0m\u001b[0m\n\u001b[0;32m    288\u001b[0m \u001b[1;33m\u001b[0m\u001b[0m\n",
      "\u001b[1;32mC:\\Users\\mberezhnyak\\AppData\\Local\\Continuum\\Anaconda2\\lib\\pickle.pyc\u001b[0m in \u001b[0;36msave_tuple\u001b[1;34m(self, obj)\u001b[0m\n\u001b[0;32m    566\u001b[0m         \u001b[0mwrite\u001b[0m\u001b[1;33m(\u001b[0m\u001b[0mMARK\u001b[0m\u001b[1;33m)\u001b[0m\u001b[1;33m\u001b[0m\u001b[0m\n\u001b[0;32m    567\u001b[0m         \u001b[1;32mfor\u001b[0m \u001b[0melement\u001b[0m \u001b[1;32min\u001b[0m \u001b[0mobj\u001b[0m\u001b[1;33m:\u001b[0m\u001b[1;33m\u001b[0m\u001b[0m\n\u001b[1;32m--> 568\u001b[1;33m             \u001b[0msave\u001b[0m\u001b[1;33m(\u001b[0m\u001b[0melement\u001b[0m\u001b[1;33m)\u001b[0m\u001b[1;33m\u001b[0m\u001b[0m\n\u001b[0m\u001b[0;32m    569\u001b[0m \u001b[1;33m\u001b[0m\u001b[0m\n\u001b[0;32m    570\u001b[0m         \u001b[1;32mif\u001b[0m \u001b[0mid\u001b[0m\u001b[1;33m(\u001b[0m\u001b[0mobj\u001b[0m\u001b[1;33m)\u001b[0m \u001b[1;32min\u001b[0m \u001b[0mmemo\u001b[0m\u001b[1;33m:\u001b[0m\u001b[1;33m\u001b[0m\u001b[0m\n",
      "\u001b[1;32mC:\\Users\\mberezhnyak\\AppData\\Local\\Continuum\\Anaconda2\\lib\\pickle.pyc\u001b[0m in \u001b[0;36msave\u001b[1;34m(self, obj)\u001b[0m\n\u001b[0;32m    284\u001b[0m         \u001b[0mf\u001b[0m \u001b[1;33m=\u001b[0m \u001b[0mself\u001b[0m\u001b[1;33m.\u001b[0m\u001b[0mdispatch\u001b[0m\u001b[1;33m.\u001b[0m\u001b[0mget\u001b[0m\u001b[1;33m(\u001b[0m\u001b[0mt\u001b[0m\u001b[1;33m)\u001b[0m\u001b[1;33m\u001b[0m\u001b[0m\n\u001b[0;32m    285\u001b[0m         \u001b[1;32mif\u001b[0m \u001b[0mf\u001b[0m\u001b[1;33m:\u001b[0m\u001b[1;33m\u001b[0m\u001b[0m\n\u001b[1;32m--> 286\u001b[1;33m             \u001b[0mf\u001b[0m\u001b[1;33m(\u001b[0m\u001b[0mself\u001b[0m\u001b[1;33m,\u001b[0m \u001b[0mobj\u001b[0m\u001b[1;33m)\u001b[0m \u001b[1;31m# Call unbound method with explicit self\u001b[0m\u001b[1;33m\u001b[0m\u001b[0m\n\u001b[0m\u001b[0;32m    287\u001b[0m             \u001b[1;32mreturn\u001b[0m\u001b[1;33m\u001b[0m\u001b[0m\n\u001b[0;32m    288\u001b[0m \u001b[1;33m\u001b[0m\u001b[0m\n",
      "\u001b[1;32mC:\\Users\\mberezhnyak\\AppData\\Local\\Continuum\\Anaconda2\\lib\\pickle.pyc\u001b[0m in \u001b[0;36msave_string\u001b[1;34m(self, obj, pack)\u001b[0m\n\u001b[0;32m    490\u001b[0m                 \u001b[0mself\u001b[0m\u001b[1;33m.\u001b[0m\u001b[0mwrite\u001b[0m\u001b[1;33m(\u001b[0m\u001b[0mSHORT_BINSTRING\u001b[0m \u001b[1;33m+\u001b[0m \u001b[0mchr\u001b[0m\u001b[1;33m(\u001b[0m\u001b[0mn\u001b[0m\u001b[1;33m)\u001b[0m \u001b[1;33m+\u001b[0m \u001b[0mobj\u001b[0m\u001b[1;33m)\u001b[0m\u001b[1;33m\u001b[0m\u001b[0m\n\u001b[0;32m    491\u001b[0m             \u001b[1;32melse\u001b[0m\u001b[1;33m:\u001b[0m\u001b[1;33m\u001b[0m\u001b[0m\n\u001b[1;32m--> 492\u001b[1;33m                 \u001b[0mself\u001b[0m\u001b[1;33m.\u001b[0m\u001b[0mwrite\u001b[0m\u001b[1;33m(\u001b[0m\u001b[0mBINSTRING\u001b[0m \u001b[1;33m+\u001b[0m \u001b[0mpack\u001b[0m\u001b[1;33m(\u001b[0m\u001b[1;34m\"<i\"\u001b[0m\u001b[1;33m,\u001b[0m \u001b[0mn\u001b[0m\u001b[1;33m)\u001b[0m \u001b[1;33m+\u001b[0m \u001b[0mobj\u001b[0m\u001b[1;33m)\u001b[0m\u001b[1;33m\u001b[0m\u001b[0m\n\u001b[0m\u001b[0;32m    493\u001b[0m         \u001b[1;32melse\u001b[0m\u001b[1;33m:\u001b[0m\u001b[1;33m\u001b[0m\u001b[0m\n\u001b[0;32m    494\u001b[0m             \u001b[0mself\u001b[0m\u001b[1;33m.\u001b[0m\u001b[0mwrite\u001b[0m\u001b[1;33m(\u001b[0m\u001b[0mSTRING\u001b[0m \u001b[1;33m+\u001b[0m \u001b[0mrepr\u001b[0m\u001b[1;33m(\u001b[0m\u001b[0mobj\u001b[0m\u001b[1;33m)\u001b[0m \u001b[1;33m+\u001b[0m \u001b[1;34m'\\n'\u001b[0m\u001b[1;33m)\u001b[0m\u001b[1;33m\u001b[0m\u001b[0m\n",
      "\u001b[1;31mIOError\u001b[0m: [Errno 32] Broken pipe"
     ]
    }
   ],
   "source": [
    "parallelPredictX(features,3)"
   ]
  },
  {
   "cell_type": "code",
   "execution_count": 14,
   "metadata": {
    "collapsed": false
   },
   "outputs": [
    {
     "data": {
      "text/plain": [
       "76370"
      ]
     },
     "execution_count": 14,
     "metadata": {},
     "output_type": "execute_result"
    }
   ],
   "source": [
    "len(features)"
   ]
  },
  {
   "cell_type": "code",
   "execution_count": 84,
   "metadata": {
    "collapsed": false
   },
   "outputs": [
    {
     "name": "stdout",
     "output_type": "stream",
     "text": [
      "start sequential\n",
      "start parallel with -1 cores\n",
      "start parallel with 1 cores\n",
      "start parallel with 2 cores\n",
      "start parallel with 3 cores\n",
      "start parallel with 4 cores\n"
     ]
    }
   ],
   "source": [
    "s_res_s = []\n",
    "s_res_o = []\n",
    "s_res = []\n",
    "a,b,c = sequentialPredict(features)\n",
    "s_res_s.append(a)\n",
    "s_res_o.append(b)\n",
    "s_res.append(c)\n",
    "cores = [-1,1,2,3,4]\n",
    "for i in cores:\n",
    "    a, b, c = parallelPredict(features, i)\n",
    "    s_res_s.append(a)\n",
    "    s_res_o.append(b)\n",
    "    s_res.append(c)"
   ]
  },
  {
   "cell_type": "code",
   "execution_count": 85,
   "metadata": {
    "collapsed": false
   },
   "outputs": [
    {
     "name": "stdout",
     "output_type": "stream",
     "text": [
      "start sequential\n"
     ]
    }
   ],
   "source": [
    "x_res_s = []\n",
    "x_res_o = []\n",
    "x_res = []\n",
    "a,b,c = sequentialPredict(features)\n",
    "x_res_s.append(a)\n",
    "x_res_o.append(b)\n",
    "x_res.append(c)\n",
    "for i in cores:\n",
    "    a, b, c = parallelPredictX(features, i)\n",
    "    x_res_s.append(a)\n",
    "    x_res_o.append(b)\n",
    "    x_res.append(c)"
   ]
  },
  {
   "cell_type": "code",
   "execution_count": 86,
   "metadata": {
    "collapsed": false
   },
   "outputs": [
    {
     "data": {
      "image/png": "[encoded data removed]",
      "text/plain": [
       "<matplotlib.figure.Figure at 0xb8ea780>"
      ]
     },
     "metadata": {},
     "output_type": "display_data"
    }
   ],
   "source": [
    "x = np.array([-1,0,1,2,3,4])\n",
    "y1 = np.array(s_res)\n",
    "y2 = np.array(x_res)\n",
    "plt.plot(x, y1, 'r', x, y2, 'b')\n",
    "plt.show()"
   ]
  },
  {
   "cell_type": "code",
   "execution_count": 82,
   "metadata": {
    "collapsed": false
   },
   "outputs": [
    {
     "name": "stdout",
     "output_type": "stream",
     "text": [
      "[3.427999973297119, 3.7799999713897705, 3.36899995803833, 3.690000057220459, 3.5859999656677246, 3.0999999046325684]\n",
      "[3.3610000610351562, 3.805999994277954, 3.493000030517578, 3.819000005722046, 3.680000066757202, 3.8330001831054688]\n"
     ]
    }
   ],
   "source": [
    "print s_res\n",
    "print x_res"
   ]
  },
  {
   "cell_type": "code",
   "execution_count": 57,
   "metadata": {
    "collapsed": false
   },
   "outputs": [
    {
     "ename": "ValueError",
     "evalue": "negative dimensions are not allowed",
     "output_type": "error",
     "traceback": [
      "\u001b[1;31m---------------------------------------------------------------------------\u001b[0m",
      "\u001b[1;31mValueError\u001b[0m                                Traceback (most recent call last)",
      "\u001b[1;32m<ipython-input-57-6c52ed53d28e>\u001b[0m in \u001b[0;36m<module>\u001b[1;34m()\u001b[0m\n\u001b[1;32m----> 1\u001b[1;33m \u001b[0mnp\u001b[0m\u001b[1;33m.\u001b[0m\u001b[0mndarray\u001b[0m\u001b[1;33m(\u001b[0m\u001b[0mcores\u001b[0m\u001b[1;33m)\u001b[0m\u001b[1;33m\u001b[0m\u001b[0m\n\u001b[0m",
      "\u001b[1;31mValueError\u001b[0m: negative dimensions are not allowed"
     ]
    }
   ],
   "source": [
    "np.ndarray(cores)"
   ]
  },
  {
   "cell_type": "code",
   "execution_count": null,
   "metadata": {
    "collapsed": true
   },
   "outputs": [],
   "source": []
  }
 ],
 "metadata": {
  "kernelspec": {
   "display_name": "Python 2",
   "language": "python",
   "name": "python2"
  },
  "language_info": {
   "codemirror_mode": {
    "name": "ipython",
    "version": 2
   },
   "file_extension": ".py",
   "mimetype": "text/x-python",
   "name": "python",
   "nbconvert_exporter": "python",
   "pygments_lexer": "ipython2",
   "version": "2.7.13"
  }
 },
 "nbformat": 4,
 "nbformat_minor": 2
}
