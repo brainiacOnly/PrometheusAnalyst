{
 "metadata": {
  "name": "",
  "signature": "sha256:f86cb68864421779d07447d95e8f318f11662c2f83697f245891124eeea7cf00"
 },
 "nbformat": 3,
 "nbformat_minor": 0,
 "worksheets": [
  {
   "cells": [
    {
     "cell_type": "code",
     "collapsed": false,
     "input": [
      "import MySQLdb\n",
      "import pandas as pd"
     ],
     "language": "python",
     "metadata": {},
     "outputs": [],
     "prompt_number": 10
    },
    {
     "cell_type": "code",
     "collapsed": false,
     "input": [
      "db = MySQLdb.connect(host=\"185.13.249.220\", # your host, usually localhost\n",
      "                     port=3306,\n",
      "                     user=\"guest\", # your username\n",
      "                      passwd=\"guest2015\", # your password\n",
      "                      db=\"edxapp\") # name of the data base\n"
     ],
     "language": "python",
     "metadata": {},
     "outputs": [],
     "prompt_number": 2
    },
    {
     "cell_type": "code",
     "collapsed": false,
     "input": [
      "# you must create a Cursor object. It will let\n",
      "#  you execute all the queries you need\n",
      "#cur = db.cursor() \n",
      "\n",
      "# Use all the SQL you like\n",
      "#cur.execute(\"SELECT * from courseware_studentmodule where course_id = 'KPI/Algo101/2014_Fall'\")\n",
      "data = pd.read_sql(\"SELECT * from courseware_studentmodule where course_id = 'KPI/Programming101/2015_T1'\", con=db)"
     ],
     "language": "python",
     "metadata": {},
     "outputs": [],
     "prompt_number": 13
    },
    {
     "cell_type": "code",
     "collapsed": false,
     "input": [
      "len(data)"
     ],
     "language": "python",
     "metadata": {},
     "outputs": [
      {
       "metadata": {},
       "output_type": "pyout",
       "prompt_number": 15,
       "text": [
        "546380"
       ]
      }
     ],
     "prompt_number": 15
    },
    {
     "cell_type": "code",
     "collapsed": false,
     "input": [],
     "language": "python",
     "metadata": {},
     "outputs": []
    }
   ],
   "metadata": {}
  }
 ]
}