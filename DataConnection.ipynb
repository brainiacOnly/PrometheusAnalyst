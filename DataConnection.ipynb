{
 "metadata": {
  "name": "",
  "signature": "sha256:b0d2eb16984e0728234cd6f107b61fbfd11387a56e7697ef16a92f851a7ea5c2"
 },
 "nbformat": 3,
 "nbformat_minor": 0,
 "worksheets": [
  {
   "cells": [
    {
     "cell_type": "code",
     "collapsed": false,
     "input": [
      "import MySQLdb\n",
      "import pandas as pd"
     ],
     "language": "python",
     "metadata": {},
     "outputs": [],
     "prompt_number": 12
    },
    {
     "cell_type": "code",
     "collapsed": false,
     "input": [
      "db = MySQLdb.connect(host=\"185.13.249.220\", # your host, usually localhost\n",
      "                     port=3306,\n",
      "                     user=\"guest\", # your username\n",
      "                      passwd=\"guest2015\", # your password\n",
      "                      db=\"edxapp\") # name of the data base\n"
     ],
     "language": "python",
     "metadata": {},
     "outputs": [],
     "prompt_number": 13
    },
    {
     "cell_type": "code",
     "collapsed": false,
     "input": [
      "# you must create a Cursor object. It will let\n",
      "#  you execute all the queries you need\n",
      "#cur = db.cursor() \n",
      "\n",
      "# Use all the SQL you like\n",
      "#cur.execute(\"SELECT * from courseware_studentmodule where course_id = 'KPI/Algo101/2014_Fall'\")\n",
      "data = pd.read_sql(\"SELECT * from courseware_studentmodule where course_id = 'NAUKMA/101/2014_T2'\", con=db)"
     ],
     "language": "python",
     "metadata": {},
     "outputs": [],
     "prompt_number": 7
    },
    {
     "cell_type": "code",
     "collapsed": false,
     "input": [
      "len(data)"
     ],
     "language": "python",
     "metadata": {},
     "outputs": [
      {
       "metadata": {},
       "output_type": "pyout",
       "prompt_number": 8,
       "text": [
        "348392"
       ]
      }
     ],
     "prompt_number": 8
    },
    {
     "cell_type": "code",
     "collapsed": false,
     "input": [
      "class Test:\n",
      "    def __enter__(self):\n",
      "        db = MySQLdb.connect(host=\"185.13.249.220\", port=3306, user=\"guest\", passwd=\"guest2015\", db=\"edxapp\")\n",
      "        print 'open'\n",
      "        self.__connection = db\n",
      "        return self\n",
      "    \n",
      "    def execute(self):\n",
      "        print 'execute'\n",
      "\n",
      "    def __exit__(self, type, value, traceback):\n",
      "        if self.__connection:\n",
      "            print 'close'\n",
      "            self.__connection.close()"
     ],
     "language": "python",
     "metadata": {},
     "outputs": [],
     "prompt_number": 10
    },
    {
     "cell_type": "code",
     "collapsed": false,
     "input": [
      "with Test() as t:\n",
      "    t.execute()\n",
      "print ' alala'"
     ],
     "language": "python",
     "metadata": {},
     "outputs": [
      {
       "output_type": "stream",
       "stream": "stdout",
       "text": [
        "open\n",
        "execute\n",
        "close\n",
        " alala\n"
       ]
      }
     ],
     "prompt_number": 11
    },
    {
     "cell_type": "code",
     "collapsed": false,
     "input": [
      "pd.read_sql(\"SELECT count( * ) FROM courseware_studentmodule WHERE student_id =8 AND course_id = 'NAUKMA/101/2014_T2'\",con=db)"
     ],
     "language": "python",
     "metadata": {},
     "outputs": [
      {
       "html": [
        "<div style=\"max-height:1000px;max-width:1500px;overflow:auto;\">\n",
        "<table border=\"1\" class=\"dataframe\">\n",
        "  <thead>\n",
        "    <tr style=\"text-align: right;\">\n",
        "      <th></th>\n",
        "      <th>count( * )</th>\n",
        "    </tr>\n",
        "  </thead>\n",
        "  <tbody>\n",
        "    <tr>\n",
        "      <th>0</th>\n",
        "      <td> 51</td>\n",
        "    </tr>\n",
        "  </tbody>\n",
        "</table>\n",
        "</div>"
       ],
       "metadata": {},
       "output_type": "pyout",
       "prompt_number": 21,
       "text": [
        "   count( * )\n",
        "0          51"
       ]
      }
     ],
     "prompt_number": 21
    },
    {
     "cell_type": "code",
     "collapsed": false,
     "input": [
      "cursor = db.cursor()\n",
      "cursor.execute(\"SELECT count( * ) FROM courseware_studentmodule WHERE student_id =8 AND course_id = 'NAUKMA/101/2014_T2'\")\n",
      "cursor.fetchone()[0]"
     ],
     "language": "python",
     "metadata": {},
     "outputs": [
      {
       "metadata": {},
       "output_type": "pyout",
       "prompt_number": 27,
       "text": [
        "50L"
       ]
      }
     ],
     "prompt_number": 27
    },
    {
     "cell_type": "code",
     "collapsed": false,
     "input": [],
     "language": "python",
     "metadata": {},
     "outputs": []
    }
   ],
   "metadata": {}
  }
 ]
}